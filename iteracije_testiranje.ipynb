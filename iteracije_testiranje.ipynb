{
 "cells": [
  {
   "cell_type": "code",
   "execution_count": 14,
   "id": "e87486",
   "metadata": {
    "collapsed": false
   },
   "outputs": [
   ],
   "source": [
    "import random\n",
    "\n",
    "def nakljucni_robovi_kromaticni_indeks(snark, n):\n",
    "    \"\"\"\n",
    "    Iterativno dodajanje 4-ciklov v graf (snark) in spremljanje kromatičnega indeksa.\n",
    "    Prav tako shranjuje uporabljene robove za vsako iteracijo.\n",
    "    \"\"\"\n",
    "    # Ustvarimo kopijo grafa, da originalni snark ostane nespremenjen\n",
    "    snark_copy = snark.copy()\n",
    "\n",
    "    # Tabela za shranjevanje rezultatov\n",
    "    tabela_rezultatov = []\n",
    "\n",
    "    # Začetni kromatični indeks\n",
    "    tabela_rezultatov.append([snark_copy.chromatic_index(), None, None])\n",
    "\n",
    "    for i in range(n):\n",
    "        # Izberemo prvi naključni rob iz grafa.\n",
    "        prvi_rob = random.choice(snark_copy.edges(labels=False))\n",
    "        # Izberemo drugi naključni rob, ki ni enak prvemu.\n",
    "        drugi_rob = random.choice([rob for rob in snark_copy.edges(labels=False) if rob != prvi_rob])\n",
    "\n",
    "        # Dodajanje novih vozlišč in povezav na prvem robu\n",
    "        u1, u2 = f'u1_{i}', f'u2_{i}'\n",
    "        snark_copy.add_edge(prvi_rob[0], u1)\n",
    "        snark_copy.add_edge(u1, u2)\n",
    "        snark_copy.add_edge(u2, prvi_rob[1])\n",
    "\n",
    "        # Dodajanje novih vozlišč in povezav na drugem robu\n",
    "        v1, v2 = f'v1_{i}', f'v2_{i}'\n",
    "        snark_copy.add_edge(drugi_rob[0], v1)\n",
    "        snark_copy.add_edge(v1, v2)\n",
    "        snark_copy.add_edge(v2, drugi_rob[1])\n",
    "\n",
    "        # Povezave med razširitvami obeh robov\n",
    "        snark_copy.add_edge(u1, v1)\n",
    "        snark_copy.add_edge(u2, v2)\n",
    "\n",
    "        # Izračun kromatičnega indeksa in shranjevanje v tabelo\n",
    "        krom_indeks = snark_copy.chromatic_index()\n",
    "        tabela_rezultatov.append([krom_indeks, prvi_rob, drugi_rob])\n",
    "\n",
    "    return tabela_rezultatov"
   ]
  },
  {
   "cell_type": "code",
   "execution_count": 36,
   "id": "19e594",
   "metadata": {
    "collapsed": false
   },
   "outputs": [
   ],
   "source": [
    "celmins_swart_snark_1 = Graph({0: [1, 2, 3], 1: [0, 23, 25], 2: [0, 21, 24], 3: [0, 20, 22],4: [8, 12, 14], 5: [6, 8, 13], 6: [5, 9, 14], 7: [10, 11, 15],8: [4, 5, 18], 9: [6, 10, 18], 10: [7, 9, 17], 11: [7, 19, 22],12: [4, 13, 25], 13: [5, 12, 21], 14: [4, 6, 21], 15: [7, 16, 20],16: [15, 17, 22], 17: [10, 16, 23], 18: [8, 9, 23], 19: [11, 20, 24],20: [3, 15, 19], 21: [2, 13, 14], 22: [3, 11, 16], 23: [1, 17, 18],24: [2, 19, 25], 25: [1, 12, 24]})\n",
    "\n",
    "double_star_snark = Graph({0: [1, 2, 3], 1: [0, 24, 27], 2: [0, 26, 29], 3: [0, 25, 28],4: [7, 8, 15], 5: [6, 11, 14], 6: [5, 10, 15], 7: [4, 9, 14],8: [4, 12, 16], 9: [7, 13, 17], 10: [6, 12, 17], 11: [5, 13, 16],12: [8, 10, 20], 13: [9, 11, 21], 14: [5, 7, 26], 15: [4, 6, 25],16: [8, 11, 27], 17: [9, 10, 27], 18: [21, 23, 29], 19: [20, 22, 28],20: [12, 19, 29], 21: [13, 18, 28], 22: [19, 24, 26], 23: [18, 24, 25],24: [1, 22, 23], 25: [3, 15, 23], 26: [2, 14, 22], 27: [1, 16, 17],28: [3, 19, 21], 29: [2, 18, 20]})\n",
    "\n",
    "flower_snark_j7 = Graph({0: [1, 2, 3], 1: [0, 22, 23], 2: [0, 25, 27], 3: [0, 24, 26],4: [7, 8, 12], 5: [6, 9, 12], 6: [5, 11, 13], 7: [4, 10, 13],8: [4, 14, 18], 9: [5, 14, 21], 10: [7, 15, 20], 11: [6, 15, 19],12: [4, 5, 17], 13: [6, 7, 16], 14: [8, 9, 26], 15: [10, 11, 27],16: [13, 17, 27], 17: [12, 16, 26], 18: [8, 22, 24], 19: [11, 22, 25],20: [10, 23, 25], 21: [9, 23, 24], 22: [1, 18, 19], 23: [1, 20, 21],24: [3, 18, 21], 25: [2, 19, 20], 26: [3, 14, 17], 27: [2, 15, 16]})\n",
    "\n",
    "goldberg_snark_3 = Graph({0: [1, 2, 3], 1: [0, 18, 20], 2: [0, 19, 21], 3: [0, 22, 23], 4: [5, 8, 13],5: [4, 9, 14], 6: [7, 10, 15], 7: [6, 11, 12], 8: [4, 12, 16],9: [5, 15, 17], 10: [6, 14, 17], 11: [7, 13, 16], 12: [7, 8, 21],13: [4, 11, 18], 14: [5, 10, 19], 15: [6, 9, 20], 16: [8, 11, 23],19: [9, 10, 22], 18: [1, 13, 19], 19: [2, 14, 18], 20: [1, 15, 21],21: [2, 12, 20], 22: [3, 17, 23], 23: [3, 16, 22]})\n",
    "\n",
    "goldberg_snark_5 = Graph({0: [1, 2, 3], 1: [0, 34, 39], 2: [0, 35, 37], 3: [0, 36, 38],4: [26, 27, 33], 5: [24, 25, 32], 6: [22, 23, 25], 7: [13, 14, 24],8: [23, 30, 31], 9: [10, 11, 22], 10: [11, 18, 21], 11: [9, 19, 20],12: [13, 16, 27], 13: [7, 12, 15], 14: [7, 16, 28], 15: [13, 19, 28],16: [12, 14, 21], 17: [20, 29, 30], 18: [10, 19, 31], 19: [11, 15, 18],20: [11, 17, 21], 21: [10, 16, 20], 22: [6, 9, 24], 23: [6, 8, 29],24: [5, 7, 22], 25: [5, 6, 39], 26: [4, 32, 37], 27: [4, 12, 35],28: [14, 15, 37], 29: [17, 23, 36], 30: [8, 17, 34], 31: [8, 18, 36],32: [5, 26, 35], 33: [4, 34, 38], 34: [1, 30, 33], 35: [2, 27, 32],36: [3, 29, 31], 37: [2, 26, 28], 38: [3, 33, 39], 39: [1, 25, 38]})\n",
    "\n",
    "loupekines_snark_1 = Graph({0: [1, 2, 3], 1: [0, 16, 21], 2: [0, 18, 20], 3: [0, 17, 19],4: [10, 12, 14], 5: [11, 13, 15], 6: [9, 12, 15], 7: [8, 13, 14],8: [7, 10, 16], 9: [6, 11, 16], 10: [4, 8, 17], 11: [5, 9, 18],12: [4, 6, 18], 13: [5, 7, 17], 14: [4, 7, 20], 15: [5, 6, 19],16: [1, 8, 9], 17: [3, 10, 13], 18: [2, 11, 12], 19: [3, 15, 21],20: [2, 14, 21], 21: [1, 19, 20]})\n",
    "\n",
    "loupekines_snark_2 = Graph({0: [1, 2, 3], 1: [0, 16, 21], 2: [0, 18, 20], 3: [0, 17, 19],4: [8, 10, 14], 5: [9, 11, 15], 6: [7, 12, 15], 7: [6, 13, 14],8: [4, 13, 16], 9: [5, 12, 16], 10: [4, 11, 17], 11: [5, 10, 18],12: [6, 9, 18], 13: [7, 8, 17], 14: [4, 7, 20], 15: [5, 6, 19],16: [1, 8, 9], 17: [3, 10, 13], 18: [2, 11, 12], 19: [3, 15, 21],20: [2, 14, 21], 21: [1, 19, 20]})\n",
    "G = graphs.PetersenGraph()"
   ]
  },
  {
   "cell_type": "code",
   "execution_count": 16,
   "id": "6a17ab",
   "metadata": {
    "collapsed": false
   },
   "outputs": [
    {
     "data": {
      "text/plain": [
       "[[4, None, None],\n",
       " [4, (11, 19), (16, 22)],\n",
       " [6, (11, 19), ('u2_0', 19)],\n",
       " [7, (11, 19), (7, 15)],\n",
       " [7, (11, 22), (6, 14)],\n",
       " [7, (2, 24), ('u1_1', 'u2_1')],\n",
       " [7, (9, 18), (6, 14)],\n",
       " [7, ('u1_3', 'v1_3'), (10, 17)],\n",
       " [7, ('u2_3', 22), ('u1_3', 'u1_6')],\n",
       " [7, (5, 8), ('u1_2', 'u2_2')],\n",
       " [8, (19, 20), ('v1_7', 'v2_7')],\n",
       " [9, (11, 19), ('v2_2', 15)],\n",
       " [10, (12, 25), ('u2_2', 19)],\n",
       " [10, ('v1_4', 'v2_4'), (12, 25)],\n",
       " [10, (12, 25), ('u1_12', 'v1_4')],\n",
       " [10, (5, 13), ('v1_8', 'v2_8')],\n",
       " [10, ('v2_7', 'v2_9'), ('u1_11', 'u2_11')],\n",
       " [10, ('v2_3', 14), ('u1_0', 'u2_0')],\n",
       " [10, ('u1_8', 5), ('v1_14', 'v1_8')],\n",
       " [10, ('u1_2', 'u2_2'), ('u2_14', 'v2_14')],\n",
       " [11, ('u1_11', 'u2_11'), ('u2_1', 19)]]"
      ]
     },
     "execution_count": 16,
     "metadata": {
     },
     "output_type": "execute_result"
    }
   ],
   "source": [
    "nakljucni_robovi_kromaticni_indeks(celmins_swart_snark_1,20)"
   ]
  },
  {
   "cell_type": "code",
   "execution_count": 17,
   "id": "ab95b2",
   "metadata": {
    "collapsed": false
   },
   "outputs": [
    {
     "data": {
      "text/plain": [
       "[[4, None, None],\n",
       " [4, (6, 15), (21, 28)],\n",
       " [4, (2, 26), (16, 27)],\n",
       " [4, (4, 8), (10, 12)],\n",
       " [5, (21, 28), (9, 13)],\n",
       " [7, (21, 28), (13, 21)],\n",
       " [7, ('u1_3', 'v1_3'), (3, 28)],\n",
       " [8, (13, 21), ('v1_3', 'v2_3')],\n",
       " [8, (6, 10), ('u1_2', 4)],\n",
       " [8, ('u2_2', 'v2_2'), (8, 16)],\n",
       " [8, (5, 11), ('v2_3', 'v2_6')],\n",
       " [8, (19, 28), ('u2_7', 'v2_7')],\n",
       " [9, ('u2_5', 'v1_3'), ('u2_3', 28)],\n",
       " [9, ('u2_1', 'v2_1'), ('v1_2', 10)],\n",
       " [9, ('u2_7', 'v1_10'), ('v1_8', 8)],\n",
       " [9, ('v2_3', 13), (5, 6)],\n",
       " [9, ('u2_3', 'v2_3'), ('v1_11', 'v2_11')],\n",
       " [9, (10, 17), ('v1_13', 'v2_13')],\n",
       " [9, ('u1_11', 'u2_5'), (4, 7)],\n",
       " [9, ('u2_2', 'v2_2'), ('u1_16', 10)],\n",
       " [9, (9, 17), ('v1_1', 16)]]"
      ]
     },
     "execution_count": 17,
     "metadata": {
     },
     "output_type": "execute_result"
    }
   ],
   "source": [
    "nakljucni_robovi_kromaticni_indeks(double_star_snark,20)"
   ]
  },
  {
   "cell_type": "code",
   "execution_count": 18,
   "id": "137fa2",
   "metadata": {
    "collapsed": false
   },
   "outputs": [
    {
     "data": {
      "text/plain": [
       "[[4, None, None],\n",
       " [4, (21, 23), (19, 25)],\n",
       " [4, (4, 7), (0, 3)],\n",
       " [5, (3, 26), ('u1_0', 21)],\n",
       " [6, (21, 23), (13, 16)],\n",
       " [6, ('u2_1', 7), (18, 22)],\n",
       " [8, (9, 21), ('u1_0', 21)],\n",
       " [8, ('u1_4', 'u2_4'), ('u2_2', 26)],\n",
       " [8, (0, 2), (2, 25)],\n",
       " [8, ('u1_5', 9), ('u1_7', 0)],\n",
       " [8, ('v2_8', 0), ('u1_2', 'u2_2')],\n",
       " [8, (0, 2), ('u2_5', 'v2_5')],\n",
       " [9, (21, 23), ('u2_2', 'v2_2')],\n",
       " [9, (6, 11), ('v2_0', 25)],\n",
       " [9, ('v1_9', 'v2_9'), ('v1_4', 18)],\n",
       " [10, ('v1_12', 'v2_12'), ('u2_5', 21)],\n",
       " [10, (0, 1), (16, 27)],\n",
       " [10, ('u2_0', 'v2_0'), ('v1_13', 'v2_13')],\n",
       " [10, ('u2_2', 26), ('u1_5', 'u1_8')],\n",
       " [10, ('u2_11', 23), ('v1_13', 'v1_4')],\n",
       " [10, ('u2_15', 1), (4, 7)]]"
      ]
     },
     "execution_count": 18,
     "metadata": {
     },
     "output_type": "execute_result"
    }
   ],
   "source": [
    "nakljucni_robovi_kromaticni_indeks(flower_snark_j7,20)"
   ]
  },
  {
   "cell_type": "code",
   "execution_count": 19,
   "id": "07cf6d",
   "metadata": {
    "collapsed": false
   },
   "outputs": [
    {
     "data": {
      "text/plain": [
       "[[4, None, None],\n",
       " [4, (4, 13), (15, 20)],\n",
       " [4, (16, 23), (3, 22)],\n",
       " [4, (6, 7), ('v1_0', 'v2_0')],\n",
       " [5, (0, 3), ('u1_1', 16)],\n",
       " [5, (18, 19), ('u2_3', 'v2_3')],\n",
       " [6, (8, 16), (9, 17)],\n",
       " [6, (14, 19), ('u2_2', 'v2_2')],\n",
       " [6, ('u1_3', 'u2_3'), ('u1_6', 'u2_6')],\n",
       " [6, (9, 17), ('u1_6', 'v1_7')],\n",
       " [6, ('u1_2', 6), (3, 23)],\n",
       " [7, ('u1_9', 'u2_9'), (8, 16)],\n",
       " [7, ('u2_6', 19), ('u1_10', 'u2_10')],\n",
       " [7, (10, 14), (13, 18)],\n",
       " [7, ('u1_3', 'u2_3'), ('v1_3', 'v2_3')],\n",
       " [7, ('v1_6', 'v2_6'), ('v1_10', 'v2_10')],\n",
       " [8, (16, 23), ('u1_7', 'u2_7')],\n",
       " [8, ('v1_9', 3), ('v1_2', 'v2_2')],\n",
       " [8, ('u1_13', 'v1_13'), ('u2_1', 'v2_1')],\n",
       " [8, (5, 14), ('u1_10', 'u2_10')],\n",
       " [8, ('v1_1', 'v2_1'), ('u1_7', 'v1_7')]]"
      ]
     },
     "execution_count": 19,
     "metadata": {
     },
     "output_type": "execute_result"
    }
   ],
   "source": [
    "nakljucni_robovi_kromaticni_indeks(goldberg_snark_3,20)"
   ]
  },
  {
   "cell_type": "code",
   "execution_count": 20,
   "id": "8aca99",
   "metadata": {
    "collapsed": false
   },
   "outputs": [
    {
     "data": {
      "text/plain": [
       "[[4, None, None],\n",
       " [5, (30, 34), (11, 20)],\n",
       " [5, (23, 29), (7, 13)],\n",
       " [5, (6, 23), (5, 32)],\n",
       " [5, ('v2_2', 32), (22, 24)],\n",
       " [5, ('u2_0', 34), (27, 35)],\n",
       " [5, (38, 39), (12, 16)],\n",
       " [5, (9, 22), ('u1_0', 'v1_0')],\n",
       " [5, ('u1_6', 9), (7, 24)],\n",
       " [5, (25, 39), (31, 36)],\n",
       " [6, ('u1_6', 'u2_6'), ('u2_2', 23)],\n",
       " [6, (16, 21), (15, 28)],\n",
       " [6, ('v1_1', 'v2_1'), (25, 39)],\n",
       " [6, (15, 19), (15, 28)],\n",
       " [6, ('u2_10', 21), ('u1_5', 'u2_5')],\n",
       " [6, ('u1_10', 'u2_10'), (12, 27)],\n",
       " [6, (5, 24), ('u1_7', 'u2_7')],\n",
       " [7, ('u2_5', 39), ('v2_8', 36)],\n",
       " [7, (18, 19), (5, 25)],\n",
       " [7, ('u1_1', 'v1_1'), ('v1_15', 'v2_15')],\n",
       " [7, ('u2_11', 'v2_11'), ('u1_6', 'u1_7')]]"
      ]
     },
     "execution_count": 20,
     "metadata": {
     },
     "output_type": "execute_result"
    }
   ],
   "source": [
    "nakljucni_robovi_kromaticni_indeks(goldberg_snark_5,20)"
   ]
  },
  {
   "cell_type": "code",
   "execution_count": 21,
   "id": "2a6491",
   "metadata": {
    "collapsed": false
   },
   "outputs": [
    {
     "data": {
      "text/plain": [
       "[[4, None, None],\n",
       " [4, (11, 18), (5, 15)],\n",
       " [5, (8, 16), (2, 18)],\n",
       " [5, (1, 16), (0, 3)],\n",
       " [5, (4, 10), ('u1_2', 'u2_2')],\n",
       " [6, (8, 16), (8, 10)],\n",
       " [6, ('u1_1', 'v1_1'), ('u2_4', 'v2_4')],\n",
       " [7, (9, 16), ('u2_0', 'v2_0')],\n",
       " [7, (10, 17), ('u2_4', 'v2_4')],\n",
       " [7, (8, 10), ('u1_2', 1)],\n",
       " [8, ('u1_1', 8), ('u2_4', 'v2_4')],\n",
       " [8, ('v1_1', 2), ('v1_2', 0)],\n",
       " [8, (5, 13), (5, 15)],\n",
       " [8, ('u2_10', 'v2_10'), (12, 18)],\n",
       " [8, ('u2_11', 'v2_11'), ('u2_1', 16)],\n",
       " [9, ('u2_9', 8), ('u1_4', 'v1_4')],\n",
       " [9, ('v1_12', 12), ('u2_14', 'v2_14')],\n",
       " [9, ('u2_3', 10), (19, 21)],\n",
       " [9, (19, 21), ('v1_9', 'v2_9')],\n",
       " [9, (7, 13), ('u2_17', 21)],\n",
       " [9, ('u1_15', 'v1_15'), ('u2_1', 'v2_1')]]"
      ]
     },
     "execution_count": 21,
     "metadata": {
     },
     "output_type": "execute_result"
    }
   ],
   "source": [
    "nakljucni_robovi_kromaticni_indeks(loupekines_snark_1,20)"
   ]
  },
  {
   "cell_type": "code",
   "execution_count": 35,
   "id": "97e77a",
   "metadata": {
    "collapsed": false
   },
   "outputs": [
    {
     "data": {
      "text/plain": [
       "[[4, None, None],\n",
       " [5, (6, 7), (7, 13)],\n",
       " [5, (5, 9), (9, 16)],\n",
       " [5, ('u1_1', 'u2_1'), (0, 3)],\n",
       " [5, ('v1_2', 'v2_2'), ('u1_0', 6)],\n",
       " [6, ('u1_1', 'u2_1'), ('u1_1', 'u1_2')],\n",
       " [6, ('v1_1', 'v2_1'), (6, 7)],\n",
       " [6, ('u1_3', 'u2_3'), ('u2_1', 9)],\n",
       " [7, ('u1_3', 'u2_3'), ('u2_1', 'v1_6')],\n",
       " [7, ('u1_6', 'v1_6'), ('u1_3', 'u2_3')],\n",
       " [7, ('u1_8', 'u2_8'), ('u1_8', 'v1_8')],\n",
       " [7, (15, 19), ('u1_0', 6)],\n",
       " [7, ('u1_3', 'v1_2'), ('u2_10', 19)],\n",
       " [9, ('u2_1', 'u2_4'), ('u2_1', 'v2_1')],\n",
       " [10, (1, 16), ('u2_1', 'v1_12')],\n",
       " [11, ('v2_1', 'v2_12'), ('u2_1', 9)],\n",
       " [11, ('v1_13', 'v2_13'), (5, 11)],\n",
       " [11, ('u1_1', 5), ('v2_11', 19)],\n",
       " [11, ('u1_6', 'u1_8'), ('u2_2', 'v2_2')],\n",
       " [11, (1, 21), ('u1_1', 'u1_16')],\n",
       " [11, ('u2_7', 'v2_7'), (11, 18)]]"
      ]
     },
     "execution_count": 35,
     "metadata": {
     },
     "output_type": "execute_result"
    }
   ],
   "source": [
    "nakljucni_robovi_kromaticni_indeks(loupekines_snark_2,20)"
   ]
  },
  {
   "cell_type": "code",
   "execution_count": 48,
   "id": "7713cd",
   "metadata": {
    "collapsed": false
   },
   "outputs": [
    {
     "data": {
      "text/plain": [
       "[[4, None, None],\n",
       " [4, (2, 7), (3, 4)],\n",
       " [4, ('u1_0', 'v1_0'), (6, 9)],\n",
       " [5, ('u1_0', 'u2_0'), (5, 8)],\n",
       " [6, ('u1_0', 'v1_0'), ('v2_0', 4)],\n",
       " [7, ('u1_0', 'v1_0'), ('u2_1', 'v1_0')],\n",
       " [7, ('u2_1', 'v2_1'), ('u1_3', 'u2_3')],\n",
       " [7, (0, 1), ('u1_3', 'u2_3')],\n",
       " [8, ('u1_0', 'u1_1'), ('u1_4', 'v1_4')],\n",
       " [8, ('u2_3', 'v2_5'), ('v2_2', 8)],\n",
       " [8, ('u1_5', 'u2_5'), ('u1_4', 'v1_7')],\n",
       " [8, ('u1_9', 'u2_9'), ('u2_3', 'v2_5')],\n",
       " [8, ('v2_0', 4), ('v1_10', 'v2_10')],\n",
       " [8, ('u2_4', 'v1_0'), ('u1_8', 'u2_3')],\n",
       " [9, ('u2_4', 'v1_0'), ('u1_4', 'v1_4')],\n",
       " [9, ('u2_8', 'v2_5'), ('u2_5', 'u2_9')],\n",
       " [9, ('v1_4', 'v2_7'), ('u1_13', 'u2_13')],\n",
       " [9, ('u1_9', 'v1_9'), ('u2_3', 'v2_12')],\n",
       " [9, ('u1_1', 'u2_7'), ('u2_6', 'v2_6')],\n",
       " [9, ('u1_8', 'v1_8'), ('u2_6', 'v2_6')],\n",
       " [10, ('u2_14', 'v2_14'), ('u2_12', 'v1_0')]]"
      ]
     },
     "execution_count": 48,
     "metadata": {
     },
     "output_type": "execute_result"
    }
   ],
   "source": [
    "nakljucni_robovi_kromaticni_indeks(G,20)"
   ]
  },
  {
   "cell_type": "markdown",
   "id": "8abc7c",
   "metadata": {
    "collapsed": false
   },
   "source": [
    "Opazimo, da se kromatični indeks ohrani \\(t. ostane 4\\), če v prvem koraku izberemo povezavi, ki nista sosednji. V naslednjih korakih se pa ohrani, če izberemo povezave, ki niso sosednje z nobeno izmed prej izbranih, niti z drugo povezavo v tem koraku.\n",
    "\n"
   ]
  }
 ],
 "metadata": {
  "kernelspec": {
   "argv": [
    "sage-10.4",
    "--python",
    "-m",
    "sage.repl.ipython_kernel",
    "--matplotlib=inline",
    "-f",
    "{connection_file}"
   ],
   "display_name": "SageMath 10.4",
   "env": {
   },
   "language": "sagemath",
   "metadata": {
    "cocalc": {
     "description": "Open-source mathematical software system",
     "priority": 10,
     "url": "https://www.sagemath.org/"
    }
   },
   "name": "sage-10.4",
   "resource_dir": "/ext/jupyter/kernels/sage-10.4"
  },
  "language_info": {
   "codemirror_mode": {
    "name": "ipython",
    "version": 3
   },
   "file_extension": ".py",
   "mimetype": "text/x-python",
   "name": "python",
   "nbconvert_exporter": "python",
   "pygments_lexer": "ipython3",
   "version": "3.12.4"
  }
 },
 "nbformat": 4,
 "nbformat_minor": 4
}