{
 "cells": [
  {
   "cell_type": "markdown",
   "id": "8acab1",
   "metadata": {
    "collapsed": false
   },
   "source": [
    "Najine hipoteze so:\n",
    "\n",
    "1. Kromatični indeks v večini primerov pade na 3.\n",
    "2. Kromatični indeks se ohrani v primeru,da je povezava del najkrajšega cikla. Dolžina cikla <= 4\n",
    "3. Kromatični indeks se nikoli ne vrne nazaj na 4, ko je enkrat že 3.\n",
    "\n"
   ]
  },
  {
   "cell_type": "markdown",
   "id": "a4f826",
   "metadata": {
    "collapsed": false
   },
   "source": [
    "Najprej naložima snarke:\n"
   ]
  },
  {
   "cell_type": "code",
   "execution_count": 7,
   "id": "6da614",
   "metadata": {
    "collapsed": false
   },
   "outputs": [
   ],
   "source": [
    "G = graphs.PetersenGraph()\n",
    "blanusa_snark_1 = Graph({\n",
    "    0: [1, 5, 6], 1: [0, 2, 7], 2: [1, 3, 8], 3: [2, 4, 9],\n",
    "    4: [3, 5, 10], 5: [0, 4, 11], 6: [0, 8, 10], 7: [1, 9, 11],\n",
    "    8: [2, 6, 11], 9: [3, 7, 10], 10: [4, 6, 9], 11: [5, 7, 8]\n",
    "})\n",
    "blanusa_snark_2 = Graph({\n",
    "    0: [1, 4, 5], 1: [0, 2, 6], 2: [1, 3, 7], 3: [2, 4, 8],\n",
    "    4: [0, 3, 9], 5: [0, 7, 8], 6: [1, 8, 9], 7: [2, 5, 9],\n",
    "    8: [3, 5, 6], 9: [4, 6, 7]\n",
    "})\n",
    "tietze_snark = Graph({\n",
    "    0: [1, 2, 3], 1: [0, 4, 5], 2: [0, 6, 7], 3: [0, 8, 9],\n",
    "    4: [1, 6, 10], 5: [1, 7, 11], 6: [2, 4, 12], 7: [2, 5, 13],\n",
    "    8: [3, 10, 12], 9: [3, 11, 13], 10: [4, 8, 14], 11: [5, 9, 15],\n",
    "    12: [6, 8, 14], 13: [7, 9, 15], 14: [10, 12, 15], 15: [11, 13, 14]\n",
    "})\n",
    "celmins_swart_snark_1 = Graph({0: [1, 2, 3], 1: [0, 23, 25], 2: [0, 21, 24], 3: [0, 20, 22],4: [8, 12, 14], 5: [6, 8, 13], 6: [5, 9, 14], 7: [10, 11, 15],8: [4, 5, 18], 9: [6, 10, 18], 10: [7, 9, 17], 11: [7, 19, 22],12: [4, 13, 25], 13: [5, 12, 21], 14: [4, 6, 21], 15: [7, 16, 20],16: [15, 17, 22], 17: [10, 16, 23], 18: [8, 9, 23], 19: [11, 20, 24],20: [3, 15, 19], 21: [2, 13, 14], 22: [3, 11, 16], 23: [1, 17, 18],24: [2, 19, 25], 25: [1, 12, 24]})\n",
    "celmins_swart_snark_2 = Graph({0: [1, 2, 3], 1: [0, 21, 25], 2: [0, 22, 23], 3: [0, 20, 24],4: [5, 6, 9], 5: [4, 13, 16], 6: [4, 12, 17], 7: [8, 11, 17],8: [7, 12, 19], 9: [4, 10, 14], 10: [9, 11, 16], 11: [7, 10, 18], 12: [6, 8, 15], 13: [5, 14, 15], 14: [9, 13, 23], 15: [12, 13, 20],16: [5, 10, 21], 17: [6, 7, 20], 18: [11, 19, 21], 19: [8, 18, 22],20: [3, 15, 17], 21: [1, 16, 18], 22: [2, 19, 25], 23: [2, 14, 24],24: [3, 23, 25], 25: [1, 22, 24]})\n",
    "double_star_snark = Graph({0: [1, 2, 3], 1: [0, 24, 27], 2: [0, 26, 29], 3: [0, 25, 28],4: [7, 8, 15], 5: [6, 11, 14], 6: [5, 10, 15], 7: [4, 9, 14],8: [4, 12, 16], 9: [7, 13, 17], 10: [6, 12, 17], 11: [5, 13, 16],12: [8, 10, 20], 13: [9, 11, 21], 14: [5, 7, 26], 15: [4, 6, 25],16: [8, 11, 27], 17: [9, 10, 27], 18: [21, 23, 29], 19: [20, 22, 28],20: [12, 19, 29], 21: [13, 18, 28], 22: [19, 24, 26], 23: [18, 24, 25],24: [1, 22, 23], 25: [3, 15, 23], 26: [2, 14, 22], 27: [1, 16, 17],28: [3, 19, 21], 29: [2, 18, 20]})\n",
    "flower_snark_j5 = Graph({0: [1, 2, 3], 1: [0, 14, 15], 2: [0, 17, 19], 3: [0, 16, 18],4: [7, 8, 9], 5: [6, 10, 11], 6: [5, 9, 14], 7: [4, 10, 15],8: [4, 11, 16], 9: [4, 6, 17], 10: [5, 7, 19], 11: [5, 8, 18],12: [14, 18, 19], 13: [15, 16, 17], 14: [1, 6, 12], 15: [1, 7, 13],16: [3, 8, 13], 17: [2, 9, 13], 18: [3, 11, 12], 19: [2, 10, 12]})\n",
    "flower_snark_j7 = Graph({0: [1, 2, 3], 1: [0, 22, 23], 2: [0, 25, 27], 3: [0, 24, 26],4: [7, 8, 12], 5: [6, 9, 12], 6: [5, 11, 13], 7: [4, 10, 13],8: [4, 14, 18], 9: [5, 14, 21], 10: [7, 15, 20], 11: [6, 15, 19],12: [4, 5, 17], 13: [6, 7, 16], 14: [8, 9, 26], 15: [10, 11, 27],16: [13, 17, 27], 17: [12, 16, 26], 18: [8, 22, 24], 19: [11, 22, 25],20: [10, 23, 25], 21: [9, 23, 24], 22: [1, 18, 19], 23: [1, 20, 21],24: [3, 18, 21], 25: [2, 19, 20], 26: [3, 14, 17], 27: [2, 15, 16]})\n",
    "goldberg_snark_3 = Graph({0: [1, 2, 3], 1: [0, 18, 20], 2: [0, 19, 21], 3: [0, 22, 23], 4: [5, 8, 13],5: [4, 9, 14], 6: [7, 10, 15], 7: [6, 11, 12], 8: [4, 12, 16],9: [5, 15, 17], 10: [6, 14, 17], 11: [7, 13, 16], 12: [7, 8, 21],13: [4, 11, 18], 14: [5, 10, 19], 15: [6, 9, 20], 16: [8, 11, 23],19: [9, 10, 22], 18: [1, 13, 19], 19: [2, 14, 18], 20: [1, 15, 21],21: [2, 12, 20], 22: [3, 17, 23], 23: [3, 16, 22]})\n",
    "loupekines_snark_1 = Graph({0: [1, 2, 3], 1: [0, 16, 21], 2: [0, 18, 20], 3: [0, 17, 19],4: [10, 12, 14], 5: [11, 13, 15], 6: [9, 12, 15], 7: [8, 13, 14],8: [7, 10, 16], 9: [6, 11, 16], 10: [4, 8, 17], 11: [5, 9, 18],12: [4, 6, 18], 13: [5, 7, 17], 14: [4, 7, 20], 15: [5, 6, 19],16: [1, 8, 9], 17: [3, 10, 13], 18: [2, 11, 12], 19: [3, 15, 21],20: [2, 14, 21], 21: [1, 19, 20]})\n",
    "loupekines_snark_2 = Graph({0: [1, 2, 3], 1: [0, 16, 21], 2: [0, 18, 20], 3: [0, 17, 19],4: [8, 10, 14], 5: [9, 11, 15], 6: [7, 12, 15], 7: [6, 13, 14],8: [4, 13, 16], 9: [5, 12, 16], 10: [4, 11, 17], 11: [5, 10, 18],12: [6, 9, 18], 13: [7, 8, 17], 14: [4, 7, 20], 15: [5, 6, 19],16: [1, 8, 9], 17: [3, 10, 13], 18: [2, 11, 12], 19: [3, 15, 21],20: [2, 14, 21], 21: [1, 19, 20]})\n",
    "snark_2760 = Graph({0: [1, 2, 3], 1: [0, 15, 17], 2: [0, 14, 16], 3: [0, 12, 13], 4: [5, 9, 11],5: [4, 7, 8], 6: [7, 9, 12], 7: [5, 6, 13], 8: [5, 10, 12], 9: [4, 6, 16],10: [8, 13, 17], 11: [4, 14, 15], 12: [3, 6, 8], 13: [3, 7, 10], 14: [2, 11, 17],15: [1, 11, 16], 16: [2, 9, 15], 17: [1, 10, 14]})\n",
    "snark_3337 = Graph({0: [1, 2, 3], 1: [0, 29, 32], 2: [0, 28, 33], 3: [0, 30, 31], 4: [12, 14, 18],5: [13, 15, 19], 6: [11, 14, 16], 7: [10, 15, 17], 8: [9, 26, 27], 9: [8, 16, 17],10: [7, 13, 20], 11: [6, 12, 21], 12: [4, 11, 23], 13: [5, 10, 22],14: [4, 6, 24], 15: [5, 7, 25], 16: [6, 9, 23], 17: [7, 9, 22], 18: [4, 21, 25],19: [5, 20, 24], 20: [10, 19, 31], 21: [11, 18, 30], 22: [13, 17, 31],23: [12, 16, 30], 24: [14, 19, 29], 25: [15, 18, 28], 26: [8, 29, 33], 27: [8, 28, 32], 28: [2, 25, 27], 29: [1, 24, 26], 30: [3, 21, 23], 31: [3, 20, 22], 32: [1, 27, 33], 33: [2, 26, 32]})\n",
    "snark_3363 = Graph({0: [1, 2, 3], 1: [0, 30, 35], 2: [0, 32, 34], 3: [0, 31, 33], 4: [11, 25, 29],5: [9, 10, 27], 6: [8, 12, 29], 7: [15, 24, 28], 8: [6, 17, 26], 9: [5, 11, 16],10: [5, 13, 28], 11: [4, 9, 14], 12: [6, 19, 24], 13: [10, 18, 25], 14: [11, 15, 20],15: [7, 14, 21], 16: [9, 17, 21], 17: [8, 16, 20], 18: [13, 23, 27], 19: [12, 23, 26], 20: [14, 17, 22], 21: [15, 16, 22], 22: [20, 21, 30],23: [18, 19, 30], 24: [7, 12, 32], 25: [4, 13, 31], 26: [8, 19, 32], 27: [5, 18, 31], 28: [7, 10, 34], 29: [4, 6, 33], 30: [1, 22, 23], 31: [3, 25, 27],32: [2, 24, 26], 33: [3, 29, 35], 34: [2, 28, 35], 35: [1, 33, 34]})\n",
    "graf_25159 = Graph({0: [1, 2, 3], 1: [0, 42, 43], 2: [0, 39, 40], 3: [0, 38, 41], 4: [9, 12, 13], 5: [8, 10, 11], 6: [7, 14, 16], 7: [6, 15, 17], 8: [5, 14, 15], 9: [4, 16, 17], 10: [5, 13, 18], 11: [5, 12, 19], 12: [4, 11, 18], 13: [4, 10, 19], 14: [6, 8, 20], 15: [7, 8, 21], 16: [6, 9, 21], 17: [7, 9, 20], 18: [10, 12, 22], 19: [11, 13, 23], 20: [14, 17, 25], 21: [15, 16, 24], 22: [18, 28, 29], 23: [19, 26, 27], 24: [21, 32, 33], 25: [20, 30, 31], 26: [23, 29, 34], 27: [23, 28, 35], 28: [22, 27, 34], 29: [22, 26, 35], 30: [25, 33, 37], 31: [25, 32, 36], 32: [24, 31, 37], 33: [24, 30, 36], 34: [26, 28, 38], 35: [27, 29, 39], 36: [31, 33, 41], 37: [30, 32, 40], 38: [3, 34, 43], 39: [2, 35, 42], 40: [2, 37, 43], 41: [3, 36, 42], 42: [1, 39, 41], 43: [1, 38, 40]})\n"
   ]
  },
  {
   "cell_type": "markdown",
   "id": "2a7fc3",
   "metadata": {
    "collapsed": false
   },
   "source": [
    "Zdaj pa še Algoritem 2:\n"
   ]
  },
  {
   "cell_type": "code",
   "execution_count": 4,
   "id": "aee70f",
   "metadata": {
    "collapsed": false
   },
   "outputs": [
   ],
   "source": [
    "import random\n",
    "from random import shuffle\n",
    "\n",
    "def algoritem_2(snark):\n",
    "    snark = snark.copy()\n",
    "    \"\"\"\n",
    "    Transformira graf z določenim pravilom: odstrani dve vozlišči, doda štiri nova in jih poveže v 4-cikel.\n",
    "    \n",
    "    :param snark: Graf, ki predstavlja vhodni graf.\n",
    "    :return: kromatični indeks.\n",
    "    \"\"\"\n",
    "    # Kopiramo seznam povezav za varno iteracijo\n",
    "    povezave = snark.edges(labels=False)\n",
    "    n = snark.order()\n",
    "    \n",
    "    # Izberi naključno povezavo\n",
    "    a, b = random.choice(povezave)\n",
    "    \n",
    "    # Pridobi sosede vozlišč a in b (brez medsebojnih povezav)\n",
    "    sosedi_a = [v for v in snark.neighbors(a) if v != b]\n",
    "    sosedi_b = [v for v in snark.neighbors(b) if v != a]\n",
    "    \n",
    "    if len(sosedi_a) != 2 or len(sosedi_b) != 2:\n",
    "        raise ValueError(\"Vozlišči a in b nimata točno dveh drugih sosedov.\")\n",
    "    \n",
    "    a1, a2 = sosedi_a\n",
    "    b1, b2 = sosedi_b\n",
    "    \n",
    "    # Odstranimo vozlišča a in b\n",
    "    snark.delete_vertices([a, b])\n",
    "    \n",
    "    # Dodamo nova vozlišča\n",
    "    nova_vozlisca = [n, n+1, n+2, n+3]\n",
    "    snark.add_vertices(nova_vozlisca)\n",
    "    \n",
    "    # Povežemo nova vozlišča z ustreznimi starimi\n",
    "    snark.add_edge(a1, n)\n",
    "    snark.add_edge(a2, n+1)\n",
    "    snark.add_edge(b1, n+2)\n",
    "    snark.add_edge(b2, n+3)\n",
    "    \n",
    "    # Povezave v naključnem 4-ciklu\n",
    "    random.shuffle(nova_vozlisca)\n",
    "    snark.add_edges([(nova_vozlisca[i], nova_vozlisca[(i + 1) % 4]) for i in range(4)])\n",
    "    \n",
    "    # Preverimo kromatični indeks\n",
    "    krom_indeks = snark.chromatic_index()\n",
    "    \n",
    "    return krom_indeks, (a,b)\n"
   ]
  },
  {
   "cell_type": "code",
   "execution_count": 35,
   "id": "9b6042",
   "metadata": {
    "collapsed": false
   },
   "outputs": [
    {
     "data": {
      "text/plain": [
       "(3, (5, 8))"
      ]
     },
     "execution_count": 35,
     "metadata": {
     },
     "output_type": "execute_result"
    }
   ],
   "source": [
    "algoritem_2(G)"
   ]
  },
  {
   "cell_type": "code",
   "execution_count": 4,
   "id": "88e6d4",
   "metadata": {
    "collapsed": false
   },
   "outputs": [
    {
     "data": {
      "text/plain": [
       "(3, (19, 24))"
      ]
     },
     "execution_count": 4,
     "metadata": {
     },
     "output_type": "execute_result"
    }
   ],
   "source": [
    "algoritem_2(celmins_swart_snark_1)"
   ]
  },
  {
   "cell_type": "code",
   "execution_count": 5,
   "id": "27b505",
   "metadata": {
    "collapsed": false
   },
   "outputs": [
    {
     "data": {
      "image/png": "[encoded data removed]",
      "text/plain": [
       "Graphics object consisting of 26 graphics primitives"
      ]
     },
     "execution_count": 5,
     "metadata": {
     },
     "output_type": "execute_result"
    }
   ],
   "source": [
    "G.plot()"
   ]
  },
  {
   "cell_type": "markdown",
   "id": "44f401",
   "metadata": {
    "collapsed": false
   },
   "source": [
    "Algoritem, ki k\\_krat požene kodo algoritem\\_2 na osnovnem snarku. Gledamo toraj le prvo uvedbo 4 cikla.\n"
   ]
  },
  {
   "cell_type": "code",
   "execution_count": 5,
   "id": "4fc7d6",
   "metadata": {
    "collapsed": false
   },
   "outputs": [
   ],
   "source": [
    "import random\n",
    "from random import shuffle\n",
    "\n",
    "def ponavljaj_algoritem_2(snark, k):\n",
    "    snark=snark.copy()\n",
    "    \"\"\"\n",
    "    Izvede algoritem za transformacijo grafa z dodajanjem 4-ciklov k-krat.\n",
    "    \n",
    "    :param snark: Graf, ki predstavlja snark.\n",
    "    :param k: Število iteracij algoritma.\n",
    "    :return: Tuple (seznam kromatičnih indeksov, seznam odstranjenih oglišč).\n",
    "    \"\"\"\n",
    "    # Seznam za shranjevanje rezultatov\n",
    "    kromaticni_indeksi = []\n",
    "    odstranjena_vozlisca = []\n",
    "    \n",
    "    # Za vsako iteracijo\n",
    "    for _ in range(k):\n",
    "        # Klic funkcije algoritem_2\n",
    "        krom_indeks, odstranjenje = algoritem_2(snark)\n",
    "        \n",
    "        # Shranimo rezultat\n",
    "        kromaticni_indeksi.append(krom_indeks)\n",
    "        odstranjena_vozlisca.append(odstranjenje)\n",
    "    \n",
    "    # Vrni seznam vseh kromatičnih indeksov in seznam odstranjenih vozlišč\n",
    "    return [(kromaticni_indeksi[i], odstranjena_vozlisca[i]) for i in range(k)]\n",
    "\n",
    "# Zagon funkcije z vašim grafom snark in številom k iteracij\n",
    "# Primer: iteriraj_algoritem_2(graf, 5) za 5 iteracij\n"
   ]
  },
  {
   "cell_type": "code",
   "execution_count": 6,
   "id": "8dc031",
   "metadata": {
    "collapsed": false
   },
   "outputs": [
   ],
   "source": [
    "def ponavljaj_algoritem_2_samo_4(snark, k):\n",
    "    \"\"\"\n",
    "    Izvede algoritem za transformacijo grafa z dodajanjem 4-ciklov k-krat.\n",
    "    Vrnemo le rezultate, kjer je kromatični indeks enak 4.\n",
    "    \n",
    "    :param snark: Graf, ki predstavlja snark.\n",
    "    :param k: Število iteracij algoritma.\n",
    "    :return: Seznam tuple (kromatični indeks, odstranjena vozlišča) za tiste iteracije, kjer je kromatični indeks 4.\n",
    "    \"\"\"\n",
    "    snark = snark.copy()\n",
    "    rezultati = []\n",
    "    \n",
    "    # Izvedi algoritem k-krat\n",
    "    for _ in range(k):\n",
    "        try:\n",
    "            # Klic funkcije algoritem_2\n",
    "            krom_indeks, odstranjena_povezava = algoritem_2(snark)\n",
    "            \n",
    "            # Shrani samo tiste, kjer je kromatični indeks enak 4\n",
    "            if krom_indeks == 4:\n",
    "                rezultati.append((krom_indeks, odstranjena_povezava))\n",
    "        except Exception as e:\n",
    "            # Če se pojavi napaka (npr. neveljavna konfiguracija grafa), jo ignoriramo\n",
    "            print(f\"Napaka: {e}\")\n",
    "    \n",
    "    return list(set(rezultati))\n"
   ]
  },
  {
   "cell_type": "code",
   "execution_count": 7,
   "id": "967b16",
   "metadata": {
    "collapsed": false
   },
   "outputs": [
    {
     "data": {
      "text/plain": [
       "[(3, (0, 1)),\n",
       " (3, (3, 4)),\n",
       " (3, (2, 7)),\n",
       " (3, (3, 4)),\n",
       " (3, (3, 8)),\n",
       " (3, (7, 9)),\n",
       " (3, (5, 7)),\n",
       " (3, (6, 9)),\n",
       " (3, (3, 8)),\n",
       " (3, (4, 9)),\n",
       " (3, (2, 3)),\n",
       " (3, (0, 1)),\n",
       " (3, (0, 4)),\n",
       " (3, (3, 4)),\n",
       " (3, (0, 4)),\n",
       " (3, (5, 8)),\n",
       " (3, (0, 4)),\n",
       " (3, (4, 9)),\n",
       " (3, (0, 4)),\n",
       " (3, (0, 5)),\n",
       " (3, (3, 4)),\n",
       " (3, (3, 8)),\n",
       " (3, (3, 8)),\n",
       " (3, (2, 3)),\n",
       " (3, (3, 4)),\n",
       " (3, (3, 4)),\n",
       " (3, (1, 2)),\n",
       " (3, (4, 9)),\n",
       " (3, (0, 4)),\n",
       " (3, (4, 9)),\n",
       " (3, (6, 9)),\n",
       " (3, (1, 6)),\n",
       " (3, (2, 7)),\n",
       " (3, (0, 5)),\n",
       " (3, (0, 5)),\n",
       " (3, (6, 8)),\n",
       " (3, (0, 1)),\n",
       " (3, (7, 9)),\n",
       " (3, (7, 9)),\n",
       " (3, (6, 9)),\n",
       " (3, (1, 6)),\n",
       " (3, (5, 8)),\n",
       " (3, (7, 9)),\n",
       " (3, (5, 7)),\n",
       " (3, (1, 2)),\n",
       " (3, (0, 1)),\n",
       " (3, (3, 4)),\n",
       " (3, (0, 4)),\n",
       " (3, (1, 2)),\n",
       " (3, (1, 6)),\n",
       " (3, (5, 8)),\n",
       " (3, (5, 8)),\n",
       " (3, (1, 2)),\n",
       " (3, (5, 8)),\n",
       " (3, (4, 9)),\n",
       " (3, (3, 8)),\n",
       " (3, (6, 9)),\n",
       " (3, (4, 9)),\n",
       " (3, (2, 3)),\n",
       " (3, (1, 6)),\n",
       " (3, (2, 3)),\n",
       " (3, (2, 3)),\n",
       " (3, (6, 8)),\n",
       " (3, (3, 4)),\n",
       " (3, (6, 9)),\n",
       " (3, (5, 7)),\n",
       " (3, (5, 7)),\n",
       " (3, (1, 2)),\n",
       " (3, (3, 4)),\n",
       " (3, (0, 1)),\n",
       " (3, (4, 9)),\n",
       " (3, (6, 9)),\n",
       " (3, (3, 4)),\n",
       " (3, (4, 9)),\n",
       " (3, (1, 6)),\n",
       " (3, (6, 8)),\n",
       " (3, (5, 8)),\n",
       " (3, (3, 4)),\n",
       " (3, (6, 9)),\n",
       " (3, (6, 8)),\n",
       " (3, (5, 8)),\n",
       " (3, (6, 9)),\n",
       " (3, (3, 4)),\n",
       " (3, (3, 8)),\n",
       " (3, (7, 9)),\n",
       " (3, (0, 1)),\n",
       " (3, (3, 4)),\n",
       " (3, (3, 4)),\n",
       " (3, (4, 9)),\n",
       " (3, (0, 5)),\n",
       " (3, (2, 7)),\n",
       " (3, (6, 8)),\n",
       " (3, (4, 9)),\n",
       " (3, (0, 4)),\n",
       " (3, (6, 8)),\n",
       " (3, (7, 9)),\n",
       " (3, (0, 4)),\n",
       " (3, (2, 7)),\n",
       " (3, (3, 8)),\n",
       " (3, (0, 5)),\n",
       " (3, (1, 2)),\n",
       " (3, (3, 4)),\n",
       " (3, (0, 5)),\n",
       " (3, (0, 1)),\n",
       " (3, (2, 3)),\n",
       " (3, (1, 6)),\n",
       " (3, (0, 1)),\n",
       " (3, (7, 9)),\n",
       " (3, (1, 2)),\n",
       " (3, (6, 9)),\n",
       " (3, (1, 6)),\n",
       " (3, (1, 2)),\n",
       " (3, (2, 7)),\n",
       " (3, (5, 8)),\n",
       " (3, (1, 6)),\n",
       " (3, (7, 9)),\n",
       " (3, (6, 9)),\n",
       " (3, (4, 9)),\n",
       " (3, (1, 2)),\n",
       " (3, (0, 5)),\n",
       " (3, (4, 9)),\n",
       " (3, (7, 9)),\n",
       " (3, (0, 4)),\n",
       " (3, (1, 6)),\n",
       " (3, (0, 1)),\n",
       " (3, (6, 8)),\n",
       " (3, (2, 3)),\n",
       " (3, (1, 2)),\n",
       " (3, (0, 4)),\n",
       " (3, (2, 7)),\n",
       " (3, (6, 8)),\n",
       " (3, (0, 4)),\n",
       " (3, (3, 8)),\n",
       " (3, (2, 3)),\n",
       " (3, (1, 2)),\n",
       " (3, (0, 4)),\n",
       " (3, (0, 5)),\n",
       " (3, (3, 4)),\n",
       " (3, (0, 1)),\n",
       " (3, (2, 3)),\n",
       " (3, (1, 6)),\n",
       " (3, (0, 1)),\n",
       " (3, (6, 9)),\n",
       " (3, (5, 8)),\n",
       " (3, (0, 5)),\n",
       " (3, (1, 2)),\n",
       " (3, (5, 7)),\n",
       " (3, (3, 4)),\n",
       " (3, (1, 2)),\n",
       " (3, (0, 5)),\n",
       " (3, (0, 1)),\n",
       " (3, (2, 7)),\n",
       " (3, (6, 8)),\n",
       " (3, (1, 6)),\n",
       " (3, (0, 5)),\n",
       " (3, (6, 9)),\n",
       " (3, (2, 7)),\n",
       " (3, (0, 1)),\n",
       " (3, (0, 4)),\n",
       " (3, (0, 5)),\n",
       " (3, (0, 4)),\n",
       " (3, (3, 8)),\n",
       " (3, (5, 8)),\n",
       " (3, (2, 3)),\n",
       " (3, (6, 8)),\n",
       " (3, (2, 7)),\n",
       " (3, (4, 9)),\n",
       " (3, (5, 7)),\n",
       " (3, (3, 8)),\n",
       " (3, (2, 3)),\n",
       " (3, (0, 4)),\n",
       " (3, (2, 3)),\n",
       " (3, (6, 8)),\n",
       " (3, (0, 5)),\n",
       " (3, (1, 6)),\n",
       " (3, (7, 9)),\n",
       " (3, (5, 8)),\n",
       " (3, (3, 4)),\n",
       " (3, (0, 4)),\n",
       " (3, (6, 9)),\n",
       " (3, (2, 7)),\n",
       " (3, (5, 8)),\n",
       " (3, (3, 4)),\n",
       " (3, (1, 2)),\n",
       " (3, (2, 3)),\n",
       " (3, (3, 4)),\n",
       " (3, (3, 8)),\n",
       " (3, (2, 3)),\n",
       " (3, (0, 5)),\n",
       " (3, (5, 7)),\n",
       " (3, (2, 3)),\n",
       " (3, (6, 8)),\n",
       " (3, (2, 7)),\n",
       " (3, (5, 8)),\n",
       " (3, (7, 9)),\n",
       " (3, (6, 9)),\n",
       " (3, (0, 5)),\n",
       " (3, (0, 4)),\n",
       " (3, (6, 8)),\n",
       " (3, (7, 9))]"
      ]
     },
     "execution_count": 7,
     "metadata": {
     },
     "output_type": "execute_result"
    }
   ],
   "source": [
    "ponavljaj_algoritem_2(G,200)"
   ]
  },
  {
   "cell_type": "code",
   "execution_count": 57,
   "id": "f557aa",
   "metadata": {
    "collapsed": false
   },
   "outputs": [
    {
     "data": {
      "text/plain": [
       "[]"
      ]
     },
     "execution_count": 57,
     "metadata": {
     },
     "output_type": "execute_result"
    }
   ],
   "source": [
    "ponavljaj_algoritem_2_samo_4(G,100)"
   ]
  },
  {
   "cell_type": "code",
   "execution_count": 11,
   "id": "2e6ce8",
   "metadata": {
    "collapsed": false
   },
   "outputs": [
    {
     "data": {
      "text/plain": [
       "[]"
      ]
     },
     "execution_count": 11,
     "metadata": {
     },
     "output_type": "execute_result"
    }
   ],
   "source": [
    "ponavljaj_algoritem_2_samo_4(blanusa_snark_1,200)"
   ]
  },
  {
   "cell_type": "code",
   "execution_count": 12,
   "id": "08dea0",
   "metadata": {
    "collapsed": false
   },
   "outputs": [
    {
     "data": {
      "text/plain": [
       "[]"
      ]
     },
     "execution_count": 12,
     "metadata": {
     },
     "output_type": "execute_result"
    }
   ],
   "source": [
    "ponavljaj_algoritem_2_samo_4(blanusa_snark_2,200)"
   ]
  },
  {
   "cell_type": "code",
   "execution_count": 13,
   "id": "3a8e90",
   "metadata": {
    "collapsed": false
   },
   "outputs": [
    {
     "data": {
      "text/plain": [
       "[]"
      ]
     },
     "execution_count": 13,
     "metadata": {
     },
     "output_type": "execute_result"
    }
   ],
   "source": [
    "ponavljaj_algoritem_2_samo_4(tietze_snark,200)"
   ]
  },
  {
   "cell_type": "markdown",
   "id": "fd2b1b",
   "metadata": {
    "collapsed": false
   },
   "source": [
    "#####\n",
    "\n"
   ]
  },
  {
   "cell_type": "code",
   "execution_count": 36,
   "id": "fc4880",
   "metadata": {
    "collapsed": false
   },
   "outputs": [
    {
     "data": {
      "text/plain": [
       "[]"
      ]
     },
     "execution_count": 36,
     "metadata": {
     },
     "output_type": "execute_result"
    }
   ],
   "source": [
    "ponavljaj_algoritem_2_samo_4(celmins_swart_snark_2,200)"
   ]
  },
  {
   "cell_type": "code",
   "execution_count": 15,
   "id": "7cc6c3",
   "metadata": {
    "collapsed": false
   },
   "outputs": [
    {
     "data": {
      "text/plain": [
       "[]"
      ]
     },
     "execution_count": 15,
     "metadata": {
     },
     "output_type": "execute_result"
    }
   ],
   "source": [
    "ponavljaj_algoritem_2_samo_4(celmins_swart_snark_1,200)"
   ]
  },
  {
   "cell_type": "code",
   "execution_count": 16,
   "id": "c26247",
   "metadata": {
    "collapsed": false
   },
   "outputs": [
    {
     "data": {
      "text/plain": [
       "[]"
      ]
     },
     "execution_count": 16,
     "metadata": {
     },
     "output_type": "execute_result"
    }
   ],
   "source": [
    "ponavljaj_algoritem_2_samo_4(double_star_snark,200)"
   ]
  },
  {
   "cell_type": "code",
   "execution_count": 17,
   "id": "842dc0",
   "metadata": {
    "collapsed": false
   },
   "outputs": [
    {
     "data": {
      "text/plain": [
       "[]"
      ]
     },
     "execution_count": 17,
     "metadata": {
     },
     "output_type": "execute_result"
    }
   ],
   "source": [
    "ponavljaj_algoritem_2_samo_4(flower_snark_j5,200)"
   ]
  },
  {
   "cell_type": "code",
   "execution_count": 19,
   "id": "9e05c4",
   "metadata": {
    "collapsed": false
   },
   "outputs": [
    {
     "data": {
      "text/plain": [
       "[]"
      ]
     },
     "execution_count": 19,
     "metadata": {
     },
     "output_type": "execute_result"
    }
   ],
   "source": [
    "ponavljaj_algoritem_2_samo_4(flower_snark_j7,200)"
   ]
  },
  {
   "cell_type": "code",
   "execution_count": 58,
   "id": "48d43a",
   "metadata": {
    "collapsed": false
   },
   "outputs": [
    {
     "data": {
      "text/plain": [
       "[(4, (3, 23)), (4, (3, 22)), (4, (22, 23))]"
      ]
     },
     "execution_count": 58,
     "metadata": {
     },
     "output_type": "execute_result"
    }
   ],
   "source": [
    "ponavljaj_algoritem_2_samo_4(goldberg_snark_3,200)"
   ]
  },
  {
   "cell_type": "code",
   "execution_count": 20,
   "id": "6ea837",
   "metadata": {
    "collapsed": false
   },
   "outputs": [
    {
     "data": {
      "text/plain": [
       "[]"
      ]
     },
     "execution_count": 20,
     "metadata": {
     },
     "output_type": "execute_result"
    }
   ],
   "source": [
    "ponavljaj_algoritem_2_samo_4(loupekines_snark_1,200)"
   ]
  },
  {
   "cell_type": "code",
   "execution_count": 21,
   "id": "bfbf6c",
   "metadata": {
    "collapsed": false
   },
   "outputs": [
    {
     "data": {
      "text/plain": [
       "[]"
      ]
     },
     "execution_count": 21,
     "metadata": {
     },
     "output_type": "execute_result"
    }
   ],
   "source": [
    "ponavljaj_algoritem_2_samo_4(loupekines_snark_2,200)"
   ]
  },
  {
   "cell_type": "code",
   "execution_count": 22,
   "id": "d08eb9",
   "metadata": {
    "collapsed": false
   },
   "outputs": [
    {
     "data": {
      "text/plain": [
       "[]"
      ]
     },
     "execution_count": 22,
     "metadata": {
     },
     "output_type": "execute_result"
    }
   ],
   "source": [
    "ponavljaj_algoritem_2_samo_4(snark_2760,200)"
   ]
  },
  {
   "cell_type": "code",
   "execution_count": 23,
   "id": "1b2ccc",
   "metadata": {
    "collapsed": false
   },
   "outputs": [
    {
     "data": {
      "text/plain": [
       "[]"
      ]
     },
     "execution_count": 23,
     "metadata": {
     },
     "output_type": "execute_result"
    }
   ],
   "source": [
    "ponavljaj_algoritem_2_samo_4(snark_3337,200)"
   ]
  },
  {
   "cell_type": "code",
   "execution_count": 38,
   "id": "c0e993",
   "metadata": {
    "collapsed": false
   },
   "outputs": [
    {
     "data": {
      "text/plain": [
       "[(4, (9, 11)),\n",
       " (4, (4, 11)),\n",
       " (4, (4, 11)),\n",
       " (4, (9, 11)),\n",
       " (4, (4, 11)),\n",
       " (4, (4, 11)),\n",
       " (4, (9, 11)),\n",
       " (4, (9, 11)),\n",
       " (4, (4, 11)),\n",
       " (4, (9, 11)),\n",
       " (4, (4, 11))]"
      ]
     },
     "execution_count": 38,
     "metadata": {
     },
     "output_type": "execute_result"
    }
   ],
   "source": [
    "ponavljaj_algoritem_2_samo_4(snark_3363,200)"
   ]
  },
  {
   "cell_type": "code",
   "execution_count": 25,
   "id": "1d92ed",
   "metadata": {
    "collapsed": false
   },
   "outputs": [
    {
     "data": {
      "text/plain": [
       "[(4, (27, 28)),\n",
       " (4, (29, 35)),\n",
       " (4, (1, 43)),\n",
       " (4, (3, 41)),\n",
       " (4, (22, 29)),\n",
       " (4, (10, 13)),\n",
       " (4, (6, 16)),\n",
       " (4, (23, 27)),\n",
       " (4, (30, 37)),\n",
       " (4, (24, 33)),\n",
       " (4, (41, 42)),\n",
       " (4, (17, 20)),\n",
       " (4, (25, 31)),\n",
       " (4, (5, 11)),\n",
       " (4, (24, 32)),\n",
       " (4, (8, 14)),\n",
       " (4, (4, 9)),\n",
       " (4, (20, 25)),\n",
       " (4, (33, 36)),\n",
       " (4, (11, 12)),\n",
       " (4, (1, 42)),\n",
       " (4, (34, 38)),\n",
       " (4, (11, 12)),\n",
       " (4, (0, 2)),\n",
       " (4, (41, 42)),\n",
       " (4, (22, 28)),\n",
       " (4, (5, 11)),\n",
       " (4, (26, 29)),\n",
       " (4, (22, 29)),\n",
       " (4, (23, 26)),\n",
       " (4, (9, 16)),\n",
       " (4, (21, 24)),\n",
       " (4, (5, 11)),\n",
       " (4, (16, 21)),\n",
       " (4, (9, 17)),\n",
       " (4, (38, 43)),\n",
       " (4, (10, 18)),\n",
       " (4, (4, 13)),\n",
       " (4, (9, 17)),\n",
       " (4, (4, 13)),\n",
       " (4, (36, 41)),\n",
       " (4, (36, 41)),\n",
       " (4, (31, 32)),\n",
       " (4, (8, 14)),\n",
       " (4, (26, 29)),\n",
       " (4, (29, 35)),\n",
       " (4, (22, 28)),\n",
       " (4, (0, 3)),\n",
       " (4, (12, 18)),\n",
       " (4, (21, 24)),\n",
       " (4, (3, 38)),\n",
       " (4, (30, 37)),\n",
       " (4, (5, 10)),\n",
       " (4, (9, 17)),\n",
       " (4, (1, 43)),\n",
       " (4, (14, 20)),\n",
       " (4, (0, 2)),\n",
       " (4, (6, 14)),\n",
       " (4, (4, 12)),\n",
       " (4, (5, 10)),\n",
       " (4, (41, 42)),\n",
       " (4, (23, 26)),\n",
       " (4, (6, 16)),\n",
       " (4, (5, 11)),\n",
       " (4, (28, 34)),\n",
       " (4, (23, 27)),\n",
       " (4, (12, 18)),\n",
       " (4, (33, 36)),\n",
       " (4, (36, 41)),\n",
       " (4, (1, 42)),\n",
       " (4, (14, 20)),\n",
       " (4, (39, 42)),\n",
       " (4, (4, 9)),\n",
       " (4, (0, 2)),\n",
       " (4, (10, 13)),\n",
       " (4, (10, 18)),\n",
       " (4, (6, 7)),\n",
       " (4, (26, 29)),\n",
       " (4, (0, 1)),\n",
       " (4, (9, 17)),\n",
       " (4, (34, 38)),\n",
       " (4, (4, 13)),\n",
       " (4, (23, 26)),\n",
       " (4, (15, 21)),\n",
       " (4, (1, 43)),\n",
       " (4, (34, 38)),\n",
       " (4, (5, 10)),\n",
       " (4, (3, 38)),\n",
       " (4, (20, 25)),\n",
       " (4, (25, 30)),\n",
       " (4, (25, 30)),\n",
       " (4, (4, 13)),\n",
       " (4, (5, 10)),\n",
       " (4, (25, 31)),\n",
       " (4, (6, 16)),\n",
       " (4, (39, 42)),\n",
       " (4, (10, 13)),\n",
       " (4, (7, 17)),\n",
       " (4, (30, 37)),\n",
       " (4, (37, 40)),\n",
       " (4, (6, 7)),\n",
       " (4, (24, 32)),\n",
       " (4, (32, 37)),\n",
       " (4, (5, 11)),\n",
       " (4, (24, 32)),\n",
       " (4, (22, 28)),\n",
       " (4, (6, 14)),\n",
       " (4, (11, 12)),\n",
       " (4, (11, 19)),\n",
       " (4, (16, 21)),\n",
       " (4, (16, 21)),\n",
       " (4, (31, 36)),\n",
       " (4, (6, 14)),\n",
       " (4, (25, 31)),\n",
       " (4, (30, 33)),\n",
       " (4, (31, 32)),\n",
       " (4, (23, 26)),\n",
       " (4, (23, 26)),\n",
       " (4, (37, 40)),\n",
       " (4, (28, 34)),\n",
       " (4, (14, 20)),\n",
       " (4, (29, 35)),\n",
       " (4, (38, 43)),\n",
       " (4, (6, 7)),\n",
       " (4, (27, 35)),\n",
       " (4, (5, 8)),\n",
       " (4, (0, 1)),\n",
       " (4, (16, 21)),\n",
       " (4, (12, 18)),\n",
       " (4, (5, 8)),\n",
       " (4, (4, 12)),\n",
       " (4, (12, 18)),\n",
       " (4, (8, 14)),\n",
       " (4, (4, 12)),\n",
       " (4, (28, 34)),\n",
       " (4, (12, 18)),\n",
       " (4, (21, 24)),\n",
       " (4, (0, 2)),\n",
       " (4, (24, 32)),\n",
       " (4, (22, 29)),\n",
       " (4, (39, 42)),\n",
       " (4, (18, 22)),\n",
       " (4, (15, 21)),\n",
       " (4, (11, 19)),\n",
       " (4, (27, 35)),\n",
       " (4, (31, 36)),\n",
       " (4, (8, 15)),\n",
       " (4, (37, 40)),\n",
       " (4, (4, 13)),\n",
       " (4, (23, 26)),\n",
       " (4, (6, 14)),\n",
       " (4, (11, 19)),\n",
       " (4, (33, 36)),\n",
       " (4, (28, 34)),\n",
       " (4, (22, 28)),\n",
       " (4, (4, 9)),\n",
       " (4, (27, 28)),\n",
       " (4, (23, 26)),\n",
       " (4, (39, 42)),\n",
       " (4, (32, 37)),\n",
       " (4, (22, 28)),\n",
       " (4, (3, 41)),\n",
       " (4, (0, 2)),\n",
       " (4, (26, 34)),\n",
       " (4, (30, 33)),\n",
       " (4, (7, 17)),\n",
       " (4, (15, 21)),\n",
       " (4, (13, 19)),\n",
       " (4, (19, 23)),\n",
       " (4, (24, 32)),\n",
       " (4, (0, 2)),\n",
       " (4, (25, 30)),\n",
       " (4, (1, 42)),\n",
       " (4, (4, 13)),\n",
       " (4, (35, 39)),\n",
       " (4, (5, 10)),\n",
       " (4, (16, 21)),\n",
       " (4, (11, 12)),\n",
       " (4, (16, 21)),\n",
       " (4, (37, 40)),\n",
       " (4, (40, 43)),\n",
       " (4, (26, 34)),\n",
       " (4, (4, 12)),\n",
       " (4, (29, 35)),\n",
       " (4, (12, 18)),\n",
       " (4, (24, 32)),\n",
       " (4, (10, 18)),\n",
       " (4, (0, 1)),\n",
       " (4, (10, 18)),\n",
       " (4, (33, 36)),\n",
       " (4, (5, 10)),\n",
       " (4, (39, 42)),\n",
       " (4, (37, 40)),\n",
       " (4, (38, 43)),\n",
       " (4, (30, 33)),\n",
       " (4, (3, 41)),\n",
       " (4, (8, 14)),\n",
       " (4, (5, 8)),\n",
       " (4, (14, 20)),\n",
       " (4, (24, 33))]"
      ]
     },
     "execution_count": 25,
     "metadata": {
     },
     "output_type": "execute_result"
    }
   ],
   "source": [
    "ponavljaj_algoritem_2_samo_4(graf_25159,200)"
   ]
  },
  {
   "cell_type": "markdown",
   "id": "5545c3",
   "metadata": {
    "collapsed": false
   },
   "source": [
    "Pri ponavljanju algoritma\\_2 za prvi korak lahko vidimo, da se je kromatični indeks ohranil le pri majhnem številu snarkov. Ohrani se pri snarku \"graf\\_25159\". Tukaj se ohrani vedno, ne glede na izbiro začetne povezave. Pri snarku \"goldberg\\_snark\\_1\" se ohrani le vprimeru, da izberemo določene povezave. Prav tako tudi v snarku \"snark\\_3363\".\n"
   ]
  },
  {
   "cell_type": "markdown",
   "id": "f1f109",
   "metadata": {
    "collapsed": false
   },
   "source": [
    "Poskusimo zdaj ročno ugotoviti, zakaj se pri goldberg\\_snark\\_3 indeks ohrani:\n",
    "\n",
    ". Najprej določimo lastnosti snarka:\n",
    "\n"
   ]
  },
  {
   "cell_type": "code",
   "execution_count": 7,
   "id": "edd0a7",
   "metadata": {
    "collapsed": false
   },
   "outputs": [
   ],
   "source": [
    "def preveri_lastnosti(snark):\n",
    "    \"\"\"\n",
    "    Preveri ključne lastnosti grafa.\n",
    "    :param snark: Graf, ki ga analiziramo.\n",
    "    :return: Slovar s ključnimi lastnostmi grafa.\n",
    "    \"\"\"\n",
    "    lastnosti = {\n",
    "        \"kubičen\": all(deg == 3 for deg in snark.degree()),\n",
    "        \"brez_mostov\": len(list(snark.bridges())) == 0,\n",
    "        \"girth\": snark.girth(),\n",
    "        \"kromatični_indeks\": snark.chromatic_index(),\n",
    "        \"kromatično_število\": snark.chromatic_number()\n",
    "    }\n",
    "    return lastnosti\n"
   ]
  },
  {
   "cell_type": "code",
   "execution_count": 33,
   "id": "1ddd86",
   "metadata": {
    "collapsed": false
   },
   "outputs": [
    {
     "data": {
      "text/plain": [
       "{'kubičen': True,\n",
       " 'brez_mostov': True,\n",
       " 'girth': 3,\n",
       " 'kromatični_indeks': 4,\n",
       " 'kromatično_število': 3}"
      ]
     },
     "execution_count": 33,
     "metadata": {
     },
     "output_type": "execute_result"
    }
   ],
   "source": [
    "preveri_lastnosti(goldberg_snark_3)"
   ]
  },
  {
   "cell_type": "code",
   "execution_count": 8,
   "id": "5bcea2",
   "metadata": {
    "collapsed": false
   },
   "outputs": [
    {
     "data": {
      "text/plain": [
       "{'kubičen': True,\n",
       " 'brez_mostov': True,\n",
       " 'girth': 5,\n",
       " 'kromatični_indeks': 4,\n",
       " 'kromatično_število': 3}"
      ]
     },
     "execution_count": 8,
     "metadata": {
     },
     "output_type": "execute_result"
    }
   ],
   "source": [
    "preveri_lastnosti(snark_3363)"
   ]
  },
  {
   "cell_type": "code",
   "execution_count": 15,
   "id": "202592",
   "metadata": {
    "collapsed": false
   },
   "outputs": [
    {
     "data": {
      "text/plain": [
       "{'kubičen': True,\n",
       " 'brez_mostov': True,\n",
       " 'girth': 5,\n",
       " 'kromatični_indeks': 4,\n",
       " 'kromatično_število': 3}"
      ]
     },
     "execution_count": 15,
     "metadata": {
     },
     "output_type": "execute_result"
    }
   ],
   "source": [
    "preveri_lastnosti(graf_25159)"
   ]
  },
  {
   "cell_type": "code",
   "execution_count": 3,
   "id": "940288",
   "metadata": {
    "collapsed": false
   },
   "outputs": [
   ],
   "source": [
    "def analiza_vozlišča(snark, a, b):\n",
    "    \"\"\"\n",
    "    Analizira povezave in cikle, povezane z vozliščema a in b v grafu.\n",
    "    :param snark: Graf, ki ga analiziramo.\n",
    "    :param a: Vozlišče a.\n",
    "    :param b: Vozlišče b.\n",
    "    :return: Slovar z analizo vozlišč in ciklov.\n",
    "    \"\"\"\n",
    "    sosedi_a = list(snark.neighbors(a))  # Sosedi vozlišča a\n",
    "    sosedi_b = list(snark.neighbors(b))  # Sosedi vozlišča b\n",
    "    skupni_sosedi = set(sosedi_a) & set(sosedi_b)  # Skupni sosedi\n",
    "\n",
    "    # Najdi osnovne cikle v grafu\n",
    "    osnova_ciklov = snark.cycle_basis()  # Osnova ciklov\n",
    "    cikli_z_a = [cikel for cikel in osnova_ciklov if a in cikel]\n",
    "    cikli_z_b = [cikel for cikel in osnova_ciklov if b in cikel]\n",
    "\n",
    "    analiza = {\n",
    "        \"sosedi_a\": sosedi_a,\n",
    "        \"sosedi_b\": sosedi_b,\n",
    "        \"skupni_sosedi\": skupni_sosedi,\n",
    "        \"najkrajsi_cikel\": min(snark.cycle_basis(), key = len),\n",
    "        \"najdalsi_cikel\" : max(snark.cycle_basis(), key=len),\n",
    "        \"vsi_cikli\": snark.cycle_basis(),\n",
    "        \"cikli_z_a\": cikli_z_a,\n",
    "        \"cikli_z_b\": cikli_z_b,\n",
    "        \"girth\": snark.girth(),\n",
    "        \"skupni_cikli\": set(tuple(cikel) for cikel in cikli_z_a) & set(tuple(cikel) for cikel in cikli_z_b),  # Corrected line\n",
    "        \"kromatični_indeks\": algoritem_2_izbrana(snark, (a,b))\n",
    "    }\n",
    "    return analiza\n"
   ]
  },
  {
   "cell_type": "code",
   "execution_count": 7,
   "id": "2be890",
   "metadata": {
    "collapsed": false
   },
   "outputs": [
    {
     "data": {
      "text/plain": [
       "{'sosedi_a': [2, 5, 9],\n",
       " 'sosedi_b': [4, 6, 7],\n",
       " 'skupni_sosedi': set(),\n",
       " 'najkrajsi_cikel': [6, 8, 5, 7, 9],\n",
       " 'najdalsi_cikel': [4, 3, 8, 5, 7, 9],\n",
       " 'vsi_cikli': [[6, 8, 5, 7, 9],\n",
       "  [2, 3, 8, 5, 7],\n",
       "  [4, 3, 8, 5, 7, 9],\n",
       "  [4, 0, 5, 7, 9],\n",
       "  [2, 1, 0, 5, 7],\n",
       "  [6, 1, 0, 5, 7, 9]],\n",
       " 'cikli_z_a': [[6, 8, 5, 7, 9],\n",
       "  [2, 3, 8, 5, 7],\n",
       "  [4, 3, 8, 5, 7, 9],\n",
       "  [4, 0, 5, 7, 9],\n",
       "  [2, 1, 0, 5, 7],\n",
       "  [6, 1, 0, 5, 7, 9]],\n",
       " 'cikli_z_b': [[6, 8, 5, 7, 9],\n",
       "  [4, 3, 8, 5, 7, 9],\n",
       "  [4, 0, 5, 7, 9],\n",
       "  [6, 1, 0, 5, 7, 9]],\n",
       " 'girth': 5,\n",
       " 'skupni_cikli': {(4, 0, 5, 7, 9),\n",
       "  (4, 3, 8, 5, 7, 9),\n",
       "  (6, 1, 0, 5, 7, 9),\n",
       "  (6, 8, 5, 7, 9)},\n",
       " 'kromatični_indeks': (3, (7, 9), Petersen graph: Graph on 12 vertices)}"
      ]
     },
     "execution_count": 7,
     "metadata": {
     },
     "output_type": "execute_result"
    }
   ],
   "source": [
    "analiza_vozlišča(G,7,9)"
   ]
  },
  {
   "cell_type": "code",
   "execution_count": 8,
   "id": "a7a65b",
   "metadata": {
    "collapsed": false
   },
   "outputs": [
    {
     "data": {
      "text/plain": [
       "{'sosedi_a': [1, 8, 9],\n",
       " 'sosedi_b': [3, 5, 6],\n",
       " 'skupni_sosedi': set(),\n",
       " 'najkrajsi_cikel': [6, 8, 5, 7, 9],\n",
       " 'najdalsi_cikel': [4, 3, 8, 5, 7, 9],\n",
       " 'vsi_cikli': [[6, 8, 5, 7, 9],\n",
       "  [2, 3, 8, 5, 7],\n",
       "  [4, 3, 8, 5, 7, 9],\n",
       "  [4, 0, 5, 7, 9],\n",
       "  [2, 1, 0, 5, 7],\n",
       "  [6, 1, 0, 5, 7, 9]],\n",
       " 'cikli_z_a': [[6, 8, 5, 7, 9], [6, 1, 0, 5, 7, 9]],\n",
       " 'cikli_z_b': [[6, 8, 5, 7, 9], [2, 3, 8, 5, 7], [4, 3, 8, 5, 7, 9]],\n",
       " 'girth': 5,\n",
       " 'skupni_cikli': {(6, 8, 5, 7, 9)},\n",
       " 'kromatični_indeks': (3, (6, 8), Petersen graph: Graph on 12 vertices)}"
      ]
     },
     "execution_count": 8,
     "metadata": {
     },
     "output_type": "execute_result"
    }
   ],
   "source": [
    "analiza_vozlišča(G,6,8)"
   ]
  },
  {
   "cell_type": "code",
   "execution_count": 9,
   "id": "f1f266",
   "metadata": {
    "collapsed": false
   },
   "outputs": [
    {
     "data": {
      "text/plain": [
       "{'sosedi_a': [1, 4, 5],\n",
       " 'sosedi_b': [0, 7, 8],\n",
       " 'skupni_sosedi': set(),\n",
       " 'najkrajsi_cikel': [6, 8, 5, 7, 9],\n",
       " 'najdalsi_cikel': [4, 3, 8, 5, 7, 9],\n",
       " 'vsi_cikli': [[6, 8, 5, 7, 9],\n",
       "  [2, 3, 8, 5, 7],\n",
       "  [4, 3, 8, 5, 7, 9],\n",
       "  [4, 0, 5, 7, 9],\n",
       "  [2, 1, 0, 5, 7],\n",
       "  [6, 1, 0, 5, 7, 9]],\n",
       " 'cikli_z_a': [[4, 0, 5, 7, 9], [2, 1, 0, 5, 7], [6, 1, 0, 5, 7, 9]],\n",
       " 'cikli_z_b': [[6, 8, 5, 7, 9],\n",
       "  [2, 3, 8, 5, 7],\n",
       "  [4, 3, 8, 5, 7, 9],\n",
       "  [4, 0, 5, 7, 9],\n",
       "  [2, 1, 0, 5, 7],\n",
       "  [6, 1, 0, 5, 7, 9]],\n",
       " 'girth': 5,\n",
       " 'skupni_cikli': {(2, 1, 0, 5, 7), (4, 0, 5, 7, 9), (6, 1, 0, 5, 7, 9)},\n",
       " 'kromatični_indeks': (3, (0, 5), Petersen graph: Graph on 12 vertices)}"
      ]
     },
     "execution_count": 9,
     "metadata": {
     },
     "output_type": "execute_result"
    }
   ],
   "source": [
    "analiza_vozlišča(G,0,5)"
   ]
  },
  {
   "cell_type": "code",
   "execution_count": 31,
   "id": "c2171f",
   "metadata": {
    "collapsed": false
   },
   "outputs": [
    {
     "data": {
      "text/plain": [
       "{'sosedi_a': [0, 20, 18],\n",
       " 'sosedi_b': [1, 21, 15],\n",
       " 'skupni_sosedi': set(),\n",
       " 'najkrajsi_cikel': [3, 22, 23],\n",
       " 'najdalsi_cikel': [9, 15, 20, 21, 12, 7, 11, 13, 18, 19, 14, 10, 17],\n",
       " 'vsi_cikli': [[3, 22, 23],\n",
       "  [16, 11, 13, 18, 19, 14, 10, 17, 22, 23],\n",
       "  [6, 7, 11, 13, 18, 19, 14, 10],\n",
       "  [2, 21, 12, 7, 11, 13, 18, 19],\n",
       "  [1, 20, 21, 12, 7, 11, 13, 18],\n",
       "  [6, 15, 20, 21, 12, 7],\n",
       "  [9, 15, 20, 21, 12, 7, 11, 13, 18, 19, 14, 10, 17],\n",
       "  [4, 8, 12, 7, 11, 13],\n",
       "  [16, 8, 12, 7, 11],\n",
       "  [5, 4, 13, 18, 19, 14],\n",
       "  [2, 0, 1, 18, 19],\n",
       "  [3, 0, 1, 18, 19, 14, 10, 17, 22],\n",
       "  [9, 5, 14, 10, 17]],\n",
       " 'cikli_z_a': [[1, 20, 21, 12, 7, 11, 13, 18],\n",
       "  [2, 0, 1, 18, 19],\n",
       "  [3, 0, 1, 18, 19, 14, 10, 17, 22]],\n",
       " 'cikli_z_b': [[1, 20, 21, 12, 7, 11, 13, 18],\n",
       "  [6, 15, 20, 21, 12, 7],\n",
       "  [9, 15, 20, 21, 12, 7, 11, 13, 18, 19, 14, 10, 17]],\n",
       " 'girth': 3,\n",
       " 'skupni_cikli': {(1, 20, 21, 12, 7, 11, 13, 18)},\n",
       " 'kromatični_indeks': (3, (1, 20), Graph on 26 vertices)}"
      ]
     },
     "execution_count": 31,
     "metadata": {
     },
     "output_type": "execute_result"
    }
   ],
   "source": [
    "analiza_vozlišča(goldberg_snark_3, 1, 20)"
   ]
  },
  {
   "cell_type": "code",
   "execution_count": 32,
   "id": "2f748c",
   "metadata": {
    "collapsed": false
   },
   "outputs": [
    {
     "data": {
      "text/plain": [
       "{'sosedi_a': [5, 8, 13],\n",
       " 'sosedi_b': [16, 4, 12],\n",
       " 'skupni_sosedi': set(),\n",
       " 'najkrajsi_cikel': [3, 22, 23],\n",
       " 'najdalsi_cikel': [9, 15, 20, 21, 12, 7, 11, 13, 18, 19, 14, 10, 17],\n",
       " 'vsi_cikli': [[3, 22, 23],\n",
       "  [16, 11, 13, 18, 19, 14, 10, 17, 22, 23],\n",
       "  [6, 7, 11, 13, 18, 19, 14, 10],\n",
       "  [2, 21, 12, 7, 11, 13, 18, 19],\n",
       "  [1, 20, 21, 12, 7, 11, 13, 18],\n",
       "  [6, 15, 20, 21, 12, 7],\n",
       "  [9, 15, 20, 21, 12, 7, 11, 13, 18, 19, 14, 10, 17],\n",
       "  [4, 8, 12, 7, 11, 13],\n",
       "  [16, 8, 12, 7, 11],\n",
       "  [5, 4, 13, 18, 19, 14],\n",
       "  [2, 0, 1, 18, 19],\n",
       "  [3, 0, 1, 18, 19, 14, 10, 17, 22],\n",
       "  [9, 5, 14, 10, 17]],\n",
       " 'cikli_z_a': [[4, 8, 12, 7, 11, 13], [5, 4, 13, 18, 19, 14]],\n",
       " 'cikli_z_b': [[4, 8, 12, 7, 11, 13], [16, 8, 12, 7, 11]],\n",
       " 'girth': 3,\n",
       " 'skupni_cikli': {(4, 8, 12, 7, 11, 13)},\n",
       " 'kromatični_indeks': (3, (4, 8), Graph on 26 vertices)}"
      ]
     },
     "execution_count": 32,
     "metadata": {
     },
     "output_type": "execute_result"
    }
   ],
   "source": [
    "analiza_vozlišča(goldberg_snark_3, 4, 8)"
   ]
  },
  {
   "cell_type": "code",
   "execution_count": 33,
   "id": "d48be5",
   "metadata": {
    "collapsed": false
   },
   "outputs": [
    {
     "data": {
      "text/plain": [
       "{'sosedi_a': [0, 19, 21],\n",
       " 'sosedi_b': [2, 18, 14],\n",
       " 'skupni_sosedi': set(),\n",
       " 'najkrajsi_cikel': [3, 22, 23],\n",
       " 'najdalsi_cikel': [9, 15, 20, 21, 12, 7, 11, 13, 18, 19, 14, 10, 17],\n",
       " 'vsi_cikli': [[3, 22, 23],\n",
       "  [16, 11, 13, 18, 19, 14, 10, 17, 22, 23],\n",
       "  [6, 7, 11, 13, 18, 19, 14, 10],\n",
       "  [2, 21, 12, 7, 11, 13, 18, 19],\n",
       "  [1, 20, 21, 12, 7, 11, 13, 18],\n",
       "  [6, 15, 20, 21, 12, 7],\n",
       "  [9, 15, 20, 21, 12, 7, 11, 13, 18, 19, 14, 10, 17],\n",
       "  [4, 8, 12, 7, 11, 13],\n",
       "  [16, 8, 12, 7, 11],\n",
       "  [5, 4, 13, 18, 19, 14],\n",
       "  [2, 0, 1, 18, 19],\n",
       "  [3, 0, 1, 18, 19, 14, 10, 17, 22],\n",
       "  [9, 5, 14, 10, 17]],\n",
       " 'cikli_z_a': [[2, 21, 12, 7, 11, 13, 18, 19], [2, 0, 1, 18, 19]],\n",
       " 'cikli_z_b': [[16, 11, 13, 18, 19, 14, 10, 17, 22, 23],\n",
       "  [6, 7, 11, 13, 18, 19, 14, 10],\n",
       "  [2, 21, 12, 7, 11, 13, 18, 19],\n",
       "  [9, 15, 20, 21, 12, 7, 11, 13, 18, 19, 14, 10, 17],\n",
       "  [5, 4, 13, 18, 19, 14],\n",
       "  [2, 0, 1, 18, 19],\n",
       "  [3, 0, 1, 18, 19, 14, 10, 17, 22]],\n",
       " 'girth': 3,\n",
       " 'skupni_cikli': {(2, 0, 1, 18, 19), (2, 21, 12, 7, 11, 13, 18, 19)},\n",
       " 'kromatični_indeks': (3, (2, 19), Graph on 26 vertices)}"
      ]
     },
     "execution_count": 33,
     "metadata": {
     },
     "output_type": "execute_result"
    }
   ],
   "source": [
    "analiza_vozlišča(goldberg_snark_3, 2, 19)"
   ]
  },
  {
   "cell_type": "code",
   "execution_count": 34,
   "id": "2614f4",
   "metadata": {
    "collapsed": false
   },
   "outputs": [
    {
     "data": {
      "text/plain": [
       "{'sosedi_a': [0, 22, 23],\n",
       " 'sosedi_b': [16, 3, 22],\n",
       " 'skupni_sosedi': {22},\n",
       " 'najkrajsi_cikel': [3, 22, 23],\n",
       " 'najdalsi_cikel': [9, 15, 20, 21, 12, 7, 11, 13, 18, 19, 14, 10, 17],\n",
       " 'vsi_cikli': [[3, 22, 23],\n",
       "  [16, 11, 13, 18, 19, 14, 10, 17, 22, 23],\n",
       "  [6, 7, 11, 13, 18, 19, 14, 10],\n",
       "  [2, 21, 12, 7, 11, 13, 18, 19],\n",
       "  [1, 20, 21, 12, 7, 11, 13, 18],\n",
       "  [6, 15, 20, 21, 12, 7],\n",
       "  [9, 15, 20, 21, 12, 7, 11, 13, 18, 19, 14, 10, 17],\n",
       "  [4, 8, 12, 7, 11, 13],\n",
       "  [16, 8, 12, 7, 11],\n",
       "  [5, 4, 13, 18, 19, 14],\n",
       "  [2, 0, 1, 18, 19],\n",
       "  [3, 0, 1, 18, 19, 14, 10, 17, 22],\n",
       "  [9, 5, 14, 10, 17]],\n",
       " 'cikli_z_a': [[3, 22, 23], [3, 0, 1, 18, 19, 14, 10, 17, 22]],\n",
       " 'cikli_z_b': [[3, 22, 23], [16, 11, 13, 18, 19, 14, 10, 17, 22, 23]],\n",
       " 'girth': 3,\n",
       " 'skupni_cikli': {(3, 22, 23)},\n",
       " 'kromatični_indeks': (4, (3, 23), Graph on 26 vertices)}"
      ]
     },
     "execution_count": 34,
     "metadata": {
     },
     "output_type": "execute_result"
    }
   ],
   "source": [
    "analiza_vozlišča(goldberg_snark_3, 3, 23)"
   ]
  },
  {
   "cell_type": "code",
   "execution_count": 35,
   "id": "b0c3fc",
   "metadata": {
    "collapsed": false
   },
   "outputs": [
    {
     "data": {
      "text/plain": [
       "{'sosedi_a': [3, 17, 23],\n",
       " 'sosedi_b': [16, 3, 22],\n",
       " 'skupni_sosedi': {3},\n",
       " 'najkrajsi_cikel': [3, 22, 23],\n",
       " 'najdalsi_cikel': [9, 15, 20, 21, 12, 7, 11, 13, 18, 19, 14, 10, 17],\n",
       " 'vsi_cikli': [[3, 22, 23],\n",
       "  [16, 11, 13, 18, 19, 14, 10, 17, 22, 23],\n",
       "  [6, 7, 11, 13, 18, 19, 14, 10],\n",
       "  [2, 21, 12, 7, 11, 13, 18, 19],\n",
       "  [1, 20, 21, 12, 7, 11, 13, 18],\n",
       "  [6, 15, 20, 21, 12, 7],\n",
       "  [9, 15, 20, 21, 12, 7, 11, 13, 18, 19, 14, 10, 17],\n",
       "  [4, 8, 12, 7, 11, 13],\n",
       "  [16, 8, 12, 7, 11],\n",
       "  [5, 4, 13, 18, 19, 14],\n",
       "  [2, 0, 1, 18, 19],\n",
       "  [3, 0, 1, 18, 19, 14, 10, 17, 22],\n",
       "  [9, 5, 14, 10, 17]],\n",
       " 'cikli_z_a': [[3, 22, 23],\n",
       "  [16, 11, 13, 18, 19, 14, 10, 17, 22, 23],\n",
       "  [3, 0, 1, 18, 19, 14, 10, 17, 22]],\n",
       " 'cikli_z_b': [[3, 22, 23], [16, 11, 13, 18, 19, 14, 10, 17, 22, 23]],\n",
       " 'girth': 3,\n",
       " 'skupni_cikli': {(3, 22, 23), (16, 11, 13, 18, 19, 14, 10, 17, 22, 23)},\n",
       " 'kromatični_indeks': (4, (22, 23), Graph on 26 vertices)}"
      ]
     },
     "execution_count": 35,
     "metadata": {
     },
     "output_type": "execute_result"
    }
   ],
   "source": [
    "analiza_vozlišča(goldberg_snark_3, 22, 23)"
   ]
  },
  {
   "cell_type": "markdown",
   "id": "0f0ccb",
   "metadata": {
    "collapsed": false
   },
   "source": [
    "Opazimo, da imata a in b skupnega soseda, ko se kromatični indeks ohrani, prav tako pa sta del najkrajšega cikla \\(tj. cikel dolžine 3\\) seveda, je to možno le za ta snark, saj ima ožino 3. Poglejmo še na snarku snark\\_3363 in poglejmo, kdaj se tukaj ohrani:\n"
   ]
  },
  {
   "cell_type": "code",
   "execution_count": 10,
   "id": "dd645a",
   "metadata": {
    "collapsed": false
   },
   "outputs": [
    {
     "data": {
      "text/plain": [
       "{'sosedi_a': [16, 5, 11],\n",
       " 'sosedi_b': [4, 9, 14],\n",
       " 'skupni_sosedi': set(),\n",
       " 'najkrajsi_cikel': [18, 27, 31, 25, 13],\n",
       " 'najdalsi_cikel': [5, 9, 16, 21, 22, 30, 23, 19, 12, 6, 29, 4, 25, 13, 10],\n",
       " 'vsi_cikli': [[5, 27, 31, 25, 13, 10],\n",
       "  [18, 27, 31, 25, 13],\n",
       "  [33, 3, 31, 25, 13, 10, 28, 34, 35],\n",
       "  [1, 0, 3, 31, 25, 13, 10, 28, 34, 35],\n",
       "  [2, 0, 3, 31, 25, 13, 10, 28, 34],\n",
       "  [33, 29, 4, 25, 13, 10, 28, 34, 35],\n",
       "  [7, 24, 12, 6, 29, 4, 25, 13, 10, 28],\n",
       "  [2, 32, 24, 12, 6, 29, 4, 25, 13, 10, 28, 34],\n",
       "  [8, 26, 32, 24, 12, 6],\n",
       "  [19, 26, 32, 24, 12],\n",
       "  [18, 23, 19, 12, 6, 29, 4, 25, 13],\n",
       "  [1, 30, 23, 19, 12, 6, 29, 4, 25, 13, 10, 28, 34, 35],\n",
       "  [8, 17, 16, 21, 22, 30, 23, 19, 12, 6],\n",
       "  [20, 17, 16, 21, 22],\n",
       "  [5, 9, 16, 21, 22, 30, 23, 19, 12, 6, 29, 4, 25, 13, 10],\n",
       "  [11, 9, 16, 21, 22, 30, 23, 19, 12, 6, 29, 4],\n",
       "  [7, 15, 21, 22, 30, 23, 19, 12, 6, 29, 4, 25, 13, 10, 28],\n",
       "  [11, 14, 15, 21, 22, 30, 23, 19, 12, 6, 29, 4],\n",
       "  [20, 14, 15, 21, 22]],\n",
       " 'cikli_z_a': [[5, 9, 16, 21, 22, 30, 23, 19, 12, 6, 29, 4, 25, 13, 10],\n",
       "  [11, 9, 16, 21, 22, 30, 23, 19, 12, 6, 29, 4]],\n",
       " 'cikli_z_b': [[11, 9, 16, 21, 22, 30, 23, 19, 12, 6, 29, 4],\n",
       "  [11, 14, 15, 21, 22, 30, 23, 19, 12, 6, 29, 4]],\n",
       " 'girth': 5,\n",
       " 'skupni_cikli': {(11, 9, 16, 21, 22, 30, 23, 19, 12, 6, 29, 4)},\n",
       " 'kromatični_indeks': (4, (9, 11), Graph on 38 vertices)}"
      ]
     },
     "execution_count": 10,
     "metadata": {
     },
     "output_type": "execute_result"
    }
   ],
   "source": [
    "analiza_vozlišča(snark_3363,9, 11)"
   ]
  },
  {
   "cell_type": "code",
   "execution_count": 11,
   "id": "58f936",
   "metadata": {
    "collapsed": false
   },
   "outputs": [
    {
     "data": {
      "image/png": "[encoded data removed]",
      "text/plain": [
       "Graphics object consisting of 91 graphics primitives"
      ]
     },
     "execution_count": 11,
     "metadata": {
     },
     "output_type": "execute_result"
    }
   ],
   "source": [
    "snark_3363.plot()"
   ]
  },
  {
   "cell_type": "code",
   "execution_count": 37,
   "id": "3c190a",
   "metadata": {
    "collapsed": false
   },
   "outputs": [
    {
     "data": {
      "text/plain": [
       "{'sosedi_a': [25, 11, 29],\n",
       " 'sosedi_b': [4, 9, 14],\n",
       " 'skupni_sosedi': set(),\n",
       " 'najkrajsi_cikel': [18, 27, 31, 25, 13],\n",
       " 'najdalsi_cikel': [5, 9, 16, 21, 22, 30, 23, 19, 12, 6, 29, 4, 25, 13, 10],\n",
       " 'vsi_cikli': [[5, 27, 31, 25, 13, 10],\n",
       "  [18, 27, 31, 25, 13],\n",
       "  [33, 3, 31, 25, 13, 10, 28, 34, 35],\n",
       "  [1, 0, 3, 31, 25, 13, 10, 28, 34, 35],\n",
       "  [2, 0, 3, 31, 25, 13, 10, 28, 34],\n",
       "  [33, 29, 4, 25, 13, 10, 28, 34, 35],\n",
       "  [7, 24, 12, 6, 29, 4, 25, 13, 10, 28],\n",
       "  [2, 32, 24, 12, 6, 29, 4, 25, 13, 10, 28, 34],\n",
       "  [8, 26, 32, 24, 12, 6],\n",
       "  [19, 26, 32, 24, 12],\n",
       "  [18, 23, 19, 12, 6, 29, 4, 25, 13],\n",
       "  [1, 30, 23, 19, 12, 6, 29, 4, 25, 13, 10, 28, 34, 35],\n",
       "  [8, 17, 16, 21, 22, 30, 23, 19, 12, 6],\n",
       "  [20, 17, 16, 21, 22],\n",
       "  [5, 9, 16, 21, 22, 30, 23, 19, 12, 6, 29, 4, 25, 13, 10],\n",
       "  [11, 9, 16, 21, 22, 30, 23, 19, 12, 6, 29, 4],\n",
       "  [7, 15, 21, 22, 30, 23, 19, 12, 6, 29, 4, 25, 13, 10, 28],\n",
       "  [11, 14, 15, 21, 22, 30, 23, 19, 12, 6, 29, 4],\n",
       "  [20, 14, 15, 21, 22]],\n",
       " 'cikli_z_a': [[33, 29, 4, 25, 13, 10, 28, 34, 35],\n",
       "  [7, 24, 12, 6, 29, 4, 25, 13, 10, 28],\n",
       "  [2, 32, 24, 12, 6, 29, 4, 25, 13, 10, 28, 34],\n",
       "  [18, 23, 19, 12, 6, 29, 4, 25, 13],\n",
       "  [1, 30, 23, 19, 12, 6, 29, 4, 25, 13, 10, 28, 34, 35],\n",
       "  [5, 9, 16, 21, 22, 30, 23, 19, 12, 6, 29, 4, 25, 13, 10],\n",
       "  [11, 9, 16, 21, 22, 30, 23, 19, 12, 6, 29, 4],\n",
       "  [7, 15, 21, 22, 30, 23, 19, 12, 6, 29, 4, 25, 13, 10, 28],\n",
       "  [11, 14, 15, 21, 22, 30, 23, 19, 12, 6, 29, 4]],\n",
       " 'cikli_z_b': [[11, 9, 16, 21, 22, 30, 23, 19, 12, 6, 29, 4],\n",
       "  [11, 14, 15, 21, 22, 30, 23, 19, 12, 6, 29, 4]],\n",
       " 'girth': 5,\n",
       " 'skupni_cikli': {(11, 9, 16, 21, 22, 30, 23, 19, 12, 6, 29, 4),\n",
       "  (11, 14, 15, 21, 22, 30, 23, 19, 12, 6, 29, 4)},\n",
       " 'kromatični_indeks': (4, (4, 11), Graph on 38 vertices)}"
      ]
     },
     "execution_count": 37,
     "metadata": {
     },
     "output_type": "execute_result"
    }
   ],
   "source": [
    "analiza_vozlišča(snark_3363,4, 11)"
   ]
  },
  {
   "cell_type": "code",
   "execution_count": 38,
   "id": "4b02ba",
   "metadata": {
    "collapsed": false
   },
   "outputs": [
    {
     "data": {
      "text/plain": [
       "{'sosedi_a': [17, 21, 9],\n",
       " 'sosedi_b': [16, 22, 15],\n",
       " 'skupni_sosedi': set(),\n",
       " 'najkrajsi_cikel': [18, 27, 31, 25, 13],\n",
       " 'najdalsi_cikel': [5, 9, 16, 21, 22, 30, 23, 19, 12, 6, 29, 4, 25, 13, 10],\n",
       " 'vsi_cikli': [[5, 27, 31, 25, 13, 10],\n",
       "  [18, 27, 31, 25, 13],\n",
       "  [33, 3, 31, 25, 13, 10, 28, 34, 35],\n",
       "  [1, 0, 3, 31, 25, 13, 10, 28, 34, 35],\n",
       "  [2, 0, 3, 31, 25, 13, 10, 28, 34],\n",
       "  [33, 29, 4, 25, 13, 10, 28, 34, 35],\n",
       "  [7, 24, 12, 6, 29, 4, 25, 13, 10, 28],\n",
       "  [2, 32, 24, 12, 6, 29, 4, 25, 13, 10, 28, 34],\n",
       "  [8, 26, 32, 24, 12, 6],\n",
       "  [19, 26, 32, 24, 12],\n",
       "  [18, 23, 19, 12, 6, 29, 4, 25, 13],\n",
       "  [1, 30, 23, 19, 12, 6, 29, 4, 25, 13, 10, 28, 34, 35],\n",
       "  [8, 17, 16, 21, 22, 30, 23, 19, 12, 6],\n",
       "  [20, 17, 16, 21, 22],\n",
       "  [5, 9, 16, 21, 22, 30, 23, 19, 12, 6, 29, 4, 25, 13, 10],\n",
       "  [11, 9, 16, 21, 22, 30, 23, 19, 12, 6, 29, 4],\n",
       "  [7, 15, 21, 22, 30, 23, 19, 12, 6, 29, 4, 25, 13, 10, 28],\n",
       "  [11, 14, 15, 21, 22, 30, 23, 19, 12, 6, 29, 4],\n",
       "  [20, 14, 15, 21, 22]],\n",
       " 'cikli_z_a': [[8, 17, 16, 21, 22, 30, 23, 19, 12, 6],\n",
       "  [20, 17, 16, 21, 22],\n",
       "  [5, 9, 16, 21, 22, 30, 23, 19, 12, 6, 29, 4, 25, 13, 10],\n",
       "  [11, 9, 16, 21, 22, 30, 23, 19, 12, 6, 29, 4]],\n",
       " 'cikli_z_b': [[8, 17, 16, 21, 22, 30, 23, 19, 12, 6],\n",
       "  [20, 17, 16, 21, 22],\n",
       "  [5, 9, 16, 21, 22, 30, 23, 19, 12, 6, 29, 4, 25, 13, 10],\n",
       "  [11, 9, 16, 21, 22, 30, 23, 19, 12, 6, 29, 4],\n",
       "  [7, 15, 21, 22, 30, 23, 19, 12, 6, 29, 4, 25, 13, 10, 28],\n",
       "  [11, 14, 15, 21, 22, 30, 23, 19, 12, 6, 29, 4],\n",
       "  [20, 14, 15, 21, 22]],\n",
       " 'girth': 5,\n",
       " 'skupni_cikli': {(5, 9, 16, 21, 22, 30, 23, 19, 12, 6, 29, 4, 25, 13, 10),\n",
       "  (8, 17, 16, 21, 22, 30, 23, 19, 12, 6),\n",
       "  (11, 9, 16, 21, 22, 30, 23, 19, 12, 6, 29, 4),\n",
       "  (20, 17, 16, 21, 22)},\n",
       " 'kromatični_indeks': (3, (16, 21), Graph on 38 vertices)}"
      ]
     },
     "execution_count": 38,
     "metadata": {
     },
     "output_type": "execute_result"
    }
   ],
   "source": [
    "analiza_vozlišča(snark_3363,16, 21)"
   ]
  },
  {
   "cell_type": "code",
   "execution_count": 39,
   "id": "803ce5",
   "metadata": {
    "collapsed": false
   },
   "outputs": [
    {
     "data": {
      "text/plain": [
       "{'sosedi_a': [20, 21, 30],\n",
       " 'sosedi_b': [16, 22, 15],\n",
       " 'skupni_sosedi': set(),\n",
       " 'najkrajsi_cikel': [18, 27, 31, 25, 13],\n",
       " 'najdalsi_cikel': [5, 9, 16, 21, 22, 30, 23, 19, 12, 6, 29, 4, 25, 13, 10],\n",
       " 'vsi_cikli': [[5, 27, 31, 25, 13, 10],\n",
       "  [18, 27, 31, 25, 13],\n",
       "  [33, 3, 31, 25, 13, 10, 28, 34, 35],\n",
       "  [1, 0, 3, 31, 25, 13, 10, 28, 34, 35],\n",
       "  [2, 0, 3, 31, 25, 13, 10, 28, 34],\n",
       "  [33, 29, 4, 25, 13, 10, 28, 34, 35],\n",
       "  [7, 24, 12, 6, 29, 4, 25, 13, 10, 28],\n",
       "  [2, 32, 24, 12, 6, 29, 4, 25, 13, 10, 28, 34],\n",
       "  [8, 26, 32, 24, 12, 6],\n",
       "  [19, 26, 32, 24, 12],\n",
       "  [18, 23, 19, 12, 6, 29, 4, 25, 13],\n",
       "  [1, 30, 23, 19, 12, 6, 29, 4, 25, 13, 10, 28, 34, 35],\n",
       "  [8, 17, 16, 21, 22, 30, 23, 19, 12, 6],\n",
       "  [20, 17, 16, 21, 22],\n",
       "  [5, 9, 16, 21, 22, 30, 23, 19, 12, 6, 29, 4, 25, 13, 10],\n",
       "  [11, 9, 16, 21, 22, 30, 23, 19, 12, 6, 29, 4],\n",
       "  [7, 15, 21, 22, 30, 23, 19, 12, 6, 29, 4, 25, 13, 10, 28],\n",
       "  [11, 14, 15, 21, 22, 30, 23, 19, 12, 6, 29, 4],\n",
       "  [20, 14, 15, 21, 22]],\n",
       " 'cikli_z_a': [[8, 17, 16, 21, 22, 30, 23, 19, 12, 6],\n",
       "  [20, 17, 16, 21, 22],\n",
       "  [5, 9, 16, 21, 22, 30, 23, 19, 12, 6, 29, 4, 25, 13, 10],\n",
       "  [11, 9, 16, 21, 22, 30, 23, 19, 12, 6, 29, 4],\n",
       "  [7, 15, 21, 22, 30, 23, 19, 12, 6, 29, 4, 25, 13, 10, 28],\n",
       "  [11, 14, 15, 21, 22, 30, 23, 19, 12, 6, 29, 4],\n",
       "  [20, 14, 15, 21, 22]],\n",
       " 'cikli_z_b': [[8, 17, 16, 21, 22, 30, 23, 19, 12, 6],\n",
       "  [20, 17, 16, 21, 22],\n",
       "  [5, 9, 16, 21, 22, 30, 23, 19, 12, 6, 29, 4, 25, 13, 10],\n",
       "  [11, 9, 16, 21, 22, 30, 23, 19, 12, 6, 29, 4],\n",
       "  [7, 15, 21, 22, 30, 23, 19, 12, 6, 29, 4, 25, 13, 10, 28],\n",
       "  [11, 14, 15, 21, 22, 30, 23, 19, 12, 6, 29, 4],\n",
       "  [20, 14, 15, 21, 22]],\n",
       " 'girth': 5,\n",
       " 'skupni_cikli': {(5, 9, 16, 21, 22, 30, 23, 19, 12, 6, 29, 4, 25, 13, 10),\n",
       "  (7, 15, 21, 22, 30, 23, 19, 12, 6, 29, 4, 25, 13, 10, 28),\n",
       "  (8, 17, 16, 21, 22, 30, 23, 19, 12, 6),\n",
       "  (11, 9, 16, 21, 22, 30, 23, 19, 12, 6, 29, 4),\n",
       "  (11, 14, 15, 21, 22, 30, 23, 19, 12, 6, 29, 4),\n",
       "  (20, 14, 15, 21, 22),\n",
       "  (20, 17, 16, 21, 22)},\n",
       " 'kromatični_indeks': (3, (22, 21), Graph on 38 vertices)}"
      ]
     },
     "execution_count": 39,
     "metadata": {
     },
     "output_type": "execute_result"
    }
   ],
   "source": [
    "analiza_vozlišča(snark_3363,22, 21)"
   ]
  },
  {
   "cell_type": "code",
   "execution_count": 61,
   "id": "a61416",
   "metadata": {
    "collapsed": false
   },
   "outputs": [
    {
     "data": {
      "text/plain": [
       "{'sosedi_a': [32, 33, 21],\n",
       " 'sosedi_b': [36, 24, 30],\n",
       " 'skupni_sosedi': set(),\n",
       " 'cikli_z_a': [[24,\n",
       "   21,\n",
       "   15,\n",
       "   8,\n",
       "   5,\n",
       "   10,\n",
       "   13,\n",
       "   19,\n",
       "   23,\n",
       "   26,\n",
       "   29,\n",
       "   35,\n",
       "   39,\n",
       "   42,\n",
       "   41,\n",
       "   36,\n",
       "   31,\n",
       "   32],\n",
       "  [24, 33, 36, 31, 32]],\n",
       " 'cikli_z_b': [[24, 33, 36, 31, 32], [30, 33, 36, 31, 32, 37]],\n",
       " 'girth': 5,\n",
       " 'skupni_cikli': {(24, 33, 36, 31, 32)},\n",
       " 'kromatični_indeks': (4, (24, 33), Graph on 46 vertices)}"
      ]
     },
     "execution_count": 61,
     "metadata": {
     },
     "output_type": "execute_result"
    }
   ],
   "source": [
    "analiza_vozlišča(graf_25159, 24, 33)"
   ]
  },
  {
   "cell_type": "code",
   "execution_count": 63,
   "id": "a03240",
   "metadata": {
    "collapsed": false
   },
   "outputs": [
    {
     "data": {
      "text/plain": [
       "{'sosedi_a': [1, 2, 3],\n",
       " 'sosedi_b': [0, 42, 43],\n",
       " 'skupni_sosedi': set(),\n",
       " 'cikli_z_a': [[1, 0, 3, 41, 36, 31, 32, 37, 40, 43],\n",
       "  [2, 0, 3, 41, 36, 31, 32, 37, 40]],\n",
       " 'cikli_z_b': [[1, 42, 41, 36, 31, 32, 37, 40, 43],\n",
       "  [1, 0, 3, 41, 36, 31, 32, 37, 40, 43]],\n",
       " 'girth': 5,\n",
       " 'skupni_cikli': {(1, 0, 3, 41, 36, 31, 32, 37, 40, 43)},\n",
       " 'kromatični_indeks': (4, (0, 1), Graph on 46 vertices)}"
      ]
     },
     "execution_count": 63,
     "metadata": {
     },
     "output_type": "execute_result"
    }
   ],
   "source": [
    "analiza_vozlišča(graf_25159, 0, 1)"
   ]
  },
  {
   "cell_type": "code",
   "execution_count": 8,
   "id": "1a0f13",
   "metadata": {
    "collapsed": false
   },
   "outputs": [
   ],
   "source": [
    "def algoritem_2_izbrana(snark, izbrana_povezava):\n",
    "    \"\"\"\n",
    "    Transformira graf z določenim pravilom: odstrani dve vozlišči, doda štiri nova in jih poveže v 4-cikel.\n",
    "    \n",
    "    :param snark: Graf, ki predstavlja vhodni graf.\n",
    "    :param izbrana_povezava: Povezava (a, b), na kateri želimo izvesti transformacijo.\n",
    "    :return: kromatični indeks, izbrana povezava, končni graf.\n",
    "    \"\"\"\n",
    "    snark = snark.copy()  # Kopiraj graf za varno spremembo\n",
    "    n = snark.order()  # Število vozlišč v grafu\n",
    "\n",
    "    # Preveri, ali izbrana povezava obstaja\n",
    "    if izbrana_povezava not in snark.edges(labels=False):\n",
    "        raise ValueError(f\"Povezava {izbrana_povezava} ne obstaja v grafu.\")\n",
    "\n",
    "    # Določi vozlišča izbrane povezave\n",
    "    a, b = izbrana_povezava\n",
    "\n",
    "    # Pridobi sosede vozlišč a in b (brez medsebojnih povezav)\n",
    "    sosedi_a = [v for v in snark.neighbors(a) if v != b]\n",
    "    sosedi_b = [v for v in snark.neighbors(b) if v != a]\n",
    "\n",
    "    # Preveri, ali imata vozlišči natančno dva soseda\n",
    "    if len(sosedi_a) != 2 or len(sosedi_b) != 2:\n",
    "        raise ValueError(\"Vozlišči a in b nimata točno dveh drugih sosedov.\")\n",
    "\n",
    "    # Dodeli soseda vozliščema a in b\n",
    "    a1, a2 = sosedi_a\n",
    "    b1, b2 = sosedi_b\n",
    "\n",
    "    # Odstranimo vozlišča a in b iz grafa\n",
    "    snark.delete_vertices([a, b])\n",
    "\n",
    "    # Dodamo štiri nova vozlišča\n",
    "    nova_vozlisca = [n, n + 1, n + 2, n + 3]\n",
    "    snark.add_vertices(nova_vozlisca)\n",
    "\n",
    "    # Povežemo nova vozlišča z ustreznimi obstoječimi vozlišči\n",
    "    snark.add_edge(a1, n)\n",
    "    snark.add_edge(a2, n + 1)\n",
    "    snark.add_edge(b1, n + 2)\n",
    "    snark.add_edge(b2, n + 3)\n",
    "\n",
    "    # Povezave v naključnem 4-ciklu\n",
    "    shuffle(nova_vozlisca)\n",
    "    snark.add_edges([(nova_vozlisca[i], nova_vozlisca[(i + 1) % 4]) for i in range(4)])\n",
    "\n",
    "    # Preverimo kromatični indeks spremenjenega grafa\n",
    "    krom_indeks = snark.chromatic_index()\n",
    "\n",
    "    # Shranimo končni graf kot snark_1\n",
    "    snark_1 = snark\n",
    "\n",
    "    # Vrni kromatični indeks, izbrano povezavo in spremenjen graf\n",
    "    return krom_indeks, izbrana_povezava, snark_1\n"
   ]
  },
  {
   "cell_type": "code",
   "execution_count": 14,
   "id": "c79776",
   "metadata": {
    "collapsed": false
   },
   "outputs": [
    {
     "data": {
      "text/plain": [
       "(4, (3, 23), Graph on 26 vertices)"
      ]
     },
     "execution_count": 14,
     "metadata": {
     },
     "output_type": "execute_result"
    }
   ],
   "source": [
    "algoritem_2_izbrana(goldberg_snark_3, (3,23))"
   ]
  },
  {
   "cell_type": "code",
   "execution_count": 12,
   "id": "3e006c",
   "metadata": {
    "collapsed": false
   },
   "outputs": [
   ],
   "source": [
    "def analyze_graph_properties(graph):\n",
    "    \"\"\"\n",
    "    This function outputs various properties of a graph in SageMath.\n",
    "    :param graph: SageMath graph object\n",
    "    :return: Dictionary with graph properties\n",
    "    \"\"\"\n",
    "    properties = {}\n",
    "    \n",
    "    # Basic Properties\n",
    "    properties['Number of vertices'] = graph.order()  # Changed to order()\n",
    "    properties['Number of edges'] = graph.size()      # Changed to size()\n",
    "    properties['Degree sequence'] = graph.degree_sequence()\n",
    "    properties['Is connected?'] = graph.is_connected()\n",
    "    properties['Is bipartite?'] = graph.is_bipartite()\n",
    "    \n",
    "    # Cycles and Girth\n",
    "    try:\n",
    "        properties['Girth'] = graph.girth()  # Length of the shortest cycle (if exists)\n",
    "    except:\n",
    "        properties['Girth'] = 'No cycle (infinite girth)'\n",
    "    \n",
    "    # Chromatic index (edge coloring)\n",
    "    properties['Chromatic index'] = graph.chromatic_index()\n",
    "    \n",
    "    # Diameter and Radius\n",
    "    try:\n",
    "        properties['Diameter'] = graph.diameter()\n",
    "        properties['Radius'] = graph.radius()\n",
    "    except:\n",
    "        properties['Diameter'] = 'Not applicable'\n",
    "        properties['Radius'] = 'Not applicable'\n",
    "    \n",
    "    # Graph's cycles (this gets the cycle basis)\n",
    "    properties['Cycle Basis'] = graph.cycle_basis()\n",
    "    \n",
    "    # Smallest cycle (if any)\n",
    "    try:\n",
    "        properties['Smallest cycle length'] = min(len(cycle) for cycle in graph.cycle_basis())\n",
    "    except:\n",
    "        properties['Smallest cycle length'] = 'No cycles'\n",
    "    \n",
    "    # Clique number\n",
    "    properties['Clique number'] = graph.clique_number()\n",
    "    \n",
    "    # Average degree\n",
    "    properties['Average degree'] = graph.average_degree()\n",
    "\n",
    "    return properties\n"
   ]
  },
  {
   "cell_type": "code",
   "execution_count": 16,
   "id": "8df716",
   "metadata": {
    "collapsed": false
   },
   "outputs": [
    {
     "data": {
      "text/plain": [
       "{'Number of vertices': 24,\n",
       " 'Number of edges': 36,\n",
       " 'Degree sequence': [3,\n",
       "  3,\n",
       "  3,\n",
       "  3,\n",
       "  3,\n",
       "  3,\n",
       "  3,\n",
       "  3,\n",
       "  3,\n",
       "  3,\n",
       "  3,\n",
       "  3,\n",
       "  3,\n",
       "  3,\n",
       "  3,\n",
       "  3,\n",
       "  3,\n",
       "  3,\n",
       "  3,\n",
       "  3,\n",
       "  3,\n",
       "  3,\n",
       "  3,\n",
       "  3],\n",
       " 'Is connected?': True,\n",
       " 'Is bipartite?': False,\n",
       " 'Girth': 3,\n",
       " 'Chromatic index': 4,\n",
       " 'Diameter': 4,\n",
       " 'Radius': 4,\n",
       " 'Cycle Basis': [[3, 22, 23],\n",
       "  [16, 11, 13, 18, 19, 14, 10, 17, 22, 23],\n",
       "  [6, 7, 11, 13, 18, 19, 14, 10],\n",
       "  [2, 21, 12, 7, 11, 13, 18, 19],\n",
       "  [1, 20, 21, 12, 7, 11, 13, 18],\n",
       "  [6, 15, 20, 21, 12, 7],\n",
       "  [9, 15, 20, 21, 12, 7, 11, 13, 18, 19, 14, 10, 17],\n",
       "  [4, 8, 12, 7, 11, 13],\n",
       "  [16, 8, 12, 7, 11],\n",
       "  [5, 4, 13, 18, 19, 14],\n",
       "  [2, 0, 1, 18, 19],\n",
       "  [3, 0, 1, 18, 19, 14, 10, 17, 22],\n",
       "  [9, 5, 14, 10, 17]],\n",
       " 'Smallest cycle length': 3,\n",
       " 'Clique number': 3,\n",
       " 'Average degree': 3}"
      ]
     },
     "execution_count": 16,
     "metadata": {
     },
     "output_type": "execute_result"
    }
   ],
   "source": [
    "analyze_graph_properties(goldberg_snark_3)"
   ]
  },
  {
   "cell_type": "code",
   "execution_count": 19,
   "id": "837569",
   "metadata": {
    "collapsed": false
   },
   "outputs": [
    {
     "data": {
      "text/plain": [
       "{'Number of vertices': 26,\n",
       " 'Number of edges': 39,\n",
       " 'Degree sequence': [3,\n",
       "  3,\n",
       "  3,\n",
       "  3,\n",
       "  3,\n",
       "  3,\n",
       "  3,\n",
       "  3,\n",
       "  3,\n",
       "  3,\n",
       "  3,\n",
       "  3,\n",
       "  3,\n",
       "  3,\n",
       "  3,\n",
       "  3,\n",
       "  3,\n",
       "  3,\n",
       "  3,\n",
       "  3,\n",
       "  3,\n",
       "  3,\n",
       "  3,\n",
       "  3,\n",
       "  3,\n",
       "  3],\n",
       " 'Is connected?': True,\n",
       " 'Is bipartite?': False,\n",
       " 'Girth': 3,\n",
       " 'Chromatic index': 4,\n",
       " 'Diameter': 5,\n",
       " 'Radius': 4,\n",
       " 'Cycle Basis': [[22, 17, 10, 14, 19, 18, 13, 11, 16, 26, 27],\n",
       "  [5, 9, 17, 10, 14],\n",
       "  [6, 15, 9, 17, 10],\n",
       "  [1, 20, 15, 9, 17, 10, 14, 19, 18],\n",
       "  [2, 21, 20, 15, 9, 17, 10, 14, 19],\n",
       "  [7, 12, 21, 20, 15, 9, 17, 10, 14, 19, 18, 13, 11],\n",
       "  [8, 12, 21, 20, 15, 9, 17, 10, 14, 19, 18, 13, 11, 16],\n",
       "  [7, 6, 10, 14, 19, 18, 13, 11],\n",
       "  [4, 5, 14, 19, 18, 13],\n",
       "  [1, 0, 2, 19, 18],\n",
       "  [24, 0, 2, 19, 18, 13, 11, 16, 26],\n",
       "  [8, 4, 13, 11, 16],\n",
       "  [25, 24, 26, 27],\n",
       "  [25, 22, 27]],\n",
       " 'Smallest cycle length': 3,\n",
       " 'Clique number': 3,\n",
       " 'Average degree': 3}"
      ]
     },
     "execution_count": 19,
     "metadata": {
     },
     "output_type": "execute_result"
    }
   ],
   "source": [
    "krom_indeks, izbrana_povezava, snark_1 = algoritem_2_izbrana(goldberg_snark_3, (3,23))\n",
    "\n",
    "analyze_graph_properties(snark_1)"
   ]
  },
  {
   "cell_type": "code",
   "execution_count": 21,
   "id": "8848f6",
   "metadata": {
    "collapsed": false
   },
   "outputs": [
    {
     "data": {
      "text/plain": [
       "{'Number of vertices': 26,\n",
       " 'Number of edges': 39,\n",
       " 'Degree sequence': [3,\n",
       "  3,\n",
       "  3,\n",
       "  3,\n",
       "  3,\n",
       "  3,\n",
       "  3,\n",
       "  3,\n",
       "  3,\n",
       "  3,\n",
       "  3,\n",
       "  3,\n",
       "  3,\n",
       "  3,\n",
       "  3,\n",
       "  3,\n",
       "  3,\n",
       "  3,\n",
       "  3,\n",
       "  3,\n",
       "  3,\n",
       "  3,\n",
       "  3,\n",
       "  3,\n",
       "  3,\n",
       "  3],\n",
       " 'Is connected?': True,\n",
       " 'Is bipartite?': False,\n",
       " 'Girth': 3,\n",
       " 'Chromatic index': 3,\n",
       " 'Diameter': 5,\n",
       " 'Radius': 4,\n",
       " 'Cycle Basis': [[3, 22, 23],\n",
       "  [14, 10, 17, 22, 23, 16, 11, 13, 18, 26, 27],\n",
       "  [7, 6, 10, 17, 22, 23, 16, 11],\n",
       "  [9, 15, 6, 10, 17],\n",
       "  [1, 20, 15, 6, 10, 17, 22, 23, 16, 11, 13, 18],\n",
       "  [25, 21, 20, 15, 6, 10, 17, 22, 23, 16, 11, 13, 18, 26, 27],\n",
       "  [7, 12, 21, 20, 15, 6],\n",
       "  [8, 12, 21, 20, 15, 6, 10, 17, 22, 23, 16],\n",
       "  [4, 5, 9, 17, 22, 23, 16, 11, 13],\n",
       "  [14, 5, 9, 17, 22, 23, 16, 11, 13, 18, 26, 27],\n",
       "  [1, 0, 3, 23, 16, 11, 13, 18],\n",
       "  [24, 0, 3, 23, 16, 11, 13, 18, 26],\n",
       "  [4, 8, 16, 11, 13],\n",
       "  [25, 24, 26, 27]],\n",
       " 'Smallest cycle length': 3,\n",
       " 'Clique number': 3,\n",
       " 'Average degree': 3}"
      ]
     },
     "execution_count": 21,
     "metadata": {
     },
     "output_type": "execute_result"
    }
   ],
   "source": [
    "krom_indeks, izbrana_povezava, snark_1 = algoritem_2_izbrana(goldberg_snark_3, (2,19))\n",
    "\n",
    "analyze_graph_properties(snark_1)"
   ]
  },
  {
   "cell_type": "code",
   "execution_count": 22,
   "id": "0bcd1b",
   "metadata": {
    "collapsed": false
   },
   "outputs": [
    {
     "data": {
      "text/plain": [
       "{'Number of vertices': 26,\n",
       " 'Number of edges': 39,\n",
       " 'Degree sequence': [3,\n",
       "  3,\n",
       "  3,\n",
       "  3,\n",
       "  3,\n",
       "  3,\n",
       "  3,\n",
       "  3,\n",
       "  3,\n",
       "  3,\n",
       "  3,\n",
       "  3,\n",
       "  3,\n",
       "  3,\n",
       "  3,\n",
       "  3,\n",
       "  3,\n",
       "  3,\n",
       "  3,\n",
       "  3,\n",
       "  3,\n",
       "  3,\n",
       "  3,\n",
       "  3,\n",
       "  3,\n",
       "  3],\n",
       " 'Is connected?': True,\n",
       " 'Is bipartite?': False,\n",
       " 'Girth': 4,\n",
       " 'Chromatic index': 4,\n",
       " 'Diameter': 5,\n",
       " 'Radius': 4,\n",
       " 'Cycle Basis': [[24, 17, 10, 14, 19, 18, 13, 11, 16, 26, 27],\n",
       "  [5, 9, 17, 10, 14],\n",
       "  [6, 15, 9, 17, 10],\n",
       "  [1, 20, 15, 9, 17, 10, 14, 19, 18],\n",
       "  [2, 21, 20, 15, 9, 17, 10, 14, 19],\n",
       "  [7, 12, 21, 20, 15, 9, 17, 10, 14, 19, 18, 13, 11],\n",
       "  [8, 12, 21, 20, 15, 9, 17, 10, 14, 19, 18, 13, 11, 16],\n",
       "  [7, 6, 10, 14, 19, 18, 13, 11],\n",
       "  [4, 5, 14, 19, 18, 13],\n",
       "  [1, 0, 2, 19, 18],\n",
       "  [3, 0, 2, 19, 18, 13, 11, 16, 26, 27],\n",
       "  [8, 4, 13, 11, 16],\n",
       "  [24, 25, 26, 27],\n",
       "  [3, 25, 26, 27]],\n",
       " 'Smallest cycle length': 4,\n",
       " 'Clique number': 2,\n",
       " 'Average degree': 3}"
      ]
     },
     "execution_count": 22,
     "metadata": {
     },
     "output_type": "execute_result"
    }
   ],
   "source": [
    "krom_indeks, izbrana_povezava, snark_1 = algoritem_2_izbrana(goldberg_snark_3, (22,23))\n",
    "\n",
    "analyze_graph_properties(snark_1)"
   ]
  },
  {
   "cell_type": "code",
   "execution_count": 23,
   "id": "6c117b",
   "metadata": {
    "collapsed": false
   },
   "outputs": [
    {
     "data": {
      "text/plain": [
       "{'Number of vertices': 36,\n",
       " 'Number of edges': 54,\n",
       " 'Degree sequence': [3,\n",
       "  3,\n",
       "  3,\n",
       "  3,\n",
       "  3,\n",
       "  3,\n",
       "  3,\n",
       "  3,\n",
       "  3,\n",
       "  3,\n",
       "  3,\n",
       "  3,\n",
       "  3,\n",
       "  3,\n",
       "  3,\n",
       "  3,\n",
       "  3,\n",
       "  3,\n",
       "  3,\n",
       "  3,\n",
       "  3,\n",
       "  3,\n",
       "  3,\n",
       "  3,\n",
       "  3,\n",
       "  3,\n",
       "  3,\n",
       "  3,\n",
       "  3,\n",
       "  3,\n",
       "  3,\n",
       "  3,\n",
       "  3,\n",
       "  3,\n",
       "  3,\n",
       "  3],\n",
       " 'Is connected?': True,\n",
       " 'Is bipartite?': False,\n",
       " 'Girth': 5,\n",
       " 'Chromatic index': 4,\n",
       " 'Diameter': 6,\n",
       " 'Radius': 5,\n",
       " 'Cycle Basis': [[5, 27, 31, 25, 13, 10],\n",
       "  [18, 27, 31, 25, 13],\n",
       "  [33, 3, 31, 25, 13, 10, 28, 34, 35],\n",
       "  [1, 0, 3, 31, 25, 13, 10, 28, 34, 35],\n",
       "  [2, 0, 3, 31, 25, 13, 10, 28, 34],\n",
       "  [33, 29, 4, 25, 13, 10, 28, 34, 35],\n",
       "  [7, 24, 12, 6, 29, 4, 25, 13, 10, 28],\n",
       "  [2, 32, 24, 12, 6, 29, 4, 25, 13, 10, 28, 34],\n",
       "  [8, 26, 32, 24, 12, 6],\n",
       "  [19, 26, 32, 24, 12],\n",
       "  [18, 23, 19, 12, 6, 29, 4, 25, 13],\n",
       "  [1, 30, 23, 19, 12, 6, 29, 4, 25, 13, 10, 28, 34, 35],\n",
       "  [8, 17, 16, 21, 22, 30, 23, 19, 12, 6],\n",
       "  [20, 17, 16, 21, 22],\n",
       "  [5, 9, 16, 21, 22, 30, 23, 19, 12, 6, 29, 4, 25, 13, 10],\n",
       "  [11, 9, 16, 21, 22, 30, 23, 19, 12, 6, 29, 4],\n",
       "  [7, 15, 21, 22, 30, 23, 19, 12, 6, 29, 4, 25, 13, 10, 28],\n",
       "  [11, 14, 15, 21, 22, 30, 23, 19, 12, 6, 29, 4],\n",
       "  [20, 14, 15, 21, 22]],\n",
       " 'Smallest cycle length': 5,\n",
       " 'Clique number': 2,\n",
       " 'Average degree': 3}"
      ]
     },
     "execution_count": 23,
     "metadata": {
     },
     "output_type": "execute_result"
    }
   ],
   "source": [
    "analyze_graph_properties(snark_3363)"
   ]
  },
  {
   "cell_type": "code",
   "execution_count": 27,
   "id": "ee6d11",
   "metadata": {
    "collapsed": false
   },
   "outputs": [
    {
     "data": {
      "text/plain": [
       "{'Number of vertices': 38,\n",
       " 'Number of edges': 57,\n",
       " 'Degree sequence': [3,\n",
       "  3,\n",
       "  3,\n",
       "  3,\n",
       "  3,\n",
       "  3,\n",
       "  3,\n",
       "  3,\n",
       "  3,\n",
       "  3,\n",
       "  3,\n",
       "  3,\n",
       "  3,\n",
       "  3,\n",
       "  3,\n",
       "  3,\n",
       "  3,\n",
       "  3,\n",
       "  3,\n",
       "  3,\n",
       "  3,\n",
       "  3,\n",
       "  3,\n",
       "  3,\n",
       "  3,\n",
       "  3,\n",
       "  3,\n",
       "  3,\n",
       "  3,\n",
       "  3,\n",
       "  3,\n",
       "  3,\n",
       "  3,\n",
       "  3,\n",
       "  3,\n",
       "  3,\n",
       "  3,\n",
       "  3],\n",
       " 'Is connected?': True,\n",
       " 'Is bipartite?': False,\n",
       " 'Girth': 4,\n",
       " 'Chromatic index': 4,\n",
       " 'Diameter': 6,\n",
       " 'Radius': 5,\n",
       " 'Cycle Basis': [[12, 24, 32, 26, 19],\n",
       "  [15, 7, 24, 32, 26, 19, 23, 30, 22, 21],\n",
       "  [2, 34, 28, 7, 24, 32],\n",
       "  [1, 35, 34, 28, 7, 24, 32, 26, 19, 23, 30],\n",
       "  [37, 29, 33, 35, 34, 28, 7, 24, 32, 26, 19, 23, 30, 22, 21, 16, 9, 38, 39],\n",
       "  [8, 6, 29, 33, 35, 34, 28, 7, 24, 32, 26],\n",
       "  [12, 6, 29, 33, 35, 34, 28, 7, 24],\n",
       "  [5, 27, 31, 3, 33, 35, 34, 28, 7, 24, 32, 26, 19, 23, 30, 22, 21, 16, 9],\n",
       "  [18, 27, 31, 3, 33, 35, 34, 28, 7, 24, 32, 26, 19, 23],\n",
       "  [36,\n",
       "   25,\n",
       "   31,\n",
       "   3,\n",
       "   33,\n",
       "   35,\n",
       "   34,\n",
       "   28,\n",
       "   7,\n",
       "   24,\n",
       "   32,\n",
       "   26,\n",
       "   19,\n",
       "   23,\n",
       "   30,\n",
       "   22,\n",
       "   21,\n",
       "   16,\n",
       "   9,\n",
       "   38],\n",
       "  [10, 13, 25, 31, 3, 33, 35, 34, 28],\n",
       "  [18, 13, 25, 31, 3, 33, 35, 34, 28, 7, 24, 32, 26, 19, 23],\n",
       "  [1, 0, 3, 33, 35],\n",
       "  [2, 0, 3, 33, 35, 34],\n",
       "  [5, 10, 28, 7, 24, 32, 26, 19, 23, 30, 22, 21, 16, 9],\n",
       "  [17, 8, 26, 19, 23, 30, 22, 21, 16],\n",
       "  [14, 20, 22, 21, 16, 9, 38, 39],\n",
       "  [17, 20, 22, 21, 16],\n",
       "  [14, 15, 21, 16, 9, 38, 39],\n",
       "  [37, 36, 38, 39]],\n",
       " 'Smallest cycle length': 4,\n",
       " 'Clique number': 2,\n",
       " 'Average degree': 3}"
      ]
     },
     "execution_count": 27,
     "metadata": {
     },
     "output_type": "execute_result"
    }
   ],
   "source": [
    "krom_indeks, izbrana_povezava, snark_1 = algoritem_2_izbrana(snark_3363, (4,11))\n",
    "\n",
    "analyze_graph_properties(snark_1)"
   ]
  },
  {
   "cell_type": "code",
   "execution_count": 28,
   "id": "ec9a32",
   "metadata": {
    "collapsed": false
   },
   "outputs": [
    {
     "data": {
      "image/png": "[encoded data removed]",
      "text/plain": [
       "Graphics object consisting of 96 graphics primitives"
      ]
     },
     "execution_count": 28,
     "metadata": {
     },
     "output_type": "execute_result"
    }
   ],
   "source": [
    "snark_1.plot()"
   ]
  },
  {
   "cell_type": "code",
   "execution_count": 26,
   "id": "8784e9",
   "metadata": {
    "collapsed": false
   },
   "outputs": [
    {
     "data": {
      "text/plain": [
       "{'Number of vertices': 38,\n",
       " 'Number of edges': 57,\n",
       " 'Degree sequence': [3,\n",
       "  3,\n",
       "  3,\n",
       "  3,\n",
       "  3,\n",
       "  3,\n",
       "  3,\n",
       "  3,\n",
       "  3,\n",
       "  3,\n",
       "  3,\n",
       "  3,\n",
       "  3,\n",
       "  3,\n",
       "  3,\n",
       "  3,\n",
       "  3,\n",
       "  3,\n",
       "  3,\n",
       "  3,\n",
       "  3,\n",
       "  3,\n",
       "  3,\n",
       "  3,\n",
       "  3,\n",
       "  3,\n",
       "  3,\n",
       "  3,\n",
       "  3,\n",
       "  3,\n",
       "  3,\n",
       "  3,\n",
       "  3,\n",
       "  3,\n",
       "  3,\n",
       "  3,\n",
       "  3,\n",
       "  3],\n",
       " 'Is connected?': True,\n",
       " 'Is bipartite?': False,\n",
       " 'Girth': 4,\n",
       " 'Chromatic index': 3,\n",
       " 'Diameter': 6,\n",
       " 'Radius': 5,\n",
       " 'Cycle Basis': [[12, 24, 32, 26, 19],\n",
       "  [15, 7, 24, 32, 26, 19, 23, 30, 22, 38, 39],\n",
       "  [2, 34, 28, 7, 24, 32],\n",
       "  [1, 35, 34, 28, 7, 24, 32, 26, 19, 23, 30],\n",
       "  [8, 6, 29, 33, 35, 34, 28, 7, 24, 32, 26],\n",
       "  [12, 6, 29, 33, 35, 34, 28, 7, 24],\n",
       "  [20, 14, 11, 4, 29, 33, 35, 34, 28, 7, 24, 32, 26, 19, 23, 30, 22],\n",
       "  [15, 14, 11, 4, 29, 33, 35, 34, 28, 7],\n",
       "  [37, 9, 11, 4, 29, 33, 35, 34, 28, 7, 24, 32, 26, 19, 23, 30, 22, 38],\n",
       "  [10, 5, 9, 11, 4, 29, 33, 35, 34, 28],\n",
       "  [18, 27, 5, 9, 11, 4, 29, 33, 35, 34, 28, 7, 24, 32, 26, 19, 23],\n",
       "  [3, 31, 27, 5, 9, 11, 4, 29, 33],\n",
       "  [25, 31, 27, 5, 9, 11, 4],\n",
       "  [10, 13, 25, 4, 29, 33, 35, 34, 28],\n",
       "  [18, 13, 25, 4, 29, 33, 35, 34, 28, 7, 24, 32, 26, 19, 23],\n",
       "  [1, 0, 3, 33, 35],\n",
       "  [2, 0, 3, 33, 35, 34],\n",
       "  [36, 17, 8, 26, 19, 23, 30, 22, 38, 39],\n",
       "  [20, 17, 8, 26, 19, 23, 30, 22],\n",
       "  [36, 37, 38, 39]],\n",
       " 'Smallest cycle length': 4,\n",
       " 'Clique number': 2,\n",
       " 'Average degree': 3}"
      ]
     },
     "execution_count": 26,
     "metadata": {
     },
     "output_type": "execute_result"
    }
   ],
   "source": [
    "krom_indeks, izbrana_povezava, snark_1 = algoritem_2_izbrana(snark_3363, (16,21))\n",
    "\n",
    "analyze_graph_properties(snark_1)"
   ]
  },
  {
   "cell_type": "code",
   "execution_count": 42,
   "id": "b6fb8a",
   "metadata": {
    "collapsed": false
   },
   "outputs": [
    {
     "data": {
      "text/plain": [
       "{'Number of vertices': 44,\n",
       " 'Number of edges': 66,\n",
       " 'Degree sequence': [3,\n",
       "  3,\n",
       "  3,\n",
       "  3,\n",
       "  3,\n",
       "  3,\n",
       "  3,\n",
       "  3,\n",
       "  3,\n",
       "  3,\n",
       "  3,\n",
       "  3,\n",
       "  3,\n",
       "  3,\n",
       "  3,\n",
       "  3,\n",
       "  3,\n",
       "  3,\n",
       "  3,\n",
       "  3,\n",
       "  3,\n",
       "  3,\n",
       "  3,\n",
       "  3,\n",
       "  3,\n",
       "  3,\n",
       "  3,\n",
       "  3,\n",
       "  3,\n",
       "  3,\n",
       "  3,\n",
       "  3,\n",
       "  3,\n",
       "  3,\n",
       "  3,\n",
       "  3,\n",
       "  3,\n",
       "  3,\n",
       "  3,\n",
       "  3,\n",
       "  3,\n",
       "  3,\n",
       "  3,\n",
       "  3],\n",
       " 'Is connected?': True,\n",
       " 'Is bipartite?': False,\n",
       " 'Girth': 5,\n",
       " 'Chromatic index': 4,\n",
       " 'Diameter': 8,\n",
       " 'Radius': 7,\n",
       " 'Cycle Basis': [[1, 42, 41, 36, 31, 32, 37, 40, 43],\n",
       "  [2, 39, 42, 41, 36, 31, 32, 37, 40],\n",
       "  [38, 34, 26, 29, 35, 39, 42, 41, 36, 31, 32, 37, 40, 43],\n",
       "  [22, 28, 34, 26, 29],\n",
       "  [27, 28, 34, 26, 29, 35],\n",
       "  [27, 23, 26, 29, 35],\n",
       "  [22, 18, 10, 13, 19, 23, 26, 29],\n",
       "  [4, 12, 18, 10, 13],\n",
       "  [11, 12, 18, 10, 13, 19],\n",
       "  [11, 5, 10, 13, 19],\n",
       "  [24, 21, 15, 8, 5, 10, 13, 19, 23, 26, 29, 35, 39, 42, 41, 36, 31, 32],\n",
       "  [4, 9, 16, 21, 15, 8, 5, 10, 13],\n",
       "  [7, 17, 9, 16, 21, 15],\n",
       "  [14, 20, 17, 9, 16, 21, 15, 8],\n",
       "  [25,\n",
       "   20,\n",
       "   17,\n",
       "   9,\n",
       "   16,\n",
       "   21,\n",
       "   15,\n",
       "   8,\n",
       "   5,\n",
       "   10,\n",
       "   13,\n",
       "   19,\n",
       "   23,\n",
       "   26,\n",
       "   29,\n",
       "   35,\n",
       "   39,\n",
       "   42,\n",
       "   41,\n",
       "   36,\n",
       "   31],\n",
       "  [7, 6, 16, 21, 15],\n",
       "  [14, 6, 16, 21, 15, 8],\n",
       "  [38, 3, 41, 36, 31, 32, 37, 40, 43],\n",
       "  [1, 0, 3, 41, 36, 31, 32, 37, 40, 43],\n",
       "  [2, 0, 3, 41, 36, 31, 32, 37, 40],\n",
       "  [24, 33, 36, 31, 32],\n",
       "  [30, 33, 36, 31, 32, 37],\n",
       "  [30, 25, 31, 32, 37]],\n",
       " 'Smallest cycle length': 5,\n",
       " 'Clique number': 2,\n",
       " 'Average degree': 3}"
      ]
     },
     "execution_count": 42,
     "metadata": {
     },
     "output_type": "execute_result"
    }
   ],
   "source": [
    "analyze_graph_properties(graf_25159)"
   ]
  },
  {
   "cell_type": "code",
   "execution_count": 30,
   "id": "ad3b4a",
   "metadata": {
    "collapsed": false
   },
   "outputs": [
    {
     "data": {
      "text/plain": [
       "{'Number of vertices': 46,\n",
       " 'Number of edges': 69,\n",
       " 'Degree sequence': [3,\n",
       "  3,\n",
       "  3,\n",
       "  3,\n",
       "  3,\n",
       "  3,\n",
       "  3,\n",
       "  3,\n",
       "  3,\n",
       "  3,\n",
       "  3,\n",
       "  3,\n",
       "  3,\n",
       "  3,\n",
       "  3,\n",
       "  3,\n",
       "  3,\n",
       "  3,\n",
       "  3,\n",
       "  3,\n",
       "  3,\n",
       "  3,\n",
       "  3,\n",
       "  3,\n",
       "  3,\n",
       "  3,\n",
       "  3,\n",
       "  3,\n",
       "  3,\n",
       "  3,\n",
       "  3,\n",
       "  3,\n",
       "  3,\n",
       "  3,\n",
       "  3,\n",
       "  3,\n",
       "  3,\n",
       "  3,\n",
       "  3,\n",
       "  3,\n",
       "  3,\n",
       "  3,\n",
       "  3,\n",
       "  3,\n",
       "  3,\n",
       "  3],\n",
       " 'Is connected?': True,\n",
       " 'Is bipartite?': False,\n",
       " 'Girth': 4,\n",
       " 'Chromatic index': 4,\n",
       " 'Diameter': 8,\n",
       " 'Radius': 7,\n",
       " 'Cycle Basis': [[44, 33, 24, 21, 16, 9, 17, 20, 46, 47],\n",
       "  [31, 36, 33, 24, 21, 16, 9, 17, 20, 46, 47],\n",
       "  [3, 38, 34, 26, 29, 35, 39, 42, 41],\n",
       "  [1, 43, 38, 34, 26, 29, 35, 39, 42],\n",
       "  [2, 40, 43, 38, 34, 26, 29, 35, 39],\n",
       "  [45,\n",
       "   37,\n",
       "   40,\n",
       "   43,\n",
       "   38,\n",
       "   34,\n",
       "   26,\n",
       "   29,\n",
       "   35,\n",
       "   39,\n",
       "   42,\n",
       "   41,\n",
       "   36,\n",
       "   33,\n",
       "   24,\n",
       "   21,\n",
       "   16,\n",
       "   9,\n",
       "   17,\n",
       "   20,\n",
       "   46],\n",
       "  [32, 37, 40, 43, 38, 34, 26, 29, 35, 39, 42, 41, 36, 33, 24],\n",
       "  [22, 28, 34, 26, 29],\n",
       "  [27, 28, 34, 26, 29, 35],\n",
       "  [27, 23, 26, 29, 35],\n",
       "  [4, 13, 19, 23, 26, 29, 35, 39, 42, 41, 36, 33, 24, 21, 16, 9],\n",
       "  [22, 18, 10, 13, 19, 23, 26, 29],\n",
       "  [4, 12, 18, 10, 13],\n",
       "  [11, 12, 18, 10, 13, 19],\n",
       "  [11, 5, 10, 13, 19],\n",
       "  [14,\n",
       "   8,\n",
       "   5,\n",
       "   10,\n",
       "   13,\n",
       "   19,\n",
       "   23,\n",
       "   26,\n",
       "   29,\n",
       "   35,\n",
       "   39,\n",
       "   42,\n",
       "   41,\n",
       "   36,\n",
       "   33,\n",
       "   24,\n",
       "   21,\n",
       "   16,\n",
       "   9,\n",
       "   17,\n",
       "   20],\n",
       "  [15, 8, 5, 10, 13, 19, 23, 26, 29, 35, 39, 42, 41, 36, 33, 24, 21],\n",
       "  [1, 0, 2, 39, 42],\n",
       "  [3, 0, 2, 39, 42, 41],\n",
       "  [31, 32, 24, 21, 16, 9, 17, 20, 46, 47],\n",
       "  [7, 15, 21, 16, 9, 17],\n",
       "  [7, 6, 16, 9, 17],\n",
       "  [14, 6, 16, 9, 17, 20],\n",
       "  [44, 45, 46, 47]],\n",
       " 'Smallest cycle length': 4,\n",
       " 'Clique number': 2,\n",
       " 'Average degree': 3}"
      ]
     },
     "execution_count": 30,
     "metadata": {
     },
     "output_type": "execute_result"
    }
   ],
   "source": [
    "krom_indeks, izbrana_povezava, snark_1 = algoritem_2_izbrana(graf_25159, (30,25))\n",
    "\n",
    "analyze_graph_properties(snark_1)"
   ]
  },
  {
   "cell_type": "code",
   "execution_count": 0,
   "id": "b1b854",
   "metadata": {
    "collapsed": false
   },
   "outputs": [
   ],
   "source": [
    "Poglejmo si snark_3363 in poglejmo, kdaj se ohrani in če se sploh ohrani v drugem koraku, v primeru, da se v prvem koraku ohrani:"
   ]
  },
  {
   "cell_type": "code",
   "execution_count": 13,
   "id": "66501d",
   "metadata": {
    "collapsed": false
   },
   "outputs": [
    {
     "data": {
      "text/plain": [
       "[(4, (0, 36)), (4, (1, 36)), (4, (0, 37)), (4, (1, 37)), (4, (10, 36))]"
      ]
     },
     "execution_count": 13,
     "metadata": {
     },
     "output_type": "execute_result"
    }
   ],
   "source": [
    "krom_indeks, izbrana_povezava, snark_1 = algoritem_2_izbrana(snark_3363, (4,11))\n",
    "\n",
    "snark_1.relabel()\n",
    "ponavljaj_algoritem_2_samo_4(snark_1,500)"
   ]
  },
  {
   "cell_type": "code",
   "execution_count": 14,
   "id": "07568c",
   "metadata": {
    "collapsed": false
   },
   "outputs": [
    {
     "data": {
      "image/png": "[encoded data removed]",
      "text/plain": [
       "Graphics object consisting of 96 graphics primitives"
      ]
     },
     "execution_count": 14,
     "metadata": {
     },
     "output_type": "execute_result"
    }
   ],
   "source": [
    "snark_1.show()"
   ]
  },
  {
   "cell_type": "markdown",
   "id": "878699",
   "metadata": {
    "collapsed": false
   },
   "source": [
    "Opazimo, da se je ohranil index v drugem koraku, ko smo izbrali povezavo iz 4 cikla, zraven pa je še povezava \\(10,36\\), ki pa ni del cikla. Poskusimo še v tretjem koraku:\n",
    "\n"
   ]
  },
  {
   "cell_type": "code",
   "execution_count": 16,
   "id": "6fa7fb",
   "metadata": {
    "collapsed": false
   },
   "outputs": [
    {
     "data": {
      "text/plain": [
       "[(4, (2, 38)),\n",
       " (4, (0, 37)),\n",
       " (4, (1, 39)),\n",
       " (4, (0, 1)),\n",
       " (4, (11, 39)),\n",
       " (4, (38, 39)),\n",
       " (4, (0, 38)),\n",
       " (4, (2, 37))]"
      ]
     },
     "execution_count": 16,
     "metadata": {
     },
     "output_type": "execute_result"
    }
   ],
   "source": [
    "krom_indeks, izbrana_povezava, snark_2 = algoritem_2_izbrana(snark_1, (0,36))\n",
    "\n",
    "snark_2.relabel()\n",
    "ponavljaj_algoritem_2_samo_4(snark_2, 500)\n"
   ]
  },
  {
   "cell_type": "code",
   "execution_count": 17,
   "id": "40fca9",
   "metadata": {
    "collapsed": false
   },
   "outputs": [
    {
     "data": {
      "text/plain": [
       "[(4, (1, 38)),\n",
       " (4, (2, 38)),\n",
       " (4, (0, 39)),\n",
       " (4, (0, 1)),\n",
       " (4, (3, 37)),\n",
       " (4, (38, 39)),\n",
       " (4, (3, 39)),\n",
       " (4, (2, 37))]"
      ]
     },
     "execution_count": 17,
     "metadata": {
     },
     "output_type": "execute_result"
    }
   ],
   "source": [
    "krom_indeks, izbrana_povezava, snark_2 = algoritem_2_izbrana(snark_1, (10,36))\n",
    "\n",
    "snark_2.relabel()\n",
    "ponavljaj_algoritem_2_samo_4(snark_2, 500)\n"
   ]
  },
  {
   "cell_type": "code",
   "execution_count": 72,
   "id": "41f017",
   "metadata": {
    "collapsed": false
   },
   "outputs": [
    {
     "data": {
      "image/png": "[encoded data removed]",
      "text/plain": [
       "Graphics object consisting of 101 graphics primitives"
      ]
     },
     "execution_count": 72,
     "metadata": {
     },
     "output_type": "execute_result"
    }
   ],
   "source": [
    "snark_2.plot()"
   ]
  },
  {
   "cell_type": "code",
   "execution_count": 18,
   "id": "f82d64",
   "metadata": {
    "collapsed": false
   },
   "outputs": [
    {
     "data": {
      "text/plain": [
       "[(4, (0, 40)),\n",
       " (4, (2, 39)),\n",
       " (4, (2, 3)),\n",
       " (4, (3, 38)),\n",
       " (4, (4, 40)),\n",
       " (4, (40, 41)),\n",
       " (4, (4, 39)),\n",
       " (4, (0, 1)),\n",
       " (4, (38, 39)),\n",
       " (4, (1, 41)),\n",
       " (4, (0, 38))]"
      ]
     },
     "execution_count": 18,
     "metadata": {
     },
     "output_type": "execute_result"
    }
   ],
   "source": [
    "krom_indeks, izbrana_povezava, snark_3 = algoritem_2_izbrana(snark_2, (2,37))\n",
    "\n",
    "snark_3.relabel()\n",
    "ponavljaj_algoritem_2_samo_4(snark_3, 500)\n"
   ]
  },
  {
   "cell_type": "markdown",
   "id": "26ece7",
   "metadata": {
    "collapsed": false
   },
   "source": [
    "Znova se indeks ohrani, v kolikor izberemo 4\\-cikel, zraven pa imamo še nekaj povezav. Vidimo torej, da se zagotovo ohrani, če izberemo povezavo iz 4 cikla. Poglejmo, če se lahko indeks vrne, če izberemo povezavo, ki da kromatični indeks 3.\n",
    "\n"
   ]
  },
  {
   "cell_type": "code",
   "execution_count": 73,
   "id": "c6a975",
   "metadata": {
    "collapsed": false
   },
   "outputs": [
    {
     "data": {
      "text/plain": [
       "[]"
      ]
     },
     "execution_count": 73,
     "metadata": {
     },
     "output_type": "execute_result"
    }
   ],
   "source": [
    "krom_indeks, izbrana_povezava, snark_2 = algoritem_2_izbrana(snark_1, (7,9))\n",
    "\n",
    "snark_2.relabel()\n",
    "ponavljaj_algoritem_2_samo_4(snark_2, 300)\n"
   ]
  },
  {
   "cell_type": "markdown",
   "id": "725d49",
   "metadata": {
    "collapsed": false
   },
   "source": [
    "Vidimo, da se indeks ne more vrnit na 4. Kaj pa če poskusimo iteracijo?\n"
   ]
  },
  {
   "cell_type": "code",
   "execution_count": 76,
   "id": "276fe8",
   "metadata": {
    "collapsed": false
   },
   "outputs": [
    {
     "data": {
      "text/plain": [
       "[(-1, 'None', 3),\n",
       " (0, (13, 25), 3),\n",
       " (1, (21, 22), 3),\n",
       " (2, (9, 15), 3),\n",
       " (3, (19, 23), 3),\n",
       " (4, (40, 42), 3),\n",
       " (5, (2, 36), 3),\n",
       " (6, (12, 24), 3),\n",
       " (7, (53, 54), 3),\n",
       " (8, (16, 17), 3),\n",
       " (9, (18, 70), 3),\n",
       " (10, (61, 62), 3),\n",
       " (11, (68, 69), 3),\n",
       " (12, (30, 55), 3),\n",
       " (13, (48, 51), 3),\n",
       " (14, (56, 59), 3),\n",
       " (15, (41, 98), 3),\n",
       " (16, (0, 1), 3),\n",
       " (17, (76, 79), 3),\n",
       " (18, (34, 35), 3),\n",
       " (19, (97, 108), 3),\n",
       " (20, (52, 91), 3),\n",
       " (21, (63, 83), 3),\n",
       " (22, (94, 95), 3),\n",
       " (23, (112, 115), 3),\n",
       " (24, (84, 85), 3),\n",
       " (25, (47, 89), 3),\n",
       " (26, (93, 131), 3),\n",
       " (27, (26, 32), 3),\n",
       " (28, (4, 5), 3),\n",
       " (29, (73, 74), 3),\n",
       " (30, (14, 130), 3),\n",
       " (31, (8, 10), 3),\n",
       " (32, (31, 43), 3),\n",
       " (33, (135, 155), 3),\n",
       " (34, (39, 149), 3),\n",
       " (35, (150, 178), 3),\n",
       " (36, (117, 118), 3),\n",
       " (37, (57, 171), 3),\n",
       " (38, (64, 67), 3),\n",
       " (39, (45, 50), 3),\n",
       " (40, (7, 168), 3),\n",
       " (41, (164, 165), 3),\n",
       " (42, (3, 37), 3),\n",
       " (43, (88, 90), 3),\n",
       " (44, (66, 195), 3),\n",
       " (45, (120, 122), 3),\n",
       " (46, (180, 183), 3),\n",
       " (47, (86, 138), 3),\n",
       " (48, (109, 186), 3),\n",
       " (49, (124, 126), 3),\n",
       " (50, (157, 158), 3),\n",
       " (51, (217, 224), 3),\n",
       " (52, (236, 238), 3),\n",
       " (53, (161, 163), 3),\n",
       " (54, (172, 175), 3),\n",
       " (55, (182, 226), 3),\n",
       " (56, (204, 207), 3),\n",
       " (57, (176, 179), 3),\n",
       " (58, (181, 260), 3),\n",
       " (59, (65, 193), 3),\n",
       " (60, (133, 134), 3),\n",
       " (61, (162, 255), 3),\n",
       " (62, (245, 246), 3),\n",
       " (63, (232, 235), 3),\n",
       " (64, (201, 202), 3),\n",
       " (65, (234, 293), 3),\n",
       " (66, (60, 81), 3),\n",
       " (67, (188, 189), 3),\n",
       " (68, (228, 230), 3),\n",
       " (69, (218, 244), 3),\n",
       " (70, (173, 282), 3),\n",
       " (71, (153, 154), 3),\n",
       " (72, (264, 267), 3),\n",
       " (73, (249, 250), 3),\n",
       " (74, (208, 211), 3),\n",
       " (75, (72, 75), 3),\n",
       " (76, (220, 222), 3),\n",
       " (77, (308, 311), 3),\n",
       " (78, (96, 184), 3),\n",
       " (79, (156, 159), 3),\n",
       " (80, (194, 279), 3),\n",
       " (81, (318, 319), 3),\n",
       " (82, (44, 140), 3),\n",
       " (83, (263, 274), 3),\n",
       " (84, (200, 296), 3),\n",
       " (85, (6, 281), 3),\n",
       " (86, (20, 242), 3),\n",
       " (87, (269, 271), 3),\n",
       " (88, (185, 295), 3),\n",
       " (89, (304, 305), 3),\n",
       " (90, (278, 363), 3),\n",
       " (91, (348, 350), 3),\n",
       " (92, (261, 262), 3),\n",
       " (93, (58, 353), 3),\n",
       " (94, (119, 187), 3),\n",
       " (95, (177, 227), 3),\n",
       " (96, (290, 410), 3),\n",
       " (97, (223, 344), 3),\n",
       " (98, (240, 386), 3),\n",
       " (99, (360, 402), 3)]"
      ]
     },
     "execution_count": 76,
     "metadata": {
     },
     "output_type": "execute_result"
    }
   ],
   "source": [
    "iteriraj_algoritem_2(snark_2,100)"
   ]
  },
  {
   "cell_type": "markdown",
   "id": "42d547",
   "metadata": {
    "collapsed": false
   },
   "source": [
    "Vidimo, da se indeks nikoli ne vrne na 4, torej lahko zavržema hipotezo.\n",
    "\n"
   ]
  },
  {
   "cell_type": "markdown",
   "id": "b627a3",
   "metadata": {
    "collapsed": false
   },
   "source": [
    "Zdaj pa iteracijska koda:\n",
    "\n"
   ]
  },
  {
   "cell_type": "code",
   "execution_count": 20,
   "id": "202575",
   "metadata": {
    "collapsed": false
   },
   "outputs": [
   ],
   "source": [
    "import random\n",
    "\n",
    "def iteriraj_algoritem_2(snark, k):\n",
    "    snark = snark.copy()\n",
    "    \"\"\"\n",
    "    Izvede algoritem za transformacijo grafa z dodajanjem 4-ciklov k-krat.\n",
    "    \n",
    "    :param snark: Graf, ki predstavlja snark.\n",
    "    :param k: Število iteracij algoritma.\n",
    "    :return: Tabela s seznamom iteracij, odstranjenih vozlišč in kromatičnim indeksom.\n",
    "    \"\"\"\n",
    "    odstranjena_vozlisca = [\"None\"]  # Seznam za shranjevanje odstranjenih vozlišč\n",
    "    kromaticni_indeksi = [snark.chromatic_index()]\n",
    "    n = snark.order()  # Trenutno število vozlišč\n",
    "\n",
    "    for _ in range(k):\n",
    "        # Kopiraj seznam povezav\n",
    "        povezave = snark.edges(labels=False)\n",
    "\n",
    "        # Izberi naključno povezavo\n",
    "        a, b = random.choice(povezave)\n",
    "\n",
    "        # Pridobi sosede a in b (brez medsebojnih povezav)\n",
    "        sosedi_a = [v for v in snark.neighbors(a) if v != b]\n",
    "        sosedi_b = [v for v in snark.neighbors(b) if v != a]\n",
    "\n",
    "        if len(sosedi_a) != 2 or len(sosedi_b) != 2:\n",
    "            raise ValueError(f\"Vozlišči {a} in {b} nimata točno dveh drugih sosedov.\")\n",
    "\n",
    "        a1, a2 = sosedi_a\n",
    "        b1, b2 = sosedi_b\n",
    "\n",
    "        # Odstrani povezavo (a, b) in vozlišča a, b\n",
    "        snark.delete_edge((a, b))\n",
    "        snark.delete_vertices([a, b])\n",
    "\n",
    "        # Dodaj štiri nova vozlišča\n",
    "        nova_vozlisca = [n, n+1, n+2, n+3]\n",
    "        snark.add_vertices(nova_vozlisca)\n",
    "\n",
    "        # Poveži nova vozlišča z obstoječimi\n",
    "        snark.add_edge(a1, n)\n",
    "        snark.add_edge(a2, n+1)\n",
    "        snark.add_edge(b1, n+2)\n",
    "        snark.add_edge(b2, n+3)\n",
    "\n",
    "        # Naključni 4-cikel\n",
    "        random.shuffle(nova_vozlisca)\n",
    "        snark.add_edges([(nova_vozlisca[i], nova_vozlisca[(i + 1) % 4]) for i in range(4)])\n",
    "\n",
    "        # Dodaj odstranjena vozlišča in kromatični indeks v sezname\n",
    "        odstranjena_vozlisca.append((a, b))\n",
    "        kromaticni_indeksi.append(snark.chromatic_index())\n",
    "\n",
    "        # Posodobi indeks za nova vozlišča\n",
    "        n += 4\n",
    "\n",
    "        # Preveri kubičnost\n",
    "        for v in snark.vertices():\n",
    "            if snark.degree(v) != 3:\n",
    "                raise ValueError(f\"Vozlišče {v} nima stopnje 3. Graf ni več kubičen.\")\n",
    "\n",
    "        # Pripravi podatke za tabelo\n",
    "        tabela = [(-1 + i, odstranjena_vozlisca[i], kromaticni_indeksi[i]) for i in range(len(odstranjena_vozlisca))]\n",
    "    \n",
    "    return tabela"
   ]
  },
  {
   "cell_type": "markdown",
   "id": "871da1",
   "metadata": {
    "collapsed": false
   },
   "source": [
    "Poglejmo si najprej iteracijo na snarku, kjer se v prvem koraku indeks zagotovo spremeni na 3. Ali se lahko vrne na 4?\n"
   ]
  },
  {
   "cell_type": "code",
   "execution_count": 44,
   "id": "329eb8",
   "metadata": {
    "collapsed": false
   },
   "outputs": [
    {
     "data": {
      "text/plain": [
       "[(-1, 'None', 4),\n",
       " (0, (1, 15), 3),\n",
       " (1, (13, 17), 3),\n",
       " (2, (3, 18), 3),\n",
       " (3, (12, 31), 3),\n",
       " (4, (2, 26), 3),\n",
       " (5, (32, 33), 3),\n",
       " (6, (38, 39), 3),\n",
       " (7, (6, 9), 3),\n",
       " (8, (5, 11), 3),\n",
       " (9, (30, 55), 3),\n",
       " (10, (0, 28), 3),\n",
       " (11, (20, 60), 3),\n",
       " (12, (44, 47), 3),\n",
       " (13, (35, 41), 3),\n",
       " (14, (62, 63), 3),\n",
       " (15, (34, 42), 3),\n",
       " (16, (76, 77), 3),\n",
       " (17, (10, 19), 3),\n",
       " (18, (68, 70), 3),\n",
       " (19, (64, 66), 3),\n",
       " (20, (23, 25), 3),\n",
       " (21, (8, 16), 3),\n",
       " (22, (29, 107), 3),\n",
       " (23, (69, 95), 3),\n",
       " (24, (84, 86), 3),\n",
       " (25, (81, 83), 3),\n",
       " (26, (101, 102), 3),\n",
       " (27, (105, 110), 3),\n",
       " (28, (48, 50), 3),\n",
       " (29, (73, 109), 3),\n",
       " (30, (133, 134), 3),\n",
       " (31, (129, 130), 3),\n",
       " (32, (138, 139), 3),\n",
       " (33, (145, 146), 3),\n",
       " (34, (90, 91), 3),\n",
       " (35, (27, 71), 3),\n",
       " (36, (72, 74), 3),\n",
       " (37, (117, 118), 3),\n",
       " (38, (53, 89), 3),\n",
       " (39, (160, 161), 3),\n",
       " (40, (147, 148), 3),\n",
       " (41, (75, 165), 3),\n",
       " (42, (4, 142), 3),\n",
       " (43, (14, 21), 3),\n",
       " (44, (37, 158), 3),\n",
       " (45, (40, 156), 3),\n",
       " (46, (188, 190), 3),\n",
       " (47, (164, 186), 3),\n",
       " (48, (173, 174), 3),\n",
       " (49, (200, 202), 3),\n",
       " (50, (184, 187), 3),\n",
       " (51, (220, 222), 3),\n",
       " (52, (54, 58), 3),\n",
       " (53, (201, 203), 3),\n",
       " (54, (180, 181), 3),\n",
       " (55, (177, 179), 3),\n",
       " (56, (185, 223), 3),\n",
       " (57, (232, 234), 3),\n",
       " (58, (210, 211), 3),\n",
       " (59, (22, 97), 3),\n",
       " (60, (229, 230), 3),\n",
       " (61, (56, 57), 3),\n",
       " (62, (149, 150), 3),\n",
       " (63, (168, 170), 3),\n",
       " (64, (260, 263), 3),\n",
       " (65, (67, 171), 3),\n",
       " (66, (216, 219), 3),\n",
       " (67, (233, 250), 3),\n",
       " (68, (103, 124), 3),\n",
       " (69, (163, 240), 3),\n",
       " (70, (153, 154), 3),\n",
       " (71, (93, 297), 3),\n",
       " (72, (198, 218), 3),\n",
       " (73, (248, 284), 3),\n",
       " (74, (98, 99), 3),\n",
       " (75, (137, 269), 3),\n",
       " (76, (268, 322), 3),\n",
       " (77, (251, 287), 3),\n",
       " (78, (104, 106), 3),\n",
       " (79, (291, 329), 3),\n",
       " (80, (100, 126), 3),\n",
       " (81, (169, 282), 3),\n",
       " (82, (125, 342), 3),\n",
       " (83, (316, 319), 3),\n",
       " (84, (306, 307), 3),\n",
       " (85, (112, 197), 3),\n",
       " (86, (96, 354), 3),\n",
       " (87, (136, 320), 3),\n",
       " (88, (162, 296), 3),\n",
       " (89, (276, 279), 3),\n",
       " (90, (323, 370), 3)]"
      ]
     },
     "execution_count": 44,
     "metadata": {
     },
     "output_type": "execute_result"
    }
   ],
   "source": [
    "iteriraj_algoritem_2(flower_snark_j5,91)"
   ]
  },
  {
   "cell_type": "markdown",
   "id": "e6a43f",
   "metadata": {
    "collapsed": false
   },
   "source": [
    "vidimo, da se indeks ni nikoli vrnil na začetno vrednost.Poskusimo zdaj iteracijo še na grafu, kjer se v prvem koraku indeks zagotovo ohrani.\n"
   ]
  },
  {
   "cell_type": "code",
   "execution_count": 21,
   "id": "7545e9",
   "metadata": {
    "collapsed": false
   },
   "outputs": [
    {
     "data": {
      "text/plain": [
       "[(-1, 'None', 4),\n",
       " (0, (10, 18), 4),\n",
       " (1, (22, 46), 4),\n",
       " (2, (0, 3), 4),\n",
       " (3, (4, 13), 4),\n",
       " (4, (26, 29), 4),\n",
       " (5, (44, 47), 4),\n",
       " (6, (21, 24), 3),\n",
       " (7, (28, 48), 3),\n",
       " (8, (51, 64), 3),\n",
       " (9, (31, 36), 3),\n",
       " (10, (72, 74), 3),\n",
       " (11, (65, 66), 3),\n",
       " (12, (8, 14), 3),\n",
       " (13, (45, 90), 3),\n",
       " (14, (68, 69), 3),\n",
       " (15, (94, 95), 3),\n",
       " (16, (34, 38), 3),\n",
       " (17, (5, 88), 3),\n",
       " (18, (92, 93), 3),\n",
       " (19, (56, 57), 3),\n",
       " (20, (75, 77), 3),\n",
       " (21, (2, 39), 3),\n",
       " (22, (70, 71), 3),\n",
       " (23, (101, 135), 3),\n",
       " (24, (106, 107), 3),\n",
       " (25, (33, 82), 3),\n",
       " (26, (110, 111), 3),\n",
       " (27, (132, 133), 3),\n",
       " (28, (140, 141), 3),\n",
       " (29, (116, 119), 3),\n",
       " (30, (114, 115), 3),\n",
       " (31, (136, 137), 3),\n",
       " (32, (168, 169), 3),\n",
       " (33, (160, 163), 3),\n",
       " (34, (52, 54), 3),\n",
       " (35, (150, 151), 3),\n",
       " (36, (15, 103), 3),\n",
       " (37, (27, 35), 3),\n",
       " (38, (157, 159), 3),\n",
       " (39, (179, 188), 3),\n",
       " (40, (62, 63), 3),\n",
       " (41, (117, 143), 3),\n",
       " (42, (105, 142), 3),\n",
       " (43, (205, 207), 3),\n",
       " (44, (212, 215), 3),\n",
       " (45, (197, 199), 3),\n",
       " (46, (173, 174), 3),\n",
       " (47, (85, 86), 3),\n",
       " (48, (185, 187), 3),\n",
       " (49, (6, 7), 3),\n",
       " (50, (200, 201), 3),\n",
       " (51, (19, 23), 3),\n",
       " (52, (192, 193), 3),\n",
       " (53, (11, 12), 3),\n",
       " (54, (250, 251), 3),\n",
       " (55, (195, 206), 3),\n",
       " (56, (257, 258), 3),\n",
       " (57, (261, 262), 3),\n",
       " (58, (17, 20), 3),\n",
       " (59, (53, 55), 3),\n",
       " (60, (242, 243), 3),\n",
       " (61, (32, 152), 3),\n",
       " (62, (285, 287), 3),\n",
       " (63, (268, 269), 3),\n",
       " (64, (96, 98), 3),\n",
       " (65, (253, 260), 3),\n",
       " (66, (16, 100), 3),\n",
       " (67, (172, 175), 3),\n",
       " (68, (9, 277), 3),\n",
       " (69, (216, 219), 3),\n",
       " (70, (1, 43), 3),\n",
       " (71, (67, 259), 3),\n",
       " (72, (76, 78), 3),\n",
       " (73, (293, 294), 3),\n",
       " (74, (240, 286), 3),\n",
       " (75, (37, 40), 3),\n",
       " (76, (182, 281), 3),\n",
       " (77, (112, 176), 3),\n",
       " (78, (128, 129), 3),\n",
       " (79, (59, 249), 3),\n",
       " (80, (223, 226), 3),\n",
       " (81, (164, 165), 3),\n",
       " (82, (308, 309), 3),\n",
       " (83, (194, 264), 3),\n",
       " (84, (340, 341), 3),\n",
       " (85, (146, 147), 3),\n",
       " (86, (344, 345), 3),\n",
       " (87, (244, 246), 3),\n",
       " (88, (80, 288), 3),\n",
       " (89, (321, 322), 3),\n",
       " (90, (304, 305), 3),\n",
       " (91, (25, 30), 3),\n",
       " (92, (283, 351), 3),\n",
       " (93, (153, 155), 3),\n",
       " (94, (73, 87), 3),\n",
       " (95, (346, 347), 3),\n",
       " (96, (213, 214), 3),\n",
       " (97, (376, 377), 3),\n",
       " (98, (306, 407), 3),\n",
       " (99, (109, 236), 3)]"
      ]
     },
     "execution_count": 21,
     "metadata": {
     },
     "output_type": "execute_result"
    }
   ],
   "source": [
    "iteriraj_algoritem_2(graf_25159,100)"
   ]
  },
  {
   "cell_type": "markdown",
   "id": "50af96",
   "metadata": {
    "collapsed": false
   },
   "source": [
    "Opazimo, da se je indeks v prvih nekaj korakih ohranil, nato je pa padel na 3 in tam tudi ostal. Čeprav smo v teoriji pokazali, da bi naj obstajala možnost, da se indeks vrne nazaj na 4. Torej je naša hipoteza, da se indeks nikoli več ne vrne na 4. Poskusimo še na kakšnem grafu, da to hipotezo potrdimo.\n"
   ]
  },
  {
   "cell_type": "code",
   "execution_count": 22,
   "id": "70a172",
   "metadata": {
    "collapsed": false
   },
   "outputs": [
    {
     "data": {
      "text/plain": [
       "[(-1, 'None', 4),\n",
       " (0, (8, 26), 3),\n",
       " (1, (7, 24), 3),\n",
       " (2, (13, 18), 3),\n",
       " (3, (25, 31), 3),\n",
       " (4, (16, 17), 3),\n",
       " (5, (49, 51), 3),\n",
       " (6, (44, 47), 3),\n",
       " (7, (0, 3), 3),\n",
       " (8, (40, 42), 3),\n",
       " (9, (36, 38), 3),\n",
       " (10, (23, 46), 3),\n",
       " (11, (5, 9), 3),\n",
       " (12, (50, 67), 3),\n",
       " (13, (30, 77), 3),\n",
       " (14, (56, 58), 3),\n",
       " (15, (1, 88), 3),\n",
       " (16, (4, 29), 3),\n",
       " (17, (15, 41), 3),\n",
       " (18, (73, 74), 3),\n",
       " (19, (82, 83), 3),\n",
       " (20, (84, 86), 3),\n",
       " (21, (90, 98), 3),\n",
       " (22, (37, 75), 3),\n",
       " (23, (92, 94), 3),\n",
       " (24, (70, 71), 3),\n",
       " (25, (89, 99), 3),\n",
       " (26, (2, 34), 3),\n",
       " (27, (105, 107), 3),\n",
       " (28, (32, 110), 3),\n",
       " (29, (45, 78), 3),\n",
       " (30, (10, 28), 3),\n",
       " (31, (27, 59), 3),\n",
       " (32, (140, 149), 3),\n",
       " (33, (39, 72), 3),\n",
       " (34, (62, 63), 3),\n",
       " (35, (133, 135), 3),\n",
       " (36, (126, 170), 3),\n",
       " (37, (168, 182), 3),\n",
       " (38, (104, 106), 3),\n",
       " (39, (154, 155), 3),\n",
       " (40, (85, 87), 3),\n",
       " (41, (141, 164), 3),\n",
       " (42, (152, 153), 3),\n",
       " (43, (12, 19), 3),\n",
       " (44, (200, 203), 3),\n",
       " (45, (142, 165), 3),\n",
       " (46, (76, 211), 3),\n",
       " (47, (184, 210), 3),\n",
       " (48, (100, 103), 3),\n",
       " (49, (55, 108), 3),\n",
       " (50, (93, 131), 3),\n",
       " (51, (57, 60), 3),\n",
       " (52, (228, 231), 3),\n",
       " (53, (196, 197), 3),\n",
       " (54, (123, 139), 3),\n",
       " (55, (158, 159), 3),\n",
       " (56, (216, 219), 3),\n",
       " (57, (101, 247), 3),\n",
       " (58, (54, 233), 3),\n",
       " (59, (112, 113), 3),\n",
       " (60, (269, 271), 3),\n",
       " (61, (64, 118), 3),\n",
       " (62, (190, 191), 3),\n",
       " (63, (20, 268), 3),\n",
       " (64, (248, 250), 3),\n",
       " (65, (180, 187), 3),\n",
       " (66, (102, 264), 3),\n",
       " (67, (91, 137), 3),\n",
       " (68, (33, 300), 3),\n",
       " (69, (115, 274), 3),\n",
       " (70, (260, 263), 3),\n",
       " (71, (221, 305), 3),\n",
       " (72, (201, 202), 3),\n",
       " (73, (117, 199), 3),\n",
       " (74, (65, 212), 3),\n",
       " (75, (213, 335), 3),\n",
       " (76, (334, 339), 3),\n",
       " (77, (220, 223), 3),\n",
       " (78, (308, 309), 3),\n",
       " (79, (194, 204), 3),\n",
       " (80, (321, 344), 3),\n",
       " (81, (352, 353), 3),\n",
       " (82, (111, 235), 3),\n",
       " (83, (310, 351), 3),\n",
       " (84, (43, 68), 3),\n",
       " (85, (345, 359), 3),\n",
       " (86, (206, 354), 3),\n",
       " (87, (66, 332), 3),\n",
       " (88, (240, 241), 3),\n",
       " (89, (122, 253), 3),\n",
       " (90, (252, 394), 3),\n",
       " (91, (166, 167), 3),\n",
       " (92, (261, 317), 3),\n",
       " (93, (368, 370), 3),\n",
       " (94, (341, 343), 3),\n",
       " (95, (116, 328), 3),\n",
       " (96, (114, 312), 3),\n",
       " (97, (398, 399), 3),\n",
       " (98, (172, 174), 3),\n",
       " (99, (161, 173), 3)]"
      ]
     },
     "execution_count": 22,
     "metadata": {
     },
     "output_type": "execute_result"
    }
   ],
   "source": [
    "iteriraj_algoritem_2(snark_3363,100)"
   ]
  },
  {
   "cell_type": "code",
   "execution_count": 0,
   "id": "f7fbc0",
   "metadata": {
    "collapsed": false
   },
   "outputs": [
   ],
   "source": [
    "Za na konec pa algoritem, ki naključno izbere algoritem_1 ali algoritem_2:"
   ]
  },
  {
   "cell_type": "code",
   "execution_count": 23,
   "id": "99fdb0",
   "metadata": {
    "collapsed": false
   },
   "outputs": [
   ],
   "source": [
    "import random\n",
    "\n",
    "def nakljucni_algoritem(snark, k):\n",
    "    snark = snark.copy()\n",
    "    tabela_rezultatov = []\n",
    "    tabela_rezultatov.append([snark.chromatic_index(), \"None\", \"None\", \"None\"])\n",
    "    n = snark.order()\n",
    "\n",
    "    for _ in range(k):\n",
    "        izbran_algoritem = random.choice([\"algoritem_1\", \"algoritem_2\"])\n",
    "        \n",
    "        if izbran_algoritem == \"algoritem_1\":\n",
    "            prvi_rob = random.choice(snark.edges(labels=False))\n",
    "            drugi_rob = random.choice([rob for rob in snark.edges(labels=False) if rob != prvi_rob])\n",
    "\n",
    "            u1, u2 = n, n+1\n",
    "            snark.add_edge(prvi_rob[0], n)\n",
    "            snark.add_edge(n, n+1)\n",
    "            snark.add_edge(n+1, prvi_rob[1])\n",
    "\n",
    "            v1, v2 = n+2, n+3\n",
    "            snark.add_edge(drugi_rob[0], n+2)\n",
    "            snark.add_edge(n+2, n+3)\n",
    "            snark.add_edge(n+3, drugi_rob[1])\n",
    "\n",
    "            snark.add_edge(n, n+2)\n",
    "            snark.add_edge(n+1, n+3)\n",
    "\n",
    "            snark.delete_edge(prvi_rob)\n",
    "            snark.delete_edge(drugi_rob)\n",
    "            n += 4\n",
    "            \n",
    "            krom_indeks = snark.chromatic_index()\n",
    "            tabela_rezultatov.append([krom_indeks, \"Algoritem 1\", prvi_rob, drugi_rob])\n",
    "        \n",
    "        else:\n",
    "            povezave = snark.edges(labels=False)\n",
    "            a, b = random.choice(povezave)\n",
    "            sosedi_a = [v for v in snark.neighbors(a) if v != b]\n",
    "            sosedi_b = [v for v in snark.neighbors(b) if v != a]\n",
    "            \n",
    "            if len(sosedi_a) != 2 or len(sosedi_b) != 2:\n",
    "                continue\n",
    "            \n",
    "            a1, a2 = sosedi_a\n",
    "            b1, b2 = sosedi_b\n",
    "\n",
    "            snark.delete_edge((a, b))\n",
    "            snark.delete_vertices([a, b])\n",
    "\n",
    "            nova_vozlisca = [n, n+1, n+2, n+3]\n",
    "            snark.add_vertices(nova_vozlisca)\n",
    "            snark.add_edge(a1, n)\n",
    "            snark.add_edge(a2, n+1)\n",
    "            snark.add_edge(b1, n+2)\n",
    "            snark.add_edge(b2, n+3)\n",
    "            \n",
    "            random.shuffle(nova_vozlisca)\n",
    "            snark.add_edges([(nova_vozlisca[i], nova_vozlisca[(i + 1) % 4]) for i in range(4)])\n",
    "            n += 4\n",
    "            \n",
    "            krom_indeks = snark.chromatic_index()\n",
    "            tabela_rezultatov.append([krom_indeks, \"Algoritem 2\", (a, b), \"None\"])\n",
    "\n",
    "    return tabela_rezultatov"
   ]
  },
  {
   "cell_type": "code",
   "execution_count": 24,
   "id": "ae6e44",
   "metadata": {
    "collapsed": false
   },
   "outputs": [
    {
     "data": {
      "text/plain": [
       "[[4, 'None', 'None', 'None'],\n",
       " [3, 'Algoritem 1', (13, 18), (5, 9)],\n",
       " [3, 'Algoritem 1', (7, 15), (12, 19)],\n",
       " [3, 'Algoritem 2', (14, 15), 'None'],\n",
       " [3, 'Algoritem 2', (11, 45), 'None'],\n",
       " [3, 'Algoritem 1', (8, 26), (48, 50)],\n",
       " [3, 'Algoritem 1', (18, 23), (25, 31)],\n",
       " [3, 'Algoritem 2', (19, 23), 'None'],\n",
       " [3, 'Algoritem 2', (21, 22), 'None'],\n",
       " [3, 'Algoritem 2', (4, 29), 'None'],\n",
       " [3, 'Algoritem 2', (64, 65), 'None'],\n",
       " [3, 'Algoritem 1', (57, 62), (16, 72)],\n",
       " [3, 'Algoritem 1', (7, 24), (25, 58)],\n",
       " [3, 'Algoritem 1', (68, 70), (41, 47)],\n",
       " [3, 'Algoritem 1', (62, 77), (36, 38)],\n",
       " [3, 'Algoritem 1', (77, 79), (57, 76)],\n",
       " [3, 'Algoritem 1', (20, 44), (72, 74)],\n",
       " [3, 'Algoritem 1', (92, 93), (72, 75)],\n",
       " [3, 'Algoritem 1', (18, 27), (60, 62)],\n",
       " [3, 'Algoritem 2', (53, 55), 'None'],\n",
       " [3, 'Algoritem 1', (18, 104), (58, 59)],\n",
       " [3, 'Algoritem 2', (90, 91), 'None'],\n",
       " [3, 'Algoritem 1', (33, 70), (58, 83)],\n",
       " [3, 'Algoritem 1', (89, 119), (72, 79)],\n",
       " [3, 'Algoritem 1', (118, 119), (0, 2)],\n",
       " [3, 'Algoritem 1', (58, 122), (73, 74)],\n",
       " [3, 'Algoritem 2', (69, 71), 'None'],\n",
       " [3, 'Algoritem 1', (16, 78), (136, 139)],\n",
       " [3, 'Algoritem 1', (44, 46), (62, 88)],\n",
       " [3, 'Algoritem 2', (112, 113), 'None'],\n",
       " [3, 'Algoritem 1', (136, 137), (77, 89)],\n",
       " [3, 'Algoritem 1', (47, 51), (72, 102)],\n",
       " [3, 'Algoritem 1', (96, 98), (26, 109)],\n",
       " [3, 'Algoritem 1', (144, 146), (47, 156)],\n",
       " [3, 'Algoritem 2', (158, 159), 'None'],\n",
       " [3, 'Algoritem 2', (46, 145), 'None'],\n",
       " [3, 'Algoritem 2', (121, 123), 'None'],\n",
       " [3, 'Algoritem 1', (3, 31), (44, 50)],\n",
       " [3, 'Algoritem 1', (117, 119), (10, 13)],\n",
       " [3, 'Algoritem 2', (17, 20), 'None'],\n",
       " [3, 'Algoritem 1', (8, 52), (24, 32)],\n",
       " [3, 'Algoritem 1', (60, 63), (5, 10)],\n",
       " [3, 'Algoritem 2', (89, 155), 'None'],\n",
       " [3, 'Algoritem 1', (180, 181), (34, 35)],\n",
       " [3, 'Algoritem 2', (47, 166), 'None'],\n",
       " [3, 'Algoritem 1', (167, 211), (200, 201)],\n",
       " [3, 'Algoritem 1', (12, 42), (136, 152)],\n",
       " [3, 'Algoritem 1', (36, 37), (124, 125)],\n",
       " [3, 'Algoritem 1', (114, 115), (205, 207)],\n",
       " [3, 'Algoritem 1', (75, 103), (150, 151)],\n",
       " [3, 'Algoritem 1', (31, 59), (105, 107)]]"
      ]
     },
     "execution_count": 24,
     "metadata": {
     },
     "output_type": "execute_result"
    }
   ],
   "source": [
    "nakljucni_algoritem(snark_3363,50)"
   ]
  },
  {
   "cell_type": "code",
   "execution_count": 25,
   "id": "30fe4c",
   "metadata": {
    "collapsed": false
   },
   "outputs": [
    {
     "data": {
      "text/plain": [
       "[[4, 'None', 'None', 'None'],\n",
       " [4, 'Algoritem 2', (11, 12), 'None'],\n",
       " [4, 'Algoritem 2', (34, 38), 'None'],\n",
       " [4, 'Algoritem 2', (16, 21), 'None'],\n",
       " [4, 'Algoritem 2', (27, 35), 'None'],\n",
       " [4, 'Algoritem 1', (7, 15), (3, 50)],\n",
       " [3, 'Algoritem 1', (37, 40), (18, 22)],\n",
       " [3, 'Algoritem 1', (26, 29), (8, 14)],\n",
       " [3, 'Algoritem 1', (37, 64), (29, 69)],\n",
       " [3, 'Algoritem 1', (68, 69), (10, 18)],\n",
       " [3, 'Algoritem 1', (76, 77), (10, 78)],\n",
       " [3, 'Algoritem 2', (17, 20), 'None'],\n",
       " [3, 'Algoritem 1', (64, 65), (1, 43)],\n",
       " [3, 'Algoritem 2', (5, 45), 'None'],\n",
       " [3, 'Algoritem 2', (73, 75), 'None'],\n",
       " [3, 'Algoritem 1', (13, 19), (26, 48)],\n",
       " [3, 'Algoritem 2', (28, 49), 'None'],\n",
       " [3, 'Algoritem 1', (93, 95), (15, 55)],\n",
       " [3, 'Algoritem 2', (40, 43), 'None'],\n",
       " [3, 'Algoritem 2', (2, 113), 'None'],\n",
       " [3, 'Algoritem 1', (41, 42), (78, 83)],\n",
       " [3, 'Algoritem 2', (51, 114), 'None'],\n",
       " [3, 'Algoritem 2', (76, 80), 'None'],\n",
       " [3, 'Algoritem 2', (129, 131), 'None'],\n",
       " [3, 'Algoritem 2', (77, 81), 'None'],\n",
       " [3, 'Algoritem 2', (47, 95), 'None'],\n",
       " [3, 'Algoritem 2', (112, 126), 'None'],\n",
       " [3, 'Algoritem 1', (57, 105), (14, 71)],\n",
       " [3, 'Algoritem 1', (89, 91), (105, 107)],\n",
       " [3, 'Algoritem 2', (57, 59), 'None'],\n",
       " [3, 'Algoritem 1', (153, 155), (85, 86)],\n",
       " [3, 'Algoritem 2', (54, 55), 'None'],\n",
       " [3, 'Algoritem 2', (24, 165), 'None'],\n",
       " [3, 'Algoritem 1', (88, 90), (122, 123)],\n",
       " [3, 'Algoritem 2', (18, 46), 'None'],\n",
       " [3, 'Algoritem 1', (90, 91), (48, 106)],\n",
       " [3, 'Algoritem 2', (148, 149), 'None'],\n",
       " [3, 'Algoritem 2', (58, 158), 'None'],\n",
       " [3, 'Algoritem 1', (156, 159), (153, 160)],\n",
       " [3, 'Algoritem 1', (101, 103), (156, 190)],\n",
       " [3, 'Algoritem 2', (79, 137), 'None'],\n",
       " [3, 'Algoritem 2', (31, 32), 'None'],\n",
       " [3, 'Algoritem 2', (19, 44), 'None'],\n",
       " [3, 'Algoritem 2', (30, 33), 'None'],\n",
       " [3, 'Algoritem 2', (52, 164), 'None'],\n",
       " [3, 'Algoritem 2', (14, 87), 'None'],\n",
       " [3, 'Algoritem 1', (66, 67), (128, 130)],\n",
       " [3, 'Algoritem 2', (226, 227), 'None'],\n",
       " [3, 'Algoritem 1', (84, 222), (68, 128)],\n",
       " [3, 'Algoritem 2', (132, 134), 'None'],\n",
       " [3, 'Algoritem 1', (140, 141), (222, 233)]]"
      ]
     },
     "execution_count": 25,
     "metadata": {
     },
     "output_type": "execute_result"
    }
   ],
   "source": [
    "nakljucni_algoritem(graf_25159,50)"
   ]
  },
  {
   "cell_type": "markdown",
   "id": "f90668",
   "metadata": {
    "collapsed": false
   },
   "source": [
    "Za konec pa še algoritem, ki ti vrne povezave, na katerih lahko uporabiš 4\\-cikel, brez da se indeks spremeni:\n",
    "\n"
   ]
  },
  {
   "cell_type": "code",
   "execution_count": 15,
   "id": "069301",
   "metadata": {
    "collapsed": false
   },
   "outputs": [
   ],
   "source": [
    "def algoritem_2_graf(snark, izbrana_povezava):\n",
    "    \"\"\"\n",
    "    Transformira graf z določenim pravilom: odstrani dve vozlišči, doda štiri nova in jih poveže v 4-cikel.\n",
    "    \n",
    "    :param snark: Graf, ki predstavlja vhodni graf.\n",
    "    :param izbrana_povezava: Povezava (a, b), na kateri želimo izvesti transformacijo.\n",
    "    :return: kromatični indeks, izbrana povezava, končni graf.\n",
    "    \"\"\"\n",
    "    snark = snark.copy()  # Kopiraj graf za varno spremembo\n",
    "    n = snark.order()  # Število vozlišč v grafu\n",
    "\n",
    "    # Preveri, ali izbrana povezava obstaja\n",
    "    if izbrana_povezava not in snark.edges(labels=False):\n",
    "        raise ValueError(f\"Povezava {izbrana_povezava} ne obstaja v grafu.\")\n",
    "\n",
    "    # Določi vozlišča izbrane povezave\n",
    "    a, b = izbrana_povezava\n",
    "\n",
    "    # Pridobi sosede vozlišč a in b (brez medsebojnih povezav)\n",
    "    sosedi_a = [v for v in snark.neighbors(a) if v != b]\n",
    "    sosedi_b = [v for v in snark.neighbors(b) if v != a]\n",
    "\n",
    "    # Preveri, ali imata vozlišči natančno dva soseda\n",
    "    if len(sosedi_a) != 2 or len(sosedi_b) != 2:\n",
    "        raise ValueError(\"Vozlišči a in b nimata točno dveh drugih sosedov.\")\n",
    "\n",
    "    # Dodeli soseda vozliščema a in b\n",
    "    a1, a2 = sosedi_a\n",
    "    b1, b2 = sosedi_b\n",
    "\n",
    "    # Odstranimo vozlišča a in b iz grafa\n",
    "    snark.delete_vertices([a, b])\n",
    "\n",
    "    # Dodamo štiri nova vozlišča\n",
    "    nova_vozlisca = [n, n + 1, n + 2, n + 3]\n",
    "    snark.add_vertices(nova_vozlisca)\n",
    "\n",
    "    # Povežemo nova vozlišča z ustreznimi obstoječimi vozlišči\n",
    "    snark.add_edge(a1, n)\n",
    "    snark.add_edge(a2, n + 1)\n",
    "    snark.add_edge(b1, n + 2)\n",
    "    snark.add_edge(b2, n + 3)\n",
    "\n",
    "    # Povezave v naključnem 4-ciklu\n",
    "    shuffle(nova_vozlisca)\n",
    "    snark.add_edges([(nova_vozlisca[i], nova_vozlisca[(i + 1) % 4]) for i in range(4)])\n",
    "\n",
    "    # Preverimo kromatični indeks spremenjenega grafa\n",
    "    krom_indeks = snark.chromatic_index()\n",
    "\n",
    "    # Shranimo končni graf kot snark_1\n",
    "    snark_1 = snark\n",
    "\n",
    "    # Vrni kromatični indeks, izbrano povezavo in spremenjen graf\n",
    "    return snark_1\n",
    "\n",
    "def find_stable_edges(G):\n",
    "    critical_edges = set()\n",
    "    \n",
    "    for u, v, *_ in G.edges():  # Popravljeno!\n",
    "        H = algoritem_2_graf(G, (u, v))\n",
    "        if H is not None and H.chromatic_index() == G.chromatic_index():\n",
    "            critical_edges.add((u, v))\n",
    "\n",
    "    return critical_edges\n"
   ]
  },
  {
   "cell_type": "code",
   "execution_count": 16,
   "id": "205262",
   "metadata": {
    "collapsed": false
   },
   "outputs": [
    {
     "data": {
      "text/plain": [
       "{(4, 11), (9, 11)}"
      ]
     },
     "execution_count": 16,
     "metadata": {
     },
     "output_type": "execute_result"
    }
   ],
   "source": [
    "find_stable_edges(snark_3363)"
   ]
  },
  {
   "cell_type": "code",
   "execution_count": 17,
   "id": "6b83c5",
   "metadata": {
    "collapsed": false
   },
   "outputs": [
    {
     "data": {
      "text/plain": [
       "set()"
      ]
     },
     "execution_count": 17,
     "metadata": {
     },
     "output_type": "execute_result"
    }
   ],
   "source": [
    "find_stable_edges(G)"
   ]
  },
  {
   "cell_type": "code",
   "execution_count": 18,
   "id": "5ac813",
   "metadata": {
    "collapsed": false
   },
   "outputs": [
    {
     "data": {
      "text/plain": [
       "{(3, 22), (3, 23), (22, 23)}"
      ]
     },
     "execution_count": 18,
     "metadata": {
     },
     "output_type": "execute_result"
    }
   ],
   "source": [
    "find_stable_edges(goldberg_snark_3)"
   ]
  }
 ],
 "metadata": {
  "kernelspec": {
   "argv": [
    "sage-10.4",
    "--python",
    "-m",
    "sage.repl.ipython_kernel",
    "--matplotlib=inline",
    "-f",
    "{connection_file}"
   ],
   "display_name": "SageMath 10.4",
   "env": {
   },
   "language": "sagemath",
   "metadata": {
    "cocalc": {
     "description": "Open-source mathematical software system",
     "priority": 10,
     "url": "https://www.sagemath.org/"
    }
   },
   "name": "sage-10.4",
   "resource_dir": "/ext/jupyter/kernels/sage-10.4"
  },
  "language_info": {
   "codemirror_mode": {
    "name": "ipython",
    "version": 3
   },
   "file_extension": ".py",
   "mimetype": "text/x-python",
   "name": "python",
   "nbconvert_exporter": "python",
   "pygments_lexer": "ipython3",
   "version": "3.12.4"
  }
 },
 "nbformat": 4,
 "nbformat_minor": 4
}
