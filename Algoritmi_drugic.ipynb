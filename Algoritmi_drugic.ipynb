{
 "cells": [
  {
   "cell_type": "markdown",
   "id": "a4f826",
   "metadata": {
    "collapsed": false
   },
   "source": [
    "Najprej naložima snarke:\n"
   ]
  },
  {
   "cell_type": "code",
   "execution_count": 166,
   "id": "6da614",
   "metadata": {
    "collapsed": false
   },
   "outputs": [
   ],
   "source": [
    "G = graphs.PetersenGraph()\n",
    "blanusa_snark_1 = Graph({\n",
    "    0: [1, 5, 6], 1: [0, 2, 7], 2: [1, 3, 8], 3: [2, 4, 9],\n",
    "    4: [3, 5, 10], 5: [0, 4, 11], 6: [0, 8, 10], 7: [1, 9, 11],\n",
    "    8: [2, 6, 11], 9: [3, 7, 10], 10: [4, 6, 9], 11: [5, 7, 8]\n",
    "})\n",
    "blanusa_snark_2 = Graph({\n",
    "    0: [1, 4, 5], 1: [0, 2, 6], 2: [1, 3, 7], 3: [2, 4, 8],\n",
    "    4: [0, 3, 9], 5: [0, 7, 8], 6: [1, 8, 9], 7: [2, 5, 9],\n",
    "    8: [3, 5, 6], 9: [4, 6, 7]\n",
    "})\n",
    "tietze_snark = Graph({\n",
    "    0: [1, 2, 3], 1: [0, 4, 5], 2: [0, 6, 7], 3: [0, 8, 9],\n",
    "    4: [1, 6, 10], 5: [1, 7, 11], 6: [2, 4, 12], 7: [2, 5, 13],\n",
    "    8: [3, 10, 12], 9: [3, 11, 13], 10: [4, 8, 14], 11: [5, 9, 15],\n",
    "    12: [6, 8, 14], 13: [7, 9, 15], 14: [10, 12, 15], 15: [11, 13, 14]\n",
    "})\n",
    "celmins_swart_snark_1 = Graph({0: [1, 2, 3], 1: [0, 23, 25], 2: [0, 21, 24], 3: [0, 20, 22],4: [8, 12, 14], 5: [6, 8, 13], 6: [5, 9, 14], 7: [10, 11, 15],8: [4, 5, 18], 9: [6, 10, 18], 10: [7, 9, 17], 11: [7, 19, 22],12: [4, 13, 25], 13: [5, 12, 21], 14: [4, 6, 21], 15: [7, 16, 20],16: [15, 17, 22], 17: [10, 16, 23], 18: [8, 9, 23], 19: [11, 20, 24],20: [3, 15, 19], 21: [2, 13, 14], 22: [3, 11, 16], 23: [1, 17, 18],24: [2, 19, 25], 25: [1, 12, 24]})\n",
    "celmins_swart_snark_2 = Graph({0: [1, 2, 3], 1: [0, 21, 25], 2: [0, 22, 23], 3: [0, 20, 24],4: [5, 6, 9], 5: [4, 13, 16], 6: [4, 12, 17], 7: [8, 11, 17],8: [7, 12, 19], 9: [4, 10, 14], 10: [9, 11, 16], 11: [7, 10, 18], 12: [6, 8, 15], 13: [5, 14, 15], 14: [9, 13, 23], 15: [12, 13, 20],16: [5, 10, 21], 17: [6, 7, 20], 18: [11, 19, 21], 19: [8, 18, 22],20: [3, 15, 17], 21: [1, 16, 18], 22: [2, 19, 25], 23: [2, 14, 24],24: [3, 23, 25], 25: [1, 22, 24]})\n",
    "double_star_snark = Graph({0: [1, 2, 3], 1: [0, 24, 27], 2: [0, 26, 29], 3: [0, 25, 28],4: [7, 8, 15], 5: [6, 11, 14], 6: [5, 10, 15], 7: [4, 9, 14],8: [4, 12, 16], 9: [7, 13, 17], 10: [6, 12, 17], 11: [5, 13, 16],12: [8, 10, 20], 13: [9, 11, 21], 14: [5, 7, 26], 15: [4, 6, 25],16: [8, 11, 27], 17: [9, 10, 27], 18: [21, 23, 29], 19: [20, 22, 28],20: [12, 19, 29], 21: [13, 18, 28], 22: [19, 24, 26], 23: [18, 24, 25],24: [1, 22, 23], 25: [3, 15, 23], 26: [2, 14, 22], 27: [1, 16, 17],28: [3, 19, 21], 29: [2, 18, 20]})\n",
    "flower_snark_j5 = Graph({0: [1, 2, 3], 1: [0, 14, 15], 2: [0, 17, 19], 3: [0, 16, 18],4: [7, 8, 9], 5: [6, 10, 11], 6: [5, 9, 14], 7: [4, 10, 15],8: [4, 11, 16], 9: [4, 6, 17], 10: [5, 7, 19], 11: [5, 8, 18],12: [14, 18, 19], 13: [15, 16, 17], 14: [1, 6, 12], 15: [1, 7, 13],16: [3, 8, 13], 17: [2, 9, 13], 18: [3, 11, 12], 19: [2, 10, 12]})\n",
    "flower_snark_j7 = Graph({0: [1, 2, 3], 1: [0, 22, 23], 2: [0, 25, 27], 3: [0, 24, 26],4: [7, 8, 12], 5: [6, 9, 12], 6: [5, 11, 13], 7: [4, 10, 13],8: [4, 14, 18], 9: [5, 14, 21], 10: [7, 15, 20], 11: [6, 15, 19],12: [4, 5, 17], 13: [6, 7, 16], 14: [8, 9, 26], 15: [10, 11, 27],16: [13, 17, 27], 17: [12, 16, 26], 18: [8, 22, 24], 19: [11, 22, 25],20: [10, 23, 25], 21: [9, 23, 24], 22: [1, 18, 19], 23: [1, 20, 21],24: [3, 18, 21], 25: [2, 19, 20], 26: [3, 14, 17], 27: [2, 15, 16]})\n",
    "goldberg_snark_3 = Graph({0: [1, 2, 3], 1: [0, 18, 20], 2: [0, 19, 21], 3: [0, 22, 23], 4: [5, 8, 13],5: [4, 9, 14], 6: [7, 10, 15], 7: [6, 11, 12], 8: [4, 12, 16],9: [5, 15, 17], 10: [6, 14, 17], 11: [7, 13, 16], 12: [7, 8, 21],13: [4, 11, 18], 14: [5, 10, 19], 15: [6, 9, 20], 16: [8, 11, 23],19: [9, 10, 22], 18: [1, 13, 19], 19: [2, 14, 18], 20: [1, 15, 21],21: [2, 12, 20], 22: [3, 17, 23], 23: [3, 16, 22]})\n",
    "goldberg_snark_5 = Graph({0: [1, 2, 3], 1: [0, 34, 39], 2: [0, 35, 37], 3: [0, 36, 38],4: [26, 27, 33], 5: [24, 25, 32], 6: [22, 23, 25], 7: [13, 14, 24],8: [23, 30, 31], 9: [10, 11, 22], 10: [11, 18, 21], 11: [9, 19, 20],12: [13, 16, 27], 13: [7, 12, 15], 14: [7, 16, 28], 15: [13, 19, 28],16: [12, 14, 21], 17: [20, 29, 30], 18: [10, 19, 31], 19: [11, 15, 18],20: [11, 17, 21], 21: [10, 16, 20], 22: [6, 9, 24], 23: [6, 8, 29],24: [5, 7, 22], 25: [5, 6, 39], 26: [4, 32, 37], 27: [4, 12, 35],28: [14, 15, 37], 29: [17, 23, 36], 30: [8, 17, 34], 31: [8, 18, 36],32: [5, 26, 35], 33: [4, 34, 38], 34: [1, 30, 33], 35: [2, 27, 32],36: [3, 29, 31], 37: [2, 26, 28], 38: [3, 33, 39], 39: [1, 25, 38]})\n",
    "loupekines_snark_1 = Graph({0: [1, 2, 3], 1: [0, 16, 21], 2: [0, 18, 20], 3: [0, 17, 19],4: [10, 12, 14], 5: [11, 13, 15], 6: [9, 12, 15], 7: [8, 13, 14],8: [7, 10, 16], 9: [6, 11, 16], 10: [4, 8, 17], 11: [5, 9, 18],12: [4, 6, 18], 13: [5, 7, 17], 14: [4, 7, 20], 15: [5, 6, 19],16: [1, 8, 9], 17: [3, 10, 13], 18: [2, 11, 12], 19: [3, 15, 21],20: [2, 14, 21], 21: [1, 19, 20]})\n",
    "loupekines_snark_2 = Graph({0: [1, 2, 3], 1: [0, 16, 21], 2: [0, 18, 20], 3: [0, 17, 19],4: [8, 10, 14], 5: [9, 11, 15], 6: [7, 12, 15], 7: [6, 13, 14],8: [4, 13, 16], 9: [5, 12, 16], 10: [4, 11, 17], 11: [5, 10, 18],12: [6, 9, 18], 13: [7, 8, 17], 14: [4, 7, 20], 15: [5, 6, 19],16: [1, 8, 9], 17: [3, 10, 13], 18: [2, 11, 12], 19: [3, 15, 21],20: [2, 14, 21], 21: [1, 19, 20]})\n",
    "snark_2760 = Graph({0: [1, 2, 3], 1: [0, 15, 17], 2: [0, 14, 16], 3: [0, 12, 13], 4: [5, 9, 11],5: [4, 7, 8], 6: [7, 9, 12], 7: [5, 6, 13], 8: [5, 10, 12], 9: [4, 6, 16],10: [8, 13, 17], 11: [4, 14, 15], 12: [3, 6, 8], 13: [3, 7, 10], 14: [2, 11, 17],15: [1, 11, 16], 16: [2, 9, 15], 17: [1, 10, 14]})\n",
    "snark_3337 = Graph({0: [1, 2, 3], 1: [0, 29, 32], 2: [0, 28, 33], 3: [0, 30, 31], 4: [12, 14, 18],5: [13, 15, 19], 6: [11, 14, 16], 7: [10, 15, 17], 8: [9, 26, 27], 9: [8, 16, 17],10: [7, 13, 20], 11: [6, 12, 21], 12: [4, 11, 23], 13: [5, 10, 22],14: [4, 6, 24], 15: [5, 7, 25], 16: [6, 9, 23], 17: [7, 9, 22], 18: [4, 21, 25],19: [5, 20, 24], 20: [10, 19, 31], 21: [11, 18, 30], 22: [13, 17, 31],23: [12, 16, 30], 24: [14, 19, 29], 25: [15, 18, 28], 26: [8, 29, 33], 27: [8, 28, 32], 28: [2, 25, 27], 29: [1, 24, 26], 30: [3, 21, 23], 31: [3, 20, 22], 32: [1, 27, 33], 33: [2, 26, 32]})\n",
    "snark_3363 = Graph({0: [1, 2, 3], 1: [0, 30, 35], 2: [0, 32, 34], 3: [0, 31, 33], 4: [11, 25, 29],5: [9, 10, 27], 6: [8, 12, 29], 7: [15, 24, 28], 8: [6, 17, 26], 9: [5, 11, 16],10: [5, 13, 28], 11: [4, 9, 14], 12: [6, 19, 24], 13: [10, 18, 25], 14: [11, 15, 20],15: [7, 14, 21], 16: [9, 17, 21], 17: [8, 16, 20], 18: [13, 23, 27], 19: [12, 23, 26], 20: [14, 17, 22], 21: [15, 16, 22], 22: [20, 21, 30],23: [18, 19, 30], 24: [7, 12, 32], 25: [4, 13, 31], 26: [8, 19, 32], 27: [5, 18, 31], 28: [7, 10, 34], 29: [4, 6, 33], 30: [1, 22, 23], 31: [3, 25, 27],32: [2, 24, 26], 33: [3, 29, 35], 34: [2, 28, 35], 35: [1, 33, 34]})\n",
    "graf_25159 = Graph({0: [1, 2, 3], 1: [0, 42, 43], 2: [0, 39, 40], 3: [0, 38, 41], 4: [9, 12, 13], 5: [8, 10, 11], 6: [7, 14, 16], 7: [6, 15, 17], 8: [5, 14, 15], 9: [4, 16, 17], 10: [5, 13, 18], 11: [5, 12, 19], 12: [4, 11, 18], 13: [4, 10, 19], 14: [6, 8, 20], 15: [7, 8, 21], 16: [6, 9, 21], 17: [7, 9, 20], 18: [10, 12, 22], 19: [11, 13, 23], 20: [14, 17, 25], 21: [15, 16, 24], 22: [18, 28, 29], 23: [19, 26, 27], 24: [21, 32, 33], 25: [20, 30, 31], 26: [23, 29, 34], 27: [23, 28, 35], 28: [22, 27, 34], 29: [22, 26, 35], 30: [25, 33, 37], 31: [25, 32, 36], 32: [24, 31, 37], 33: [24, 30, 36], 34: [26, 28, 38], 35: [27, 29, 39], 36: [31, 33, 41], 37: [30, 32, 40], 38: [3, 34, 43], 39: [2, 35, 42], 40: [2, 37, 43], 41: [3, 36, 42], 42: [1, 39, 41], 43: [1, 38, 40]})\n"
   ]
  },
  {
   "cell_type": "markdown",
   "id": "f90668",
   "metadata": {
    "collapsed": false
   },
   "source": [
    "Algoritem 1 za uvedbo 4\\-cikla na ročno izbranih povezavah:\n"
   ]
  },
  {
   "cell_type": "code",
   "execution_count": 144,
   "id": "db3bc2",
   "metadata": {
    "collapsed": false
   },
   "outputs": [
   ],
   "source": [
    "def rocno_algoritem_1(snark, a, b, c, d):\n",
    "    snark = snark.copy()\n",
    "    prvi_rob = (a, b)\n",
    "    drugi_rob = (c, d)\n",
    "    \n",
    "    n = snark.order()\n",
    "    # Preveri, ali povezavi obstajata\n",
    "    edges = list(snark.edges(labels=False))\n",
    "    \n",
    "    if prvi_rob not in edges and (b, a) not in edges and drugi_rob not in edges and (d, c) not in edges:\n",
    "        return f\"Povezava {prvi_rob} ni v grafu in povezava {drugi_rob} ni v grafu.\"\n",
    "    \n",
    "    if prvi_rob not in edges and (b, a) not in edges:\n",
    "        return f\"Povezava {prvi_rob} ni v grafu.\"\n",
    "    \n",
    "    if drugi_rob not in edges and (d, c) not in edges:\n",
    "        return f\"Povezava {drugi_rob} ni v grafu.\"\n",
    "    \n",
    "\n",
    "    \n",
    "    # Dodaj nove povezave\n",
    "    snark.add_edge(prvi_rob[0], n)\n",
    "    snark.add_edge(n, n+1)\n",
    "    snark.add_edge(n+1, prvi_rob[1])\n",
    "    \n",
    "    snark.add_edge(drugi_rob[0], n+2)\n",
    "    snark.add_edge(n+2, n+3)\n",
    "    snark.add_edge(n+3, drugi_rob[1])\n",
    "    \n",
    "    # Povezave med novimi vozlišči\n",
    "    snark.add_edge(n, n+2)\n",
    "    snark.add_edge(n+1, n+3)\n",
    "    \n",
    "    # Odstrani stare povezave\n",
    "\n",
    "    snark.delete_edge(prvi_rob)\n",
    "    snark.delete_edge(drugi_rob)\n",
    " \n",
    "    # Vrni kromatični indeks grafa\n",
    "    return snark.chromatic_index()\n"
   ]
  },
  {
   "cell_type": "code",
   "execution_count": 138,
   "id": "65afc8",
   "metadata": {
    "collapsed": false
   },
   "outputs": [
    {
     "data": {
      "image/png": "[encoded data removed]",
      "text/plain": [
       "Graphics object consisting of 26 graphics primitives"
      ]
     },
     "execution_count": 138,
     "metadata": {
     },
     "output_type": "execute_result"
    }
   ],
   "source": [
    "G.plot()"
   ]
  },
  {
   "cell_type": "code",
   "execution_count": 145,
   "id": "55054a",
   "metadata": {
    "collapsed": false
   },
   "outputs": [
    {
     "data": {
      "text/plain": [
       "4"
      ]
     },
     "execution_count": 145,
     "metadata": {
     },
     "output_type": "execute_result"
    }
   ],
   "source": [
    "rocno_algoritem_1(G, 0, 1, 1, 2)"
   ]
  },
  {
   "cell_type": "code",
   "execution_count": 140,
   "id": "8108cc",
   "metadata": {
    "collapsed": false
   },
   "outputs": [
    {
     "data": {
      "image/png": "[encoded data removed]",
      "text/plain": [
       "Graphics object consisting of 36 graphics primitives"
      ]
     },
     "execution_count": 140,
     "metadata": {
     },
     "output_type": "execute_result"
    }
   ],
   "source": [
    "G.plot()"
   ]
  },
  {
   "cell_type": "code",
   "execution_count": 146,
   "id": "abb945",
   "metadata": {
    "collapsed": false
   },
   "outputs": [
    {
     "data": {
      "text/plain": [
       "'Povezava (0, 3) ni v grafu.'"
      ]
     },
     "execution_count": 146,
     "metadata": {
     },
     "output_type": "execute_result"
    }
   ],
   "source": [
    "rocno_algoritem_1(G,0,3,5,7)"
   ]
  },
  {
   "cell_type": "code",
   "execution_count": 147,
   "id": "88c369",
   "metadata": {
    "collapsed": false
   },
   "outputs": [
    {
     "data": {
      "text/plain": [
       "3"
      ]
     },
     "execution_count": 147,
     "metadata": {
     },
     "output_type": "execute_result"
    }
   ],
   "source": [
    "rocno_algoritem_1(G,6,9,2,7)"
   ]
  },
  {
   "cell_type": "markdown",
   "id": "0f544f",
   "metadata": {
    "collapsed": false
   },
   "source": [
    "Zdaj pa algoritem 1 na naključnih povezavah:\n"
   ]
  },
  {
   "cell_type": "code",
   "execution_count": 148,
   "id": "4e8161",
   "metadata": {
    "collapsed": false
   },
   "outputs": [
   ],
   "source": [
    "import random\n",
    "\n",
    "def algoritem_1(snark):\n",
    "    snark = snark.copy()\n",
    "    # Izberemo prvi naključni rob iz grafa.\n",
    "    prvi_rob = random.choice(snark.edges())\n",
    "    # Izberemo drugi naključni rob, ki ni enak prvemu.\n",
    "    drugi_rob = random.choice([rob for rob in snark.edges() if rob != prvi_rob])\n",
    "    \n",
    "    n = snark.order()\n",
    "        \n",
    "    # Razširimo graf z dodajanjem novih vozlišč in povezav na prvem robu.\n",
    "    snark.add_edge(prvi_rob[0], n)\n",
    "    snark.add_edge(n, n+1)\n",
    "    snark.add_edge(n+1, prvi_rob[1])\n",
    "    \n",
    "    # Enako naredimo za drugi rob.\n",
    "    snark.add_edge(drugi_rob[0], n+2)\n",
    "    snark.add_edge(n+2, n+3)\n",
    "    snark.add_edge(n+3, drugi_rob[1])\n",
    "    \n",
    "    # Dodamo povezave med novimi vozlišči, da ustvarimo povezavo med razširitvami obeh robov.\n",
    "    snark.add_edge(n, n+2)\n",
    "    snark.add_edge(n+1, n+3)\n",
    "    \n",
    "    # Odstranimo prvotne povezave\n",
    "    snark.delete_edge(prvi_rob)\n",
    "    snark.delete_edge(drugi_rob)\n",
    "    \n",
    "    # Izračunamo in vrnemo kromatični indeks razširjenega grafa.\n",
    "    return [snark.chromatic_index(), prvi_rob, drugi_rob]"
   ]
  },
  {
   "cell_type": "code",
   "execution_count": 149,
   "id": "aa72db",
   "metadata": {
    "collapsed": false
   },
   "outputs": [
    {
     "data": {
      "text/plain": [
       "[4, (0, 1, None), (0, 4, None)]"
      ]
     },
     "execution_count": 149,
     "metadata": {
     },
     "output_type": "execute_result"
    }
   ],
   "source": [
    "algoritem_1(G)"
   ]
  },
  {
   "cell_type": "markdown",
   "id": "23696f",
   "metadata": {
    "collapsed": false
   },
   "source": [
    "Zdaj pa algoritem, ki k\\-krat ponovi algoritem\\_1:\n"
   ]
  },
  {
   "cell_type": "code",
   "execution_count": 150,
   "id": "8969f2",
   "metadata": {
    "collapsed": false
   },
   "outputs": [
   ],
   "source": [
    "import random\n",
    "\n",
    "def ponavljaj_algoritem_1(snark, k):\n",
    "    snark=snark.copy()\n",
    "    \"\"\"\n",
    "    Izvede algoritem_1 za transformacijo grafa k-krat.\n",
    "    \n",
    "    :param snark: Graf, ki predstavlja snark.\n",
    "    :param k: Število iteracij algoritma.\n",
    "    :return: Tuple (seznam kromatičnih indeksov, seznam odstranjenih robov).\n",
    "    \"\"\"\n",
    "    # Seznam za shranjevanje rezultatov\n",
    "    kromaticni_indeksi = []\n",
    "    odstranjeni_robovi = []\n",
    "    \n",
    "    # Za vsako iteracijo\n",
    "    for _ in range(k):\n",
    "        # Klic funkcije algoritem_1\n",
    "        krom_indeks, prvi_rob, drugi_rob = algoritem_1(snark)\n",
    "        \n",
    "        # Shranimo rezultat\n",
    "        kromaticni_indeksi.append(krom_indeks)\n",
    "        odstranjeni_robovi.append((prvi_rob, drugi_rob))\n",
    "    \n",
    "    # Vrni seznam vseh kromatičnih indeksov in seznam odstranjenih robov\n",
    "    return [(kromaticni_indeksi[i], odstranjeni_robovi[i]) for i in range(k)]\n",
    "\n",
    "\n",
    "\n"
   ]
  },
  {
   "cell_type": "code",
   "execution_count": 151,
   "id": "034148",
   "metadata": {
    "collapsed": false
   },
   "outputs": [
    {
     "data": {
      "text/plain": [
       "[(4, ((4, 9, None), (3, 4, None))),\n",
       " (3, ((1, 2, None), (5, 7, None))),\n",
       " (3, ((1, 2, None), (3, 4, None))),\n",
       " (3, ((4, 9, None), (0, 5, None))),\n",
       " (3, ((2, 7, None), (0, 1, None))),\n",
       " (4, ((6, 9, None), (7, 9, None))),\n",
       " (3, ((5, 8, None), (7, 9, None))),\n",
       " (4, ((5, 7, None), (5, 8, None))),\n",
       " (3, ((1, 2, None), (0, 4, None))),\n",
       " (3, ((0, 1, None), (6, 8, None))),\n",
       " (3, ((0, 4, None), (1, 6, None))),\n",
       " (3, ((0, 5, None), (6, 9, None))),\n",
       " (4, ((0, 5, None), (5, 7, None))),\n",
       " (3, ((6, 9, None), (2, 7, None))),\n",
       " (3, ((3, 8, None), (0, 1, None))),\n",
       " (3, ((3, 4, None), (2, 7, None))),\n",
       " (4, ((0, 4, None), (0, 5, None))),\n",
       " (3, ((1, 2, None), (7, 9, None))),\n",
       " (3, ((4, 9, None), (1, 6, None))),\n",
       " (4, ((1, 6, None), (6, 9, None))),\n",
       " (3, ((3, 8, None), (2, 7, None))),\n",
       " (3, ((6, 8, None), (2, 3, None))),\n",
       " (3, ((4, 9, None), (0, 1, None))),\n",
       " (3, ((3, 4, None), (0, 1, None))),\n",
       " (4, ((3, 8, None), (6, 8, None))),\n",
       " (3, ((1, 2, None), (3, 8, None))),\n",
       " (4, ((5, 7, None), (2, 7, None))),\n",
       " (3, ((2, 7, None), (6, 8, None))),\n",
       " (3, ((4, 9, None), (1, 6, None))),\n",
       " (3, ((5, 7, None), (6, 9, None))),\n",
       " (3, ((6, 8, None), (7, 9, None))),\n",
       " (3, ((1, 6, None), (7, 9, None))),\n",
       " (3, ((7, 9, None), (1, 2, None))),\n",
       " (3, ((5, 8, None), (1, 2, None))),\n",
       " (3, ((3, 8, None), (2, 7, None))),\n",
       " (3, ((0, 4, None), (1, 2, None))),\n",
       " (4, ((6, 8, None), (3, 8, None))),\n",
       " (3, ((2, 7, None), (0, 4, None))),\n",
       " (3, ((1, 6, None), (5, 8, None))),\n",
       " (3, ((6, 8, None), (4, 9, None))),\n",
       " (3, ((1, 2, None), (7, 9, None))),\n",
       " (3, ((2, 7, None), (0, 1, None))),\n",
       " (4, ((4, 9, None), (7, 9, None))),\n",
       " (3, ((0, 4, None), (5, 7, None))),\n",
       " (3, ((6, 9, None), (5, 7, None))),\n",
       " (3, ((2, 7, None), (4, 9, None))),\n",
       " (3, ((1, 6, None), (3, 8, None))),\n",
       " (3, ((7, 9, None), (1, 2, None))),\n",
       " (3, ((4, 9, None), (5, 7, None))),\n",
       " (3, ((0, 1, None), (3, 8, None)))]"
      ]
     },
     "execution_count": 151,
     "metadata": {
     },
     "output_type": "execute_result"
    }
   ],
   "source": [
    "ponavljaj_algoritem_1(G,50)"
   ]
  },
  {
   "cell_type": "markdown",
   "id": "484f1e",
   "metadata": {
    "collapsed": false
   },
   "source": [
    "Zdaj pa iteraijska koda, ki bo k\\-krat uvedla 4\\-cikel in za vsak korak zapisala kromatični indeks in povezave, kjer je to izvedla. Uporabi le algoritem 1.\n"
   ]
  },
  {
   "cell_type": "code",
   "execution_count": 152,
   "id": "c8343a",
   "metadata": {
    "collapsed": false
   },
   "outputs": [
   ],
   "source": [
    "import random\n",
    "\n",
    "def algoritem_1_iteracija(snark, k):\n",
    "    \"\"\"\n",
    "    Iterativno dodajanje 4-ciklov v graf (snark) in spremljanje kromatičnega indeksa.\n",
    "    Prav tako shranjuje uporabljene robove za vsako iteracijo.\n",
    "    \"\"\"\n",
    "    # Ustvarimo kopijo grafa, da originalni snark ostane nespremenjen\n",
    "    snark_copy = snark.copy()\n",
    "    \n",
    "    # Tabela za shranjevanje rezultatov\n",
    "    tabela_rezultatov = []\n",
    "\n",
    "    # Začetni kromatični indeks\n",
    "    tabela_rezultatov.append([snark_copy.chromatic_index(), None, None])\n",
    "\n",
    "    for i in range(k):\n",
    "        n = snark_copy.order()\n",
    "        # Izberemo prvi naključni rob iz grafa.\n",
    "        prvi_rob = random.choice(snark_copy.edges(labels=False))\n",
    "        # Izberemo drugi naključni rob, ki ni enak prvemu.\n",
    "        drugi_rob = random.choice([rob for rob in snark_copy.edges(labels=False) if rob != prvi_rob])\n",
    "\n",
    "        # Dodajanje novih vozlišč in povezav na prvem robu\n",
    "        u1, u2 = n, n+1\n",
    "        snark_copy.add_edge(prvi_rob[0], n)\n",
    "        snark_copy.add_edge(n, n+1)\n",
    "        snark_copy.add_edge(n+1, prvi_rob[1])\n",
    "\n",
    "        # Dodajanje novih vozlišč in povezav na drugem robu\n",
    "        v1, v2 = n+2, n+3\n",
    "        snark_copy.add_edge(drugi_rob[0], n+2)\n",
    "        snark_copy.add_edge(n+2, n+3)\n",
    "        snark_copy.add_edge(n+3, drugi_rob[1])\n",
    "\n",
    "        # Povezave med razširitvami obeh robov\n",
    "        snark_copy.add_edge(n, n+2)\n",
    "        snark_copy.add_edge(n+1, n+3)\n",
    "        \n",
    "        # Odstranimo prvotne povezave\n",
    "        snark_copy.delete_edge(prvi_rob)\n",
    "        snark_copy.delete_edge(drugi_rob)\n",
    "\n",
    "        # Izračun kromatičnega indeksa in shranjevanje v tabelo\n",
    "        krom_indeks = snark_copy.chromatic_index()\n",
    "        tabela_rezultatov.append([krom_indeks, prvi_rob, drugi_rob])\n",
    "\n",
    "    return tabela_rezultatov"
   ]
  },
  {
   "cell_type": "code",
   "execution_count": 153,
   "id": "dab482",
   "metadata": {
    "collapsed": false
   },
   "outputs": [
    {
     "data": {
      "text/plain": [
       "[[4, None, None],\n",
       " [3, (4, 9), (0, 5)],\n",
       " [3, (1, 6), (3, 4)],\n",
       " [3, (14, 15), (15, 17)],\n",
       " [3, (15, 20), (11, 13)],\n",
       " [3, (0, 12), (10, 11)],\n",
       " [3, (14, 16), (5, 8)],\n",
       " [3, (12, 13), (7, 9)],\n",
       " [3, (35, 37), (10, 28)],\n",
       " [3, (22, 23), (4, 17)],\n",
       " [3, (39, 41), (43, 45)],\n",
       " [3, (42, 44), (10, 40)],\n",
       " [3, (15, 22), (1, 14)],\n",
       " [3, (14, 57), (27, 29)],\n",
       " [3, (19, 21), (10, 12)],\n",
       " [3, (5, 7), (55, 57)],\n",
       " [3, (20, 21), (3, 16)],\n",
       " [3, (42, 43), (62, 63)],\n",
       " [3, (72, 73), (28, 41)],\n",
       " [3, (7, 36), (63, 65)],\n",
       " [3, (42, 74), (10, 64)]]"
      ]
     },
     "execution_count": 153,
     "metadata": {
     },
     "output_type": "execute_result"
    }
   ],
   "source": [
    "algoritem_1_iteracija(G, 20)"
   ]
  },
  {
   "cell_type": "code",
   "execution_count": 154,
   "id": "68f5f2",
   "metadata": {
    "collapsed": false
   },
   "outputs": [
    {
     "data": {
      "text/plain": [
       "[[4, None, None],\n",
       " [4, (6, 8), (3, 8)],\n",
       " [4, (3, 12), (3, 4)],\n",
       " [3, (10, 12), (6, 9)],\n",
       " [3, (5, 8), (4, 17)],\n",
       " [3, (4, 9), (9, 21)],\n",
       " [3, (19, 21), (14, 16)],\n",
       " [3, (9, 27), (12, 13)],\n",
       " [3, (5, 7), (17, 25)],\n",
       " [3, (6, 10), (24, 25)],\n",
       " [3, (18, 19), (12, 15)],\n",
       " [3, (25, 45), (38, 39)],\n",
       " [3, (26, 28), (0, 1)],\n",
       " [3, (4, 26), (1, 6)],\n",
       " [3, (16, 17), (32, 33)],\n",
       " [3, (2, 7), (59, 61)],\n",
       " [3, (18, 20), (9, 28)],\n",
       " [3, (8, 23), (1, 57)],\n",
       " [3, (71, 73), (33, 65)],\n",
       " [3, (19, 30), (16, 33)],\n",
       " [3, (61, 69), (54, 55)]]"
      ]
     },
     "execution_count": 154,
     "metadata": {
     },
     "output_type": "execute_result"
    }
   ],
   "source": [
    "algoritem_1_iteracija(G,20)"
   ]
  },
  {
   "cell_type": "markdown",
   "id": "2a7fc3",
   "metadata": {
    "collapsed": false
   },
   "source": [
    "Zdaj pa še Algoritem 2:\n"
   ]
  },
  {
   "cell_type": "code",
   "execution_count": 161,
   "id": "aee70f",
   "metadata": {
    "collapsed": false
   },
   "outputs": [
   ],
   "source": [
    "import random\n",
    "from random import shuffle\n",
    "\n",
    "def algoritem_2(snark):\n",
    "    \"\"\"\n",
    "    Transformira graf z določenim pravilom: odstrani dve vozlišči, doda štiri nova in jih poveže v 4-cikel.\n",
    "    \n",
    "    :param snark: Graf, ki predstavlja vhodni graf.\n",
    "    :return: kromatični indeks.\n",
    "    \"\"\"\n",
    "    # Kopiramo seznam povezav za varno iteracijo\n",
    "    povezave = snark.edges(labels=False)\n",
    "    n = snark.order()\n",
    "    \n",
    "    # Izberi naključno povezavo\n",
    "    a, b = random.choice(povezave)\n",
    "    \n",
    "    # Pridobi sosede vozlišč a in b (brez medsebojnih povezav)\n",
    "    sosedi_a = [v for v in snark.neighbors(a) if v != b]\n",
    "    sosedi_b = [v for v in snark.neighbors(b) if v != a]\n",
    "    \n",
    "    if len(sosedi_a) != 2 or len(sosedi_b) != 2:\n",
    "        raise ValueError(\"Vozlišči a in b nimata točno dveh drugih sosedov.\")\n",
    "    \n",
    "    a1, a2 = sosedi_a\n",
    "    b1, b2 = sosedi_b\n",
    "    \n",
    "    # Odstranimo vozlišča a in b\n",
    "    snark.delete_vertices([a, b])\n",
    "    \n",
    "    # Dodamo nova vozlišča\n",
    "    nova_vozlisca = [n, n+1, n+2, n+3]\n",
    "    snark.add_vertices(nova_vozlisca)\n",
    "    \n",
    "    # Povežemo nova vozlišča z ustreznimi starimi\n",
    "    snark.add_edge(a1, n)\n",
    "    snark.add_edge(a2, n+1)\n",
    "    snark.add_edge(b1, n+2)\n",
    "    snark.add_edge(b2, n+3)\n",
    "    \n",
    "    # Povezave v naključnem 4-ciklu\n",
    "    random.shuffle(nova_vozlisca)\n",
    "    snark.add_edges([(nova_vozlisca[i], nova_vozlisca[(i + 1) % 4]) for i in range(4)])\n",
    "    \n",
    "    # Preverimo kromatični indeks\n",
    "    krom_indeks = snark.chromatic_index()\n",
    "    \n",
    "    return krom_indeks, (a,b)\n"
   ]
  },
  {
   "cell_type": "code",
   "execution_count": 162,
   "id": "9b6042",
   "metadata": {
    "collapsed": false
   },
   "outputs": [
    {
     "data": {
      "text/plain": [
       "(3, (2, 7))"
      ]
     },
     "execution_count": 162,
     "metadata": {
     },
     "output_type": "execute_result"
    }
   ],
   "source": [
    "algoritem_2(G)"
   ]
  },
  {
   "cell_type": "code",
   "execution_count": 163,
   "id": "27b505",
   "metadata": {
    "collapsed": false
   },
   "outputs": [
    {
     "data": {
      "image/png": "[encoded data removed]",
      "text/plain": [
       "Graphics object consisting of 31 graphics primitives"
      ]
     },
     "execution_count": 163,
     "metadata": {
     },
     "output_type": "execute_result"
    }
   ],
   "source": [
    "G.plot()"
   ]
  },
  {
   "cell_type": "markdown",
   "id": "44f401",
   "metadata": {
    "collapsed": false
   },
   "source": [
    "Algoritem, ki k\\_krat požene kodo algoritem\\_2 na osnovnem snarku. Gledamo toraj le prvo uvedbo 4 cikla.\n"
   ]
  },
  {
   "cell_type": "code",
   "execution_count": 158,
   "id": "4fc7d6",
   "metadata": {
    "collapsed": false
   },
   "outputs": [
   ],
   "source": [
    "import random\n",
    "from random import shuffle\n",
    "\n",
    "def ponavljaj_algoritem_2(snark, k):\n",
    "    snark=snark.copy()\n",
    "    \"\"\"\n",
    "    Izvede algoritem za transformacijo grafa z dodajanjem 4-ciklov k-krat.\n",
    "    \n",
    "    :param snark: Graf, ki predstavlja snark.\n",
    "    :param k: Število iteracij algoritma.\n",
    "    :return: Tuple (seznam kromatičnih indeksov, seznam odstranjenih oglišč).\n",
    "    \"\"\"\n",
    "    # Seznam za shranjevanje rezultatov\n",
    "    kromaticni_indeksi = []\n",
    "    odstranjena_vozlisca = []\n",
    "    \n",
    "    # Za vsako iteracijo\n",
    "    for _ in range(k):\n",
    "        # Klic funkcije algoritem_2\n",
    "        krom_indeks, odstranjenje = algoritem_2(snark)\n",
    "        \n",
    "        # Shranimo rezultat\n",
    "        kromaticni_indeksi.append(krom_indeks)\n",
    "        odstranjena_vozlisca.append(odstranjenje)\n",
    "    \n",
    "    # Vrni seznam vseh kromatičnih indeksov in seznam odstranjenih vozlišč\n",
    "    return [(kromaticni_indeksi[i], odstranjena_vozlisca[i]) for i in range(k)]\n",
    "\n",
    "# Zagon funkcije z vašim grafom snark in številom k iteracij\n",
    "# Primer: iteriraj_algoritem_2(graf, 5) za 5 iteracij\n"
   ]
  },
  {
   "cell_type": "code",
   "execution_count": 159,
   "id": "967b16",
   "metadata": {
    "collapsed": false
   },
   "outputs": [
    {
     "data": {
      "text/plain": [
       "[(3, (5, 8)),\n",
       " (3, (0, 4)),\n",
       " (3, (4, 9)),\n",
       " (3, (5, 7)),\n",
       " (3, (5, 8)),\n",
       " (3, (1, 2)),\n",
       " (3, (6, 9)),\n",
       " (3, (1, 2)),\n",
       " (3, (6, 8)),\n",
       " (3, (1, 6)),\n",
       " (3, (3, 8)),\n",
       " (3, (3, 8)),\n",
       " (3, (7, 9)),\n",
       " (3, (5, 8)),\n",
       " (3, (6, 8)),\n",
       " (3, (1, 6)),\n",
       " (3, (5, 7)),\n",
       " (3, (7, 9)),\n",
       " (3, (6, 8)),\n",
       " (3, (1, 6)),\n",
       " (3, (6, 8)),\n",
       " (3, (3, 8)),\n",
       " (3, (3, 8)),\n",
       " (3, (0, 1)),\n",
       " (3, (6, 8)),\n",
       " (3, (0, 5)),\n",
       " (3, (0, 5)),\n",
       " (3, (6, 9)),\n",
       " (3, (1, 2)),\n",
       " (3, (0, 5)),\n",
       " (3, (2, 3)),\n",
       " (3, (0, 4)),\n",
       " (3, (2, 3)),\n",
       " (3, (4, 9)),\n",
       " (3, (2, 7)),\n",
       " (3, (2, 7)),\n",
       " (3, (1, 6)),\n",
       " (3, (4, 9)),\n",
       " (3, (4, 9)),\n",
       " (3, (3, 4)),\n",
       " (3, (7, 9)),\n",
       " (3, (5, 7)),\n",
       " (3, (0, 1)),\n",
       " (3, (7, 9)),\n",
       " (3, (3, 4)),\n",
       " (3, (0, 1)),\n",
       " (3, (1, 2)),\n",
       " (3, (1, 6)),\n",
       " (3, (1, 2)),\n",
       " (3, (2, 3))]"
      ]
     },
     "execution_count": 159,
     "metadata": {
     },
     "output_type": "execute_result"
    }
   ],
   "source": [
    "ponavljaj_algoritem_2(G,50)"
   ]
  },
  {
   "cell_type": "markdown",
   "id": "b627a3",
   "metadata": {
    "collapsed": false
   },
   "source": [
    "Zdaj pa iteracijska koda:\n"
   ]
  },
  {
   "cell_type": "code",
   "execution_count": 167,
   "id": "202575",
   "metadata": {
    "collapsed": false
   },
   "outputs": [
   ],
   "source": [
    "import random\n",
    "\n",
    "def iteriraj_algoritem_2(snark, k):\n",
    "    snark = snark.copy()\n",
    "    \"\"\"\n",
    "    Izvede algoritem za transformacijo grafa z dodajanjem 4-ciklov k-krat.\n",
    "    \n",
    "    :param snark: Graf, ki predstavlja snark.\n",
    "    :param k: Število iteracij algoritma.\n",
    "    :return: Tabela s seznamom iteracij, odstranjenih vozlišč in kromatičnim indeksom.\n",
    "    \"\"\"\n",
    "    odstranjena_vozlisca = [\"None\"]  # Seznam za shranjevanje odstranjenih vozlišč\n",
    "    kromaticni_indeksi = [snark.chromatic_index()]\n",
    "    n = snark.order()  # Trenutno število vozlišč\n",
    "\n",
    "    for _ in range(k):\n",
    "        # Kopiraj seznam povezav\n",
    "        povezave = snark.edges(labels=False)\n",
    "\n",
    "        # Izberi naključno povezavo\n",
    "        a, b = random.choice(povezave)\n",
    "\n",
    "        # Pridobi sosede a in b (brez medsebojnih povezav)\n",
    "        sosedi_a = [v for v in snark.neighbors(a) if v != b]\n",
    "        sosedi_b = [v for v in snark.neighbors(b) if v != a]\n",
    "\n",
    "        if len(sosedi_a) != 2 or len(sosedi_b) != 2:\n",
    "            raise ValueError(f\"Vozlišči {a} in {b} nimata točno dveh drugih sosedov.\")\n",
    "\n",
    "        a1, a2 = sosedi_a\n",
    "        b1, b2 = sosedi_b\n",
    "\n",
    "        # Odstrani povezavo (a, b) in vozlišča a, b\n",
    "        snark.delete_edge((a, b))\n",
    "        snark.delete_vertices([a, b])\n",
    "\n",
    "        # Dodaj štiri nova vozlišča\n",
    "        nova_vozlisca = [n, n+1, n+2, n+3]\n",
    "        snark.add_vertices(nova_vozlisca)\n",
    "\n",
    "        # Poveži nova vozlišča z obstoječimi\n",
    "        snark.add_edge(a1, n)\n",
    "        snark.add_edge(a2, n+1)\n",
    "        snark.add_edge(b1, n+2)\n",
    "        snark.add_edge(b2, n+3)\n",
    "\n",
    "        # Naključni 4-cikel\n",
    "        random.shuffle(nova_vozlisca)\n",
    "        snark.add_edges([(nova_vozlisca[i], nova_vozlisca[(i + 1) % 4]) for i in range(4)])\n",
    "\n",
    "        # Dodaj odstranjena vozlišča in kromatični indeks v sezname\n",
    "        odstranjena_vozlisca.append((a, b))\n",
    "        kromaticni_indeksi.append(snark.chromatic_index())\n",
    "\n",
    "        # Posodobi indeks za nova vozlišča\n",
    "        n += 4\n",
    "\n",
    "        # Preveri kubičnost\n",
    "        for v in snark.vertices():\n",
    "            if snark.degree(v) != 3:\n",
    "                raise ValueError(f\"Vozlišče {v} nima stopnje 3. Graf ni več kubičen.\")\n",
    "\n",
    "        # Pripravi podatke za tabelo\n",
    "        tabela = [(i, odstranjena_vozlisca[i], kromaticni_indeksi[i]) for i in range(len(odstranjena_vozlisca))]\n",
    "    \n",
    "    return tabela"
   ]
  },
  {
   "cell_type": "code",
   "execution_count": 168,
   "id": "329eb8",
   "metadata": {
    "collapsed": false
   },
   "outputs": [
    {
     "data": {
      "text/plain": [
       "[(0, 'None', 4),\n",
       " (1, (1, 2), 3),\n",
       " (2, (6, 8), 3),\n",
       " (3, (15, 17), 3),\n",
       " (4, (3, 12), 3),\n",
       " (5, (7, 13), 3),\n",
       " (6, (4, 9), 3),\n",
       " (7, (27, 29), 3),\n",
       " (8, (10, 11), 3),\n",
       " (9, (32, 33), 3),\n",
       " (10, (44, 45), 3),\n",
       " (11, (24, 25), 3),\n",
       " (12, (0, 5), 3),\n",
       " (13, (42, 43), 3),\n",
       " (14, (16, 18), 3),\n",
       " (15, (50, 52), 3),\n",
       " (16, (22, 23), 3),\n",
       " (17, (20, 56), 3),\n",
       " (18, (70, 73), 3),\n",
       " (19, (80, 81), 3),\n",
       " (20, (51, 53), 3)]"
      ]
     },
     "execution_count": 168,
     "metadata": {
     },
     "output_type": "execute_result"
    }
   ],
   "source": [
    "iteriraj_algoritem_2(G,20)"
   ]
  },
  {
   "cell_type": "code",
   "execution_count": 0,
   "id": "f7fbc0",
   "metadata": {
    "collapsed": false
   },
   "outputs": [
   ],
   "source": [
    "Za na konec pa algoritem, ki naključno izbere algoritem_1 ali algoritem_2:"
   ]
  },
  {
   "cell_type": "code",
   "execution_count": 174,
   "id": "efa2aa",
   "metadata": {
    "collapsed": false
   },
   "outputs": [
   ],
   "source": [
   ]
  }
 ],
 "metadata": {
  "kernelspec": {
   "argv": [
    "sage-10.4",
    "--python",
    "-m",
    "sage.repl.ipython_kernel",
    "--matplotlib=inline",
    "-f",
    "{connection_file}"
   ],
   "display_name": "SageMath 10.4",
   "env": {
   },
   "language": "sagemath",
   "metadata": {
    "cocalc": {
     "description": "Open-source mathematical software system",
     "priority": 10,
     "url": "https://www.sagemath.org/"
    }
   },
   "name": "sage-10.4",
   "resource_dir": "/ext/jupyter/kernels/sage-10.4"
  }
 },
 "nbformat": 4,
 "nbformat_minor": 4
}