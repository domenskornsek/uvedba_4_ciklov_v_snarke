{
 "cells": [
  {
   "cell_type": "code",
   "execution_count": 3,
   "id": "4661ae",
   "metadata": {
    "collapsed": false
   },
   "outputs": [
   ],
   "source": [
    "import random\n",
    "\n",
    "def nakljucni_robovi_kromaticni_indeks(snark, n):\n",
    "    \"\"\"\n",
    "    Iterativno dodajanje 4-ciklov v graf (snark) in spremljanje kromatičnega indeksa.\n",
    "    Prav tako shranjuje uporabljene robove za vsako iteracijo.\n",
    "    \"\"\"\n",
    "    # Ustvarimo kopijo grafa, da originalni snark ostane nespremenjen\n",
    "    snark_copy = snark.copy()\n",
    "\n",
    "    # Tabela za shranjevanje rezultatov\n",
    "    tabela_rezultatov = []\n",
    "\n",
    "    # Začetni kromatični indeks\n",
    "    tabela_rezultatov.append([snark_copy.chromatic_index(), None, None])\n",
    "\n",
    "    for i in range(n):\n",
    "        # Izberemo prvi naključni rob iz grafa.\n",
    "        prvi_rob = random.choice(snark_copy.edges(labels=False))\n",
    "        # Izberemo drugi naključni rob, ki ni enak prvemu.\n",
    "        drugi_rob = random.choice([rob for rob in snark_copy.edges(labels=False) if rob != prvi_rob])\n",
    "\n",
    "        # Dodajanje novih vozlišč in povezav na prvem robu\n",
    "        u1, u2 = f'u1_{i}', f'u2_{i}'\n",
    "        snark_copy.add_edge(prvi_rob[0], u1)\n",
    "        snark_copy.add_edge(u1, u2)\n",
    "        snark_copy.add_edge(u2, prvi_rob[1])\n",
    "\n",
    "        # Dodajanje novih vozlišč in povezav na drugem robu\n",
    "        v1, v2 = f'v1_{i}', f'v2_{i}'\n",
    "        snark_copy.add_edge(drugi_rob[0], v1)\n",
    "        snark_copy.add_edge(v1, v2)\n",
    "        snark_copy.add_edge(v2, drugi_rob[1])\n",
    "\n",
    "        # Povezave med razširitvami obeh robov\n",
    "        snark_copy.add_edge(u1, v1)\n",
    "        snark_copy.add_edge(u2, v2)\n",
    "\n",
    "        # Izračun kromatičnega indeksa in shranjevanje v tabelo\n",
    "        krom_indeks = snark_copy.chromatic_index()\n",
    "        tabela_rezultatov.append([krom_indeks, prvi_rob, drugi_rob])\n",
    "\n",
    "    return tabela_rezultatov"
   ]
  }
 ],
 "metadata": {
  "kernelspec": {
   "argv": [
    "sage-10.4",
    "--python",
    "-m",
    "sage.repl.ipython_kernel",
    "--matplotlib=inline",
    "-f",
    "{connection_file}"
   ],
   "display_name": "SageMath 10.4",
   "env": {
   },
   "language": "sagemath",
   "metadata": {
    "cocalc": {
     "description": "Open-source mathematical software system",
     "priority": 10,
     "url": "https://www.sagemath.org/"
    }
   },
   "name": "sage-10.4",
   "resource_dir": "/ext/jupyter/kernels/sage-10.4"
  },
  "language_info": {
   "codemirror_mode": {
    "name": "ipython",
    "version": 3
   },
   "file_extension": ".py",
   "mimetype": "text/x-python",
   "name": "python",
   "nbconvert_exporter": "python",
   "pygments_lexer": "ipython3",
   "version": "3.12.4"
  }
 },
 "nbformat": 4,
 "nbformat_minor": 4
}