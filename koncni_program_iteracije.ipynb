{
 "cells": [
  {
   "cell_type": "code",
   "execution_count": 3,
   "id": "1d4aa0",
   "metadata": {
    "collapsed": false
   },
   "outputs": [
   ],
   "source": [
    "import random\n",
    "\n",
    "def kromaticni_indeks(snark, iteracija):\n",
    "    n = snark.order()\n",
    "    krom_indeks = []\n",
    "    rob = []\n",
    "    \n",
    "    indeks1 = snark.chromatic_index()\n",
    "    krom_indeks.append(indeks1)\n",
    "    \n",
    "    for _ in range(1,iteracija):\n",
    "        nak_pov1 = random.choice(snark.edges(labels = False))\n",
    "        nak_pov2 = random.choice([edge for edge in snark.edges(labels = False) if edge != nak_pov1])\n",
    "        \n",
    "        snark.add_edge(nak_pov1[0], n )\n",
    "        snark.add_edge(n + 1, nak_pov1[1])\n",
    "        snark.add_edge(n , n + 1)\n",
    "        \n",
    "        snark.add_edge(nak_pov2[0], n + 2)\n",
    "        snark.add_edge(n + 3, nak_pov2[1])\n",
    "        snark.add_edge(n + 2, n + 3)\n",
    "        \n",
    "        snark.add_edge(n, n + 2)\n",
    "        snark.add_edge(n + 1, n + 3)\n",
    "        snark.delete_edge(nak_pov1[0], nak_pov1[1])\n",
    "        snark.delete_edge(nak_pov2[0], nak_pov2[1])\n",
    "        \n",
    "        n = snark.order()\n",
    "        indeks = snark.chromatic_index()\n",
    "        krom_indeks.append(indeks)\n",
    "        rob.append(nak_pov1)\n",
    "        rob.append(nak_pov2)\n",
    "    \n",
    "    return krom_indeks, rob"
   ]
  },
  {
   "cell_type": "code",
   "execution_count": 0,
   "id": "a0943f",
   "metadata": {
    "collapsed": false
   },
   "outputs": [
   ],
   "source": [
   ]
  }
 ],
 "metadata": {
  "kernelspec": {
   "argv": [
    "sage-10.4",
    "--python",
    "-m",
    "sage.repl.ipython_kernel",
    "--matplotlib=inline",
    "-f",
    "{connection_file}"
   ],
   "display_name": "SageMath 10.4",
   "env": {
   },
   "language": "sagemath",
   "metadata": {
    "cocalc": {
     "description": "Open-source mathematical software system",
     "priority": 10,
     "url": "https://www.sagemath.org/"
    }
   },
   "name": "sage-10.4",
   "resource_dir": "/ext/jupyter/kernels/sage-10.4"
  },
  "language_info": {
   "codemirror_mode": {
    "name": "ipython",
    "version": 3
   },
   "file_extension": ".py",
   "mimetype": "text/x-python",
   "name": "python",
   "nbconvert_exporter": "python",
   "pygments_lexer": "ipython3",
   "version": "3.12.4"
  }
 },
 "nbformat": 4,
 "nbformat_minor": 4
}