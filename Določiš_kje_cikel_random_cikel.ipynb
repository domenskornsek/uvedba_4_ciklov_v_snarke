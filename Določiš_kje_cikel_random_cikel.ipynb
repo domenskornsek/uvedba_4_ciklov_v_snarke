{
 "cells": [
  {
   "cell_type": "markdown",
   "id": "b34267",
   "metadata": {
    "collapsed": false
   },
   "source": [
    "<span style='font-size:xx-large'>**PROJEKT PRI FINANČNEM PRAKTIKUMU V POVEZAVI Z OPERACIJSKIMI RAZISKAVAMI**</span>\n"
   ]
  },
  {
   "cell_type": "markdown",
   "id": "b80ba7",
   "metadata": {
    "collapsed": false
   },
   "source": [
    "Definirava nekaj snarkov, na katerih bova uporabila najin algoritem.\n"
   ]
  },
  {
   "cell_type": "code",
   "execution_count": 3,
   "id": "37f82b",
   "metadata": {
    "collapsed": false
   },
   "outputs": [
   ],
   "source": [
    "G = graphs.PetersenGraph()\n",
    "blanusa_snark_1 = Graph({\n",
    "    0: [1, 5, 6], 1: [0, 2, 7], 2: [1, 3, 8], 3: [2, 4, 9],\n",
    "    4: [3, 5, 10], 5: [0, 4, 11], 6: [0, 8, 10], 7: [1, 9, 11],\n",
    "    8: [2, 6, 11], 9: [3, 7, 10], 10: [4, 6, 9], 11: [5, 7, 8]\n",
    "})\n",
    "blanusa_snark_2 = Graph({\n",
    "    0: [1, 4, 5], 1: [0, 2, 6], 2: [1, 3, 7], 3: [2, 4, 8],\n",
    "    4: [0, 3, 9], 5: [0, 7, 8], 6: [1, 8, 9], 7: [2, 5, 9],\n",
    "    8: [3, 5, 6], 9: [4, 6, 7]\n",
    "})\n",
    "tietze_snark = Graph({\n",
    "    0: [1, 2, 3], 1: [0, 4, 5], 2: [0, 6, 7], 3: [0, 8, 9],\n",
    "    4: [1, 6, 10], 5: [1, 7, 11], 6: [2, 4, 12], 7: [2, 5, 13],\n",
    "    8: [3, 10, 12], 9: [3, 11, 13], 10: [4, 8, 14], 11: [5, 9, 15],\n",
    "    12: [6, 8, 14], 13: [7, 9, 15], 14: [10, 12, 15], 15: [11, 13, 14]\n",
    "})\n",
    "celmins_swart_snark_1 = Graph({0: [1, 2, 3], 1: [0, 23, 25], 2: [0, 21, 24], 3: [0, 20, 22],4: [8, 12, 14], 5: [6, 8, 13], 6: [5, 9, 14], 7: [10, 11, 15],8: [4, 5, 18], 9: [6, 10, 18], 10: [7, 9, 17], 11: [7, 19, 22],12: [4, 13, 25], 13: [5, 12, 21], 14: [4, 6, 21], 15: [7, 16, 20],16: [15, 17, 22], 17: [10, 16, 23], 18: [8, 9, 23], 19: [11, 20, 24],20: [3, 15, 19], 21: [2, 13, 14], 22: [3, 11, 16], 23: [1, 17, 18],24: [2, 19, 25], 25: [1, 12, 24]})\n",
    "celmins_swart_snark_2 = Graph({0: [1, 2, 3], 1: [0, 21, 25], 2: [0, 22, 23], 3: [0, 20, 24],4: [5, 6, 9], 5: [4, 13, 16], 6: [4, 12, 17], 7: [8, 11, 17],8: [7, 12, 19], 9: [4, 10, 14], 10: [9, 11, 16], 11: [7, 10, 18], 12: [6, 8, 15], 13: [5, 14, 15], 14: [9, 13, 23], 15: [12, 13, 20],16: [5, 10, 21], 17: [6, 7, 20], 18: [11, 19, 21], 19: [8, 18, 22],20: [3, 15, 17], 21: [1, 16, 18], 22: [2, 19, 25], 23: [2, 14, 24],24: [3, 23, 25], 25: [1, 22, 24]})\n",
    "double_star_snark = Graph({0: [1, 2, 3], 1: [0, 24, 27], 2: [0, 26, 29], 3: [0, 25, 28],4: [7, 8, 15], 5: [6, 11, 14], 6: [5, 10, 15], 7: [4, 9, 14],8: [4, 12, 16], 9: [7, 13, 17], 10: [6, 12, 17], 11: [5, 13, 16],12: [8, 10, 20], 13: [9, 11, 21], 14: [5, 7, 26], 15: [4, 6, 25],16: [8, 11, 27], 17: [9, 10, 27], 18: [21, 23, 29], 19: [20, 22, 28],20: [12, 19, 29], 21: [13, 18, 28], 22: [19, 24, 26], 23: [18, 24, 25],24: [1, 22, 23], 25: [3, 15, 23], 26: [2, 14, 22], 27: [1, 16, 17],28: [3, 19, 21], 29: [2, 18, 20]})\n",
    "flower_snark_j5 = Graph({0: [1, 2, 3], 1: [0, 14, 15], 2: [0, 17, 19], 3: [0, 16, 18],4: [7, 8, 9], 5: [6, 10, 11], 6: [5, 9, 14], 7: [4, 10, 15],8: [4, 11, 16], 9: [4, 6, 17], 10: [5, 7, 19], 11: [5, 8, 18],12: [14, 18, 19], 13: [15, 16, 17], 14: [1, 6, 12], 15: [1, 7, 13],16: [3, 8, 13], 17: [2, 9, 13], 18: [3, 11, 12], 19: [2, 10, 12]})\n",
    "flower_snark_j7 = Graph({0: [1, 2, 3], 1: [0, 22, 23], 2: [0, 25, 27], 3: [0, 24, 26],4: [7, 8, 12], 5: [6, 9, 12], 6: [5, 11, 13], 7: [4, 10, 13],8: [4, 14, 18], 9: [5, 14, 21], 10: [7, 15, 20], 11: [6, 15, 19],12: [4, 5, 17], 13: [6, 7, 16], 14: [8, 9, 26], 15: [10, 11, 27],16: [13, 17, 27], 17: [12, 16, 26], 18: [8, 22, 24], 19: [11, 22, 25],20: [10, 23, 25], 21: [9, 23, 24], 22: [1, 18, 19], 23: [1, 20, 21],24: [3, 18, 21], 25: [2, 19, 20], 26: [3, 14, 17], 27: [2, 15, 16]})\n",
    "goldberg_snark_3 = Graph({0: [1, 2, 3], 1: [0, 18, 20], 2: [0, 19, 21], 3: [0, 22, 23], 4: [5, 8, 13],5: [4, 9, 14], 6: [7, 10, 15], 7: [6, 11, 12], 8: [4, 12, 16],9: [5, 15, 17], 10: [6, 14, 17], 11: [7, 13, 16], 12: [7, 8, 21],13: [4, 11, 18], 14: [5, 10, 19], 15: [6, 9, 20], 16: [8, 11, 23],19: [9, 10, 22], 18: [1, 13, 19], 19: [2, 14, 18], 20: [1, 15, 21],21: [2, 12, 20], 22: [3, 17, 23], 23: [3, 16, 22]})\n",
    "goldberg_snark_5 = Graph({0: [1, 2, 3], 1: [0, 34, 39], 2: [0, 35, 37], 3: [0, 36, 38],4: [26, 27, 33], 5: [24, 25, 32], 6: [22, 23, 25], 7: [13, 14, 24],8: [23, 30, 31], 9: [10, 11, 22], 10: [11, 18, 21], 11: [9, 19, 20],12: [13, 16, 27], 13: [7, 12, 15], 14: [7, 16, 28], 15: [13, 19, 28],16: [12, 14, 21], 17: [20, 29, 30], 18: [10, 19, 31], 19: [11, 15, 18],20: [11, 17, 21], 21: [10, 16, 20], 22: [6, 9, 24], 23: [6, 8, 29],24: [5, 7, 22], 25: [5, 6, 39], 26: [4, 32, 37], 27: [4, 12, 35],28: [14, 15, 37], 29: [17, 23, 36], 30: [8, 17, 34], 31: [8, 18, 36],32: [5, 26, 35], 33: [4, 34, 38], 34: [1, 30, 33], 35: [2, 27, 32],36: [3, 29, 31], 37: [2, 26, 28], 38: [3, 33, 39], 39: [1, 25, 38]})\n",
    "loupekines_snark_1 = Graph({0: [1, 2, 3], 1: [0, 16, 21], 2: [0, 18, 20], 3: [0, 17, 19],4: [10, 12, 14], 5: [11, 13, 15], 6: [9, 12, 15], 7: [8, 13, 14],8: [7, 10, 16], 9: [6, 11, 16], 10: [4, 8, 17], 11: [5, 9, 18],12: [4, 6, 18], 13: [5, 7, 17], 14: [4, 7, 20], 15: [5, 6, 19],16: [1, 8, 9], 17: [3, 10, 13], 18: [2, 11, 12], 19: [3, 15, 21],20: [2, 14, 21], 21: [1, 19, 20]})\n",
    "loupekines_snark_2 = Graph({0: [1, 2, 3], 1: [0, 16, 21], 2: [0, 18, 20], 3: [0, 17, 19],4: [8, 10, 14], 5: [9, 11, 15], 6: [7, 12, 15], 7: [6, 13, 14],8: [4, 13, 16], 9: [5, 12, 16], 10: [4, 11, 17], 11: [5, 10, 18],12: [6, 9, 18], 13: [7, 8, 17], 14: [4, 7, 20], 15: [5, 6, 19],16: [1, 8, 9], 17: [3, 10, 13], 18: [2, 11, 12], 19: [3, 15, 21],20: [2, 14, 21], 21: [1, 19, 20]})\n",
    "snark_2760 = Graph({0: [1, 2, 3], 1: [0, 15, 17], 2: [0, 14, 16], 3: [0, 12, 13], 4: [5, 9, 11],5: [4, 7, 8], 6: [7, 9, 12], 7: [5, 6, 13], 8: [5, 10, 12], 9: [4, 6, 16],10: [8, 13, 17], 11: [4, 14, 15], 12: [3, 6, 8], 13: [3, 7, 10], 14: [2, 11, 17],15: [1, 11, 16], 16: [2, 9, 15], 17: [1, 10, 14]})\n",
    "snark_3337 = Graph({0: [1, 2, 3], 1: [0, 29, 32], 2: [0, 28, 33], 3: [0, 30, 31], 4: [12, 14, 18],5: [13, 15, 19], 6: [11, 14, 16], 7: [10, 15, 17], 8: [9, 26, 27], 9: [8, 16, 17],10: [7, 13, 20], 11: [6, 12, 21], 12: [4, 11, 23], 13: [5, 10, 22],14: [4, 6, 24], 15: [5, 7, 25], 16: [6, 9, 23], 17: [7, 9, 22], 18: [4, 21, 25],19: [5, 20, 24], 20: [10, 19, 31], 21: [11, 18, 30], 22: [13, 17, 31],23: [12, 16, 30], 24: [14, 19, 29], 25: [15, 18, 28], 26: [8, 29, 33], 27: [8, 28, 32], 28: [2, 25, 27], 29: [1, 24, 26], 30: [3, 21, 23], 31: [3, 20, 22], 32: [1, 27, 33], 33: [2, 26, 32]})\n",
    "snark_3363 = Graph({0: [1, 2, 3], 1: [0, 30, 35], 2: [0, 32, 34], 3: [0, 31, 33], 4: [11, 25, 29],5: [9, 10, 27], 6: [8, 12, 29], 7: [15, 24, 28], 8: [6, 17, 26], 9: [5, 11, 16],10: [5, 13, 28], 11: [4, 9, 14], 12: [6, 19, 24], 13: [10, 18, 25], 14: [11, 15, 20],15: [7, 14, 21], 16: [9, 17, 21], 17: [8, 16, 20], 18: [13, 23, 27], 19: [12, 23, 26], 20: [14, 17, 22], 21: [15, 16, 22], 22: [20, 21, 30],23: [18, 19, 30], 24: [7, 12, 32], 25: [4, 13, 31], 26: [8, 19, 32], 27: [5, 18, 31], 28: [7, 10, 34], 29: [4, 6, 33], 30: [1, 22, 23], 31: [3, 25, 27],32: [2, 24, 26], 33: [3, 29, 35], 34: [2, 28, 35], 35: [1, 33, 34]})\n",
    "graf_25159 = Graph({0: [1, 2, 3], 1: [0, 42, 43], 2: [0, 39, 40], 3: [0, 38, 41], 4: [9, 12, 13], 5: [8, 10, 11], 6: [7, 14, 16], 7: [6, 15, 17], 8: [5, 14, 15], 9: [4, 16, 17], 10: [5, 13, 18], 11: [5, 12, 19], 12: [4, 11, 18], 13: [4, 10, 19], 14: [6, 8, 20], 15: [7, 8, 21], 16: [6, 9, 21], 17: [7, 9, 20], 18: [10, 12, 22], 19: [11, 13, 23], 20: [14, 17, 25], 21: [15, 16, 24], 22: [18, 28, 29], 23: [19, 26, 27], 24: [21, 32, 33], 25: [20, 30, 31], 26: [23, 29, 34], 27: [23, 28, 35], 28: [22, 27, 34], 29: [22, 26, 35], 30: [25, 33, 37], 31: [25, 32, 36], 32: [24, 31, 37], 33: [24, 30, 36], 34: [26, 28, 38], 35: [27, 29, 39], 36: [31, 33, 41], 37: [30, 32, 40], 38: [3, 34, 43], 39: [2, 35, 42], 40: [2, 37, 43], 41: [3, 36, 42], 42: [1, 39, 41], 43: [1, 38, 40]})"
   ]
  },
  {
   "cell_type": "markdown",
   "id": "3bb028",
   "metadata": {
    "collapsed": false
   },
   "source": [
    "Sedaj sva napisala algoritem, ki vpelje 4\\-cikle po prvem načinu v snark in pogleda, kako to vpliva na kromatični indeks. Funkcija kot argumente sprejme snark, na katerem bova vpeljala 4\\-cikel, potem pa še zaporedna vozlišča, ki nama bodo dali robove, na katere bomo dodajali vozlišča u1, u2, v1 in v2. Funkcija na koncu vrne kromatični indeks novo nastalega grafa.\n",
    "\n"
   ]
  },
  {
   "cell_type": "code",
   "execution_count": 5,
   "id": "97a3bc",
   "metadata": {
    "collapsed": false
   },
   "outputs": [
   ],
   "source": [
    "def spremenjen_kromaticni_indeks(snark, a, b, c, d):\n",
    "    \n",
    "    # Prvi rob, ki ga bomo razdelili, označimo kot (a, b) in nanj dodamo vozlišči 'u1' in 'u2'.\n",
    "    prvi_rob = (a, b)\n",
    "    snark.add_edge(prvi_rob[0], 'u1')\n",
    "    snark.add_edge('u1', 'u2')\n",
    "    snark.add_edge('u2', prvi_rob[1])\n",
    "    \n",
    "    # Drugi rob za razdelitev označimo kot (c, d) ter nanj dodamo vozlišči 'v1' in 'v2'.\n",
    "    drugi_rob = (c, d)\n",
    "    snark.add_edge(drugi_rob[0], 'v1')\n",
    "    snark.add_edge('v1', 'v2')\n",
    "    snark.add_edge('v2', drugi_rob[1])\n",
    "    \n",
    "    # Povežemo vmesna vozlišča med obema razdeljenima robovoma.\n",
    "    snark.add_edge('u1', 'v1')\n",
    "    snark.add_edge('u2', 'v2')\n",
    "    \n",
    "    # Vrni kromatični indeks grafa po spremembi.\n",
    "    return snark.chromatic_index()"
   ]
  },
  {
   "cell_type": "markdown",
   "id": "e6685f",
   "metadata": {
    "collapsed": false
   },
   "source": [
    "Algoritem bova sedaj testirala na definiranih snarkih.\n",
    "\n"
   ]
  },
  {
   "cell_type": "code",
   "execution_count": 0,
   "id": "15594d",
   "metadata": {
    "collapsed": false
   },
   "outputs": [
   ],
   "source": [
   ]
  },
  {
   "cell_type": "markdown",
   "id": "b83c43",
   "metadata": {
    "collapsed": false
   },
   "source": [
    "Sedaj si bova ogledala še primer, ko robova, kamor dodamo vozlišči ne izbereva midva, pač pa to stori algoritem naključno. Sedaj kot argument sprejme le enega izmed definiranih snarkov.\n"
   ]
  },
  {
   "cell_type": "code",
   "execution_count": 1,
   "id": "126424",
   "metadata": {
    "collapsed": false
   },
   "outputs": [
   ],
   "source": [
    "import random\n",
    "\n",
    "def nakljucni_robovi_kromaticni_indeks(snark):\n",
    "    \n",
    "    # Izberemo prvi naključni rob iz grafa.\n",
    "    prvi_rob = random.choice(snark.edges())\n",
    "    # Izberemo drugi naključni rob, ki ni enak prvemu.\n",
    "    drugi_rob = random.choice([rob for rob in snark.edges() if rob != prvi_rob])\n",
    "    \n",
    "    # Razširimo graf z dodajanjem novih vozlišč in povezav na prvem robu.\n",
    "    snark.add_edge(prvi_rob[0], 'u1')\n",
    "    snark.add_edge('u1', 'u2')\n",
    "    snark.add_edge('u2', prvi_rob[1])\n",
    "    \n",
    "    # Enako naredimo za drugi rob.\n",
    "    snark.add_edge(drugi_rob[0], 'v1')\n",
    "    snark.add_edge('v1', 'v2')\n",
    "    snark.add_edge('v2', drugi_rob[1])\n",
    "    \n",
    "    # Dodamo povezave med novimi vozlišči, da ustvarimo povezavo med razširitvami obeh robov.\n",
    "    snark.add_edge('u1', 'v1')\n",
    "    snark.add_edge('u2', 'v2')\n",
    "    \n",
    "    # Izračunamo in vrnemo kromatični indeks razširjenega grafa.\n",
    "    return snark.chromatic_index()"
   ]
  },
  {
   "cell_type": "markdown",
   "id": "3a9e3d",
   "metadata": {
    "collapsed": false
   },
   "source": [
    "Spet testirava zapisan algoritem na najinih snarkih, da vidiva, kaj se zgodi s kromatičnim indeksom.\n"
   ]
  },
  {
   "cell_type": "code",
   "execution_count": 0,
   "id": "e51fd2",
   "metadata": {
    "collapsed": false
   },
   "outputs": [
   ],
   "source": [
   ]
  }
 ],
 "metadata": {
  "kernelspec": {
   "argv": [
    "sage-10.4",
    "--python",
    "-m",
    "sage.repl.ipython_kernel",
    "--matplotlib=inline",
    "-f",
    "{connection_file}"
   ],
   "display_name": "SageMath 10.4",
   "env": {
   },
   "language": "sagemath",
   "metadata": {
    "cocalc": {
     "description": "Open-source mathematical software system",
     "priority": 10,
     "url": "https://www.sagemath.org/"
    }
   },
   "name": "sage-10.4",
   "resource_dir": "/ext/jupyter/kernels/sage-10.4"
  },
  "language_info": {
   "codemirror_mode": {
    "name": "ipython",
    "version": 3
   },
   "file_extension": ".py",
   "mimetype": "text/x-python",
   "name": "python",
   "nbconvert_exporter": "python",
   "pygments_lexer": "ipython3",
   "version": "3.12.4"
  }
 },
 "nbformat": 4,
 "nbformat_minor": 4
}